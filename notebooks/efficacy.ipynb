{
 "cells": [
  {
   "cell_type": "code",
   "execution_count": 1,
   "metadata": {},
   "outputs": [],
   "source": [
    "from openai import OpenAI"
   ]
  },
  {
   "cell_type": "code",
   "execution_count": 2,
   "metadata": {},
   "outputs": [],
   "source": [
    "openai_api_key = \"EMPTY\"\n",
    "openai_api_base = \"http://localhost:8000/v1\"\n",
    "\n",
    "client = OpenAI(\n",
    "    api_key=openai_api_key,\n",
    "    base_url=openai_api_base,\n",
    ")"
   ]
  },
  {
   "cell_type": "code",
   "execution_count": 3,
   "metadata": {},
   "outputs": [],
   "source": [
    "chat_response = client.chat.completions.create(\n",
    "    model=\"meta-llama/Meta-Llama-3-70B-Instruct\",\n",
    "    messages=[\n",
    "        {\"role\": \"system\", \"content\": \"You are a helpful assistant.\"},\n",
    "        {\"role\": \"user\", \"content\": \"Tell me about Samuel L. Jackson.\"},\n",
    "    ]\n",
    ")"
   ]
  },
  {
   "cell_type": "code",
   "execution_count": 4,
   "metadata": {},
   "outputs": [
    {
     "name": "stdout",
     "output_type": "stream",
     "text": [
      "Chat response: ChatCompletion(id='chatcmpl-8bd37a8503de41419b58626a796a0cfe', choices=[Choice(finish_reason='stop', index=0, logprobs=None, message=ChatCompletionMessage(content='Samuel L. Jackson! One of the most iconic and beloved actors of our time. Here are some fascinating facts about this talented individual:\\n\\n**Early Life**\\n\\nSamuel Leroy Jackson was born on December 21, 1948, in Washington, D.C. He grew up in Chattanooga, Tennessee, and was raised by his mother, Elizabeth, a factory worker, and his maternal grandparents. Jackson attended Morehouse College in Atlanta, Georgia, where he became involved in the Black Power movement and was a member of the Omega Psi Phi fraternity.\\n\\n**Career**\\n\\nJackson began his acting career in the early 1970s, appearing in various stage productions and small film roles. His breakthrough came in 1991 with Spike Lee\\'s film \"Jungle Fever,\" which earned him a special jury prize for best supporting actor at the Cannes Film Festival.\\n\\nSome of his most notable roles include:\\n\\n1. **Ezekiel 25:17**: In Quentin Tarantino\\'s \"Pulp Fiction\" (1994), Jackson played the role of Jules Winnfield, a philosophical hitman who recites a memorable Bible verse.\\n2. **Mace Windu**: In the \"Star Wars\" prequel trilogy (1999-2005), Jackson played the purple-lightsaber-wielding Jedi Master Mace Windu.\\n3. **Nick Fury**: Jackson brought the Marvel Comics character to life in the Marvel Cinematic Universe (MCU), starting with \"Iron Man\" (2008) and appearing in multiple films, including \"The Avengers\" (2012) and \"Avengers: Endgame\" (2019).\\n4. **Unbreakable**: In M. Night Shyamalan\\'s \"Unbreakable\" (2000), Jackson played Elijah Price, a fragile and enigmatic character with a rare bone disorder.\\n5. **Django Unchained**: In Quentin Tarantino\\'s western epic (2012), Jackson played Stephen, a loyal and cunning house slave.\\n\\n**Awards and Accolades**\\n\\nThroughout his career, Jackson has received numerous awards and nominations, including:\\n\\n* Academy Award nomination for Best Supporting Actor for \"Pulp Fiction\" (1995)\\n* Golden Globe nomination for Best Supporting Actor for \"A Time to Kill\" (1996)\\n* BAFTA Award for Best Actor in a Supporting Role for \"Pulp Fiction\" (1995)\\n* Star on the Hollywood Walk of Fame (2006)\\n\\n**Personal Life**\\n\\nJackson is married to actress LaTanya Richardson, and they have a daughter, Zoe. He is an avid golfer and has been involved in various philanthropic efforts, including supporting education and the arts.\\n\\n**Fun Facts**\\n\\n* Jackson has appeared in over 150 films and TV shows, making him one of the most prolific actors of all time.\\n* He is a self-proclaimed \"comic book nerd\" and has a vast collection of comic books and action figures.\\n* Jackson has been open about his struggles with addiction and has been sober since 1990.\\n\\nSamuel L. Jackson is a true Hollywood legend, known for his incredible range, charisma, and dedication to his craft. His iconic performances have left an indelible mark on popular culture, and he continues to inspire new generations of actors and fans alike.', refusal=None, role='assistant', function_call=None, tool_calls=[]), stop_reason=None)], created=1732117161, model='meta-llama/Meta-Llama-3-70B-Instruct', object='chat.completion', service_tier=None, system_fingerprint=None, usage=CompletionUsage(completion_tokens=661, prompt_tokens=29, total_tokens=690, completion_tokens_details=None, prompt_tokens_details=None), prompt_logprobs=None)\n",
      "Generated response: Samuel L. Jackson! One of the most iconic and beloved actors of our time. Here are some fascinating facts about this talented individual:\n",
      "\n",
      "**Early Life**\n",
      "\n",
      "Samuel Leroy Jackson was born on December 21, 1948, in Washington, D.C. He grew up in Chattanooga, Tennessee, and was raised by his mother, Elizabeth, a factory worker, and his maternal grandparents. Jackson attended Morehouse College in Atlanta, Georgia, where he became involved in the Black Power movement and was a member of the Omega Psi Phi fraternity.\n",
      "\n",
      "**Career**\n",
      "\n",
      "Jackson began his acting career in the early 1970s, appearing in various stage productions and small film roles. His breakthrough came in 1991 with Spike Lee's film \"Jungle Fever,\" which earned him a special jury prize for best supporting actor at the Cannes Film Festival.\n",
      "\n",
      "Some of his most notable roles include:\n",
      "\n",
      "1. **Ezekiel 25:17**: In Quentin Tarantino's \"Pulp Fiction\" (1994), Jackson played the role of Jules Winnfield, a philosophical hitman who recites a memorable Bible verse.\n",
      "2. **Mace Windu**: In the \"Star Wars\" prequel trilogy (1999-2005), Jackson played the purple-lightsaber-wielding Jedi Master Mace Windu.\n",
      "3. **Nick Fury**: Jackson brought the Marvel Comics character to life in the Marvel Cinematic Universe (MCU), starting with \"Iron Man\" (2008) and appearing in multiple films, including \"The Avengers\" (2012) and \"Avengers: Endgame\" (2019).\n",
      "4. **Unbreakable**: In M. Night Shyamalan's \"Unbreakable\" (2000), Jackson played Elijah Price, a fragile and enigmatic character with a rare bone disorder.\n",
      "5. **Django Unchained**: In Quentin Tarantino's western epic (2012), Jackson played Stephen, a loyal and cunning house slave.\n",
      "\n",
      "**Awards and Accolades**\n",
      "\n",
      "Throughout his career, Jackson has received numerous awards and nominations, including:\n",
      "\n",
      "* Academy Award nomination for Best Supporting Actor for \"Pulp Fiction\" (1995)\n",
      "* Golden Globe nomination for Best Supporting Actor for \"A Time to Kill\" (1996)\n",
      "* BAFTA Award for Best Actor in a Supporting Role for \"Pulp Fiction\" (1995)\n",
      "* Star on the Hollywood Walk of Fame (2006)\n",
      "\n",
      "**Personal Life**\n",
      "\n",
      "Jackson is married to actress LaTanya Richardson, and they have a daughter, Zoe. He is an avid golfer and has been involved in various philanthropic efforts, including supporting education and the arts.\n",
      "\n",
      "**Fun Facts**\n",
      "\n",
      "* Jackson has appeared in over 150 films and TV shows, making him one of the most prolific actors of all time.\n",
      "* He is a self-proclaimed \"comic book nerd\" and has a vast collection of comic books and action figures.\n",
      "* Jackson has been open about his struggles with addiction and has been sober since 1990.\n",
      "\n",
      "Samuel L. Jackson is a true Hollywood legend, known for his incredible range, charisma, and dedication to his craft. His iconic performances have left an indelible mark on popular culture, and he continues to inspire new generations of actors and fans alike.\n"
     ]
    }
   ],
   "source": [
    "print(\"Chat response:\", chat_response)\n",
    "print(\"Generated response:\", chat_response.choices[0].message.content)"
   ]
  },
  {
   "cell_type": "code",
   "execution_count": 5,
   "metadata": {},
   "outputs": [],
   "source": [
    "DATASET_PATH = \"/net/projects/veitch/prompt_distributions/data/rewrites/helpsteer_complexity_dataset_20240921_213510.json\""
   ]
  },
  {
   "cell_type": "code",
   "execution_count": 6,
   "metadata": {},
   "outputs": [],
   "source": [
    "import json\n",
    "\n",
    "with open(DATASET_PATH, 'r') as f:\n",
    "    dataset = json.load(f)"
   ]
  },
  {
   "cell_type": "code",
   "execution_count": 7,
   "metadata": {},
   "outputs": [
    {
     "data": {
      "text/plain": [
       "{'w_original': False,\n",
       " 'completions': {'original': \"To build an assistive device to help an elderly person with basic needs, one must consider three crucial things: safety, compatibility, and ease of use. Safety is paramount, as the device must not cause harm to the user. Compatibility with the user's environment and other devices is also essential. Finally, the device must be simple enough for the elderly person to operate.\",\n",
       "  'rewrite': \"When designing an assistive apparatus intended to aid an elderly individual in fulfilling fundamental requirements, three pivotal considerations must be meticulously evaluated: safety, compatibility, and ease of use. Safety takes precedence as the foremost concern, ensuring that the device does not inadvertently pose any risk or harm to the user. Equally important is the device's compatibility, encompassing seamless integration within the user's existing environment and interoperability with other technological devices they may utilize. Lastly, the device must exhibit a level of simplicity in its operation, ensuring it remains accessible and user-friendly for the elderly individual, thereby facilitating ease of use without causing confusion or frustration.\",\n",
       "  'rewritten rewrite': \"When designing a device to help an elderly person meet basic needs, three main things must be carefully considered: safety, compatibility, and ease of use. Safety is the top priority, ensuring the device does not accidentally cause harm to the user. Compatibility is also important, meaning the device should fit well into the user's current environment and work with other technology they use. Finally, the device should be simple to operate, making it easy and user-friendly for the elderly person, so they can use it without confusion or frustration.\"},\n",
       " 'reward_question': 'What are the three most important things to consider when deciding what technology to use to build an assist device to help an elderly person with basic needs?'}"
      ]
     },
     "execution_count": 7,
     "metadata": {},
     "output_type": "execute_result"
    }
   ],
   "source": [
    "dataset['0']"
   ]
  },
  {
   "cell_type": "code",
   "execution_count": null,
   "metadata": {},
   "outputs": [
    {
     "name": "stdout",
     "output_type": "stream",
     "text": [
      "A\n",
      "Accuracy:  0.01\n"
     ]
    }
   ],
   "source": [
    "prompt = \"{text} Please rate the above text as either {w_1} or {w_0}. Don't add any additional information: \\n A: {w_1}\\n B: {w_0} \\nAnswer: \"\n",
    "\n",
    "w_1 = \"complex\"\n",
    "w_0 = \"not complex\"\n",
    "\n",
    "n_examples = 10\n",
    "correct = 0\n",
    "failure_to_answer = 0\n",
    "for value in list(dataset.values())[:n_examples]:\n",
    "    correct_answer = \"A\" if not value['w_original'] else \"B\"\n",
    "    chat_response = client.chat.completions.create(\n",
    "        model=\"meta-llama/Meta-Llama-3-70B-Instruct\",\n",
    "        messages=[\n",
    "            {\"role\": \"system\", \"content\": \"You are a helpful assistant.\"},\n",
    "            {\"role\": \"user\", \"content\": prompt.format(text=value['completions']['rewrite'], w_1=w_1, w_0=w_0)},\n",
    "        ],\n",
    "        max_tokens=1,\n",
    "    )\n",
    "    generated_text = chat_response.choices[0].message.content\n",
    "    model_answer = generated_text[-1]\n",
    "    print(generated_text)\n",
    "    if model_answer == correct_answer:\n",
    "        correct += 1\n",
    "    if model_answer not in {\"A\", \"B\"}:\n",
    "        failure_to_answer += 1\n",
    "print(\"Accuracy: \", correct/(n_examples - failure_to_answer))\n"
   ]
  }
 ],
 "metadata": {
  "kernelspec": {
   "display_name": "rate",
   "language": "python",
   "name": "python3"
  },
  "language_info": {
   "codemirror_mode": {
    "name": "ipython",
    "version": 3
   },
   "file_extension": ".py",
   "mimetype": "text/x-python",
   "name": "python",
   "nbconvert_exporter": "python",
   "pygments_lexer": "ipython3",
   "version": "3.12.7"
  }
 },
 "nbformat": 4,
 "nbformat_minor": 2
}
