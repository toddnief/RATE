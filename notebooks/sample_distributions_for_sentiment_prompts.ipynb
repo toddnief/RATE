{
 "cells": [
  {
   "cell_type": "code",
   "execution_count": 28,
   "id": "11fa9e4a-4dfc-49d2-ac92-fd27b649d4a3",
   "metadata": {},
   "outputs": [],
   "source": [
    "import json\n",
    "import os"
   ]
  },
  {
   "cell_type": "code",
   "execution_count": 30,
   "id": "3968d075-90f5-45fb-86f8-bf1d53e478ff",
   "metadata": {},
   "outputs": [
    {
     "name": "stdout",
     "output_type": "stream",
     "text": [
      "[{'adjective': ' perfect', 'sentiment': 'positive', 'flipped_sentiment': 'negative', 'baseline_query': \"Finish this review:\\nI thought this movie was perfect, I loved it. The movie's genre of \", 'conditional_query': \"Finish this review with negative sentiment:\\nI thought this movie was perfect, I loved it. The movie's genre of \", 'interventional_query': \"Rewrite this review with negative sentiment while maintaining the sentence structure, then finish the review:\\nI thought this movie was perfect, I loved it. The movie's genre of \"}, {'adjective': ' fantastic', 'sentiment': 'positive', 'flipped_sentiment': 'negative', 'baseline_query': \"Finish this review:\\nI thought this movie was fantastic, I loved it. The movie's genre of \", 'conditional_query': \"Finish this review with negative sentiment:\\nI thought this movie was fantastic, I loved it. The movie's genre of \", 'interventional_query': \"Rewrite this review with negative sentiment while maintaining the sentence structure, then finish the review:\\nI thought this movie was fantastic, I loved it. The movie's genre of \"}, {'adjective': ' delightful', 'sentiment': 'positive', 'flipped_sentiment': 'negative', 'baseline_query': \"Finish this review:\\nI thought this movie was delightful, I loved it. The movie's genre of \", 'conditional_query': \"Finish this review with negative sentiment:\\nI thought this movie was delightful, I loved it. The movie's genre of \", 'interventional_query': \"Rewrite this review with negative sentiment while maintaining the sentence structure, then finish the review:\\nI thought this movie was delightful, I loved it. The movie's genre of \"}, {'adjective': ' cheerful', 'sentiment': 'positive', 'flipped_sentiment': 'negative', 'baseline_query': \"Finish this review:\\nI thought this movie was cheerful, I loved it. The movie's genre of \", 'conditional_query': \"Finish this review with negative sentiment:\\nI thought this movie was cheerful, I loved it. The movie's genre of \", 'interventional_query': \"Rewrite this review with negative sentiment while maintaining the sentence structure, then finish the review:\\nI thought this movie was cheerful, I loved it. The movie's genre of \"}, {'adjective': ' marvelous', 'sentiment': 'positive', 'flipped_sentiment': 'negative', 'baseline_query': \"Finish this review:\\nI thought this movie was marvelous, I loved it. The movie's genre of \", 'conditional_query': \"Finish this review with negative sentiment:\\nI thought this movie was marvelous, I loved it. The movie's genre of \", 'interventional_query': \"Rewrite this review with negative sentiment while maintaining the sentence structure, then finish the review:\\nI thought this movie was marvelous, I loved it. The movie's genre of \"}, {'adjective': ' good', 'sentiment': 'positive', 'flipped_sentiment': 'negative', 'baseline_query': \"Finish this review:\\nI thought this movie was good, I loved it. The movie's genre of \", 'conditional_query': \"Finish this review with negative sentiment:\\nI thought this movie was good, I loved it. The movie's genre of \", 'interventional_query': \"Rewrite this review with negative sentiment while maintaining the sentence structure, then finish the review:\\nI thought this movie was good, I loved it. The movie's genre of \"}, {'adjective': ' remarkable', 'sentiment': 'positive', 'flipped_sentiment': 'negative', 'baseline_query': \"Finish this review:\\nI thought this movie was remarkable, I loved it. The movie's genre of \", 'conditional_query': \"Finish this review with negative sentiment:\\nI thought this movie was remarkable, I loved it. The movie's genre of \", 'interventional_query': \"Rewrite this review with negative sentiment while maintaining the sentence structure, then finish the review:\\nI thought this movie was remarkable, I loved it. The movie's genre of \"}, {'adjective': ' wonderful', 'sentiment': 'positive', 'flipped_sentiment': 'negative', 'baseline_query': \"Finish this review:\\nI thought this movie was wonderful, I loved it. The movie's genre of \", 'conditional_query': \"Finish this review with negative sentiment:\\nI thought this movie was wonderful, I loved it. The movie's genre of \", 'interventional_query': \"Rewrite this review with negative sentiment while maintaining the sentence structure, then finish the review:\\nI thought this movie was wonderful, I loved it. The movie's genre of \"}, {'adjective': ' fabulous', 'sentiment': 'positive', 'flipped_sentiment': 'negative', 'baseline_query': \"Finish this review:\\nI thought this movie was fabulous, I loved it. The movie's genre of \", 'conditional_query': \"Finish this review with negative sentiment:\\nI thought this movie was fabulous, I loved it. The movie's genre of \", 'interventional_query': \"Rewrite this review with negative sentiment while maintaining the sentence structure, then finish the review:\\nI thought this movie was fabulous, I loved it. The movie's genre of \"}, {'adjective': ' outstanding', 'sentiment': 'positive', 'flipped_sentiment': 'negative', 'baseline_query': \"Finish this review:\\nI thought this movie was outstanding, I loved it. The movie's genre of \", 'conditional_query': \"Finish this review with negative sentiment:\\nI thought this movie was outstanding, I loved it. The movie's genre of \", 'interventional_query': \"Rewrite this review with negative sentiment while maintaining the sentence structure, then finish the review:\\nI thought this movie was outstanding, I loved it. The movie's genre of \"}, {'adjective': ' awesome', 'sentiment': 'positive', 'flipped_sentiment': 'negative', 'baseline_query': \"Finish this review:\\nI thought this movie was awesome, I loved it. The movie's genre of \", 'conditional_query': \"Finish this review with negative sentiment:\\nI thought this movie was awesome, I loved it. The movie's genre of \", 'interventional_query': \"Rewrite this review with negative sentiment while maintaining the sentence structure, then finish the review:\\nI thought this movie was awesome, I loved it. The movie's genre of \"}, {'adjective': ' exceptional', 'sentiment': 'positive', 'flipped_sentiment': 'negative', 'baseline_query': \"Finish this review:\\nI thought this movie was exceptional, I loved it. The movie's genre of \", 'conditional_query': \"Finish this review with negative sentiment:\\nI thought this movie was exceptional, I loved it. The movie's genre of \", 'interventional_query': \"Rewrite this review with negative sentiment while maintaining the sentence structure, then finish the review:\\nI thought this movie was exceptional, I loved it. The movie's genre of \"}, {'adjective': ' incredible', 'sentiment': 'positive', 'flipped_sentiment': 'negative', 'baseline_query': \"Finish this review:\\nI thought this movie was incredible, I loved it. The movie's genre of \", 'conditional_query': \"Finish this review with negative sentiment:\\nI thought this movie was incredible, I loved it. The movie's genre of \", 'interventional_query': \"Rewrite this review with negative sentiment while maintaining the sentence structure, then finish the review:\\nI thought this movie was incredible, I loved it. The movie's genre of \"}, {'adjective': ' extraordinary', 'sentiment': 'positive', 'flipped_sentiment': 'negative', 'baseline_query': \"Finish this review:\\nI thought this movie was extraordinary, I loved it. The movie's genre of \", 'conditional_query': \"Finish this review with negative sentiment:\\nI thought this movie was extraordinary, I loved it. The movie's genre of \", 'interventional_query': \"Rewrite this review with negative sentiment while maintaining the sentence structure, then finish the review:\\nI thought this movie was extraordinary, I loved it. The movie's genre of \"}, {'adjective': ' amazing', 'sentiment': 'positive', 'flipped_sentiment': 'negative', 'baseline_query': \"Finish this review:\\nI thought this movie was amazing, I loved it. The movie's genre of \", 'conditional_query': \"Finish this review with negative sentiment:\\nI thought this movie was amazing, I loved it. The movie's genre of \", 'interventional_query': \"Rewrite this review with negative sentiment while maintaining the sentence structure, then finish the review:\\nI thought this movie was amazing, I loved it. The movie's genre of \"}, {'adjective': ' lovely', 'sentiment': 'positive', 'flipped_sentiment': 'negative', 'baseline_query': \"Finish this review:\\nI thought this movie was lovely, I loved it. The movie's genre of \", 'conditional_query': \"Finish this review with negative sentiment:\\nI thought this movie was lovely, I loved it. The movie's genre of \", 'interventional_query': \"Rewrite this review with negative sentiment while maintaining the sentence structure, then finish the review:\\nI thought this movie was lovely, I loved it. The movie's genre of \"}, {'adjective': ' brilliant', 'sentiment': 'positive', 'flipped_sentiment': 'negative', 'baseline_query': \"Finish this review:\\nI thought this movie was brilliant, I loved it. The movie's genre of \", 'conditional_query': \"Finish this review with negative sentiment:\\nI thought this movie was brilliant, I loved it. The movie's genre of \", 'interventional_query': \"Rewrite this review with negative sentiment while maintaining the sentence structure, then finish the review:\\nI thought this movie was brilliant, I loved it. The movie's genre of \"}, {'adjective': ' charming', 'sentiment': 'positive', 'flipped_sentiment': 'negative', 'baseline_query': \"Finish this review:\\nI thought this movie was charming, I loved it. The movie's genre of \", 'conditional_query': \"Finish this review with negative sentiment:\\nI thought this movie was charming, I loved it. The movie's genre of \", 'interventional_query': \"Rewrite this review with negative sentiment while maintaining the sentence structure, then finish the review:\\nI thought this movie was charming, I loved it. The movie's genre of \"}, {'adjective': ' terrific', 'sentiment': 'positive', 'flipped_sentiment': 'negative', 'baseline_query': \"Finish this review:\\nI thought this movie was terrific, I loved it. The movie's genre of \", 'conditional_query': \"Finish this review with negative sentiment:\\nI thought this movie was terrific, I loved it. The movie's genre of \", 'interventional_query': \"Rewrite this review with negative sentiment while maintaining the sentence structure, then finish the review:\\nI thought this movie was terrific, I loved it. The movie's genre of \"}, {'adjective': ' superb', 'sentiment': 'positive', 'flipped_sentiment': 'negative', 'baseline_query': \"Finish this review:\\nI thought this movie was superb, I loved it. The movie's genre of \", 'conditional_query': \"Finish this review with negative sentiment:\\nI thought this movie was superb, I loved it. The movie's genre of \", 'interventional_query': \"Rewrite this review with negative sentiment while maintaining the sentence structure, then finish the review:\\nI thought this movie was superb, I loved it. The movie's genre of \"}, {'adjective': ' spectacular', 'sentiment': 'positive', 'flipped_sentiment': 'negative', 'baseline_query': \"Finish this review:\\nI thought this movie was spectacular, I loved it. The movie's genre of \", 'conditional_query': \"Finish this review with negative sentiment:\\nI thought this movie was spectacular, I loved it. The movie's genre of \", 'interventional_query': \"Rewrite this review with negative sentiment while maintaining the sentence structure, then finish the review:\\nI thought this movie was spectacular, I loved it. The movie's genre of \"}, {'adjective': ' great', 'sentiment': 'positive', 'flipped_sentiment': 'negative', 'baseline_query': \"Finish this review:\\nI thought this movie was great, I loved it. The movie's genre of \", 'conditional_query': \"Finish this review with negative sentiment:\\nI thought this movie was great, I loved it. The movie's genre of \", 'interventional_query': \"Rewrite this review with negative sentiment while maintaining the sentence structure, then finish the review:\\nI thought this movie was great, I loved it. The movie's genre of \"}, {'adjective': ' splendid', 'sentiment': 'positive', 'flipped_sentiment': 'negative', 'baseline_query': \"Finish this review:\\nI thought this movie was splendid, I loved it. The movie's genre of \", 'conditional_query': \"Finish this review with negative sentiment:\\nI thought this movie was splendid, I loved it. The movie's genre of \", 'interventional_query': \"Rewrite this review with negative sentiment while maintaining the sentence structure, then finish the review:\\nI thought this movie was splendid, I loved it. The movie's genre of \"}, {'adjective': ' beautiful', 'sentiment': 'positive', 'flipped_sentiment': 'negative', 'baseline_query': \"Finish this review:\\nI thought this movie was beautiful, I loved it. The movie's genre of \", 'conditional_query': \"Finish this review with negative sentiment:\\nI thought this movie was beautiful, I loved it. The movie's genre of \", 'interventional_query': \"Rewrite this review with negative sentiment while maintaining the sentence structure, then finish the review:\\nI thought this movie was beautiful, I loved it. The movie's genre of \"}, {'adjective': ' joyful', 'sentiment': 'positive', 'flipped_sentiment': 'negative', 'baseline_query': \"Finish this review:\\nI thought this movie was joyful, I loved it. The movie's genre of \", 'conditional_query': \"Finish this review with negative sentiment:\\nI thought this movie was joyful, I loved it. The movie's genre of \", 'interventional_query': \"Rewrite this review with negative sentiment while maintaining the sentence structure, then finish the review:\\nI thought this movie was joyful, I loved it. The movie's genre of \"}, {'adjective': ' positive', 'sentiment': 'positive', 'flipped_sentiment': 'negative', 'baseline_query': \"Finish this review:\\nI thought this movie was positive, I loved it. The movie's genre of \", 'conditional_query': \"Finish this review with negative sentiment:\\nI thought this movie was positive, I loved it. The movie's genre of \", 'interventional_query': \"Rewrite this review with negative sentiment while maintaining the sentence structure, then finish the review:\\nI thought this movie was positive, I loved it. The movie's genre of \"}]\n",
      "[{'adjective': ' dreadful', 'sentiment': 'negative', 'flipped_sentiment': 'positive', 'baseline_query': \"Finish this review:\\nI thought this movie was dreadful, I hated it. The movie's genre of \", 'conditional_query': \"Finish this review with positive sentiment:\\nI thought this movie was dreadful, I hated it. The movie's genre of \", 'interventional_query': \"Rewrite this review with positive sentiment while maintaining the sentence structure, then finish the review:\\nI thought this movie was dreadful, I hated it. The movie's genre of \"}, {'adjective': ' bad', 'sentiment': 'negative', 'flipped_sentiment': 'positive', 'baseline_query': \"Finish this review:\\nI thought this movie was bad, I hated it. The movie's genre of \", 'conditional_query': \"Finish this review with positive sentiment:\\nI thought this movie was bad, I hated it. The movie's genre of \", 'interventional_query': \"Rewrite this review with positive sentiment while maintaining the sentence structure, then finish the review:\\nI thought this movie was bad, I hated it. The movie's genre of \"}, {'adjective': ' dull', 'sentiment': 'negative', 'flipped_sentiment': 'positive', 'baseline_query': \"Finish this review:\\nI thought this movie was dull, I hated it. The movie's genre of \", 'conditional_query': \"Finish this review with positive sentiment:\\nI thought this movie was dull, I hated it. The movie's genre of \", 'interventional_query': \"Rewrite this review with positive sentiment while maintaining the sentence structure, then finish the review:\\nI thought this movie was dull, I hated it. The movie's genre of \"}, {'adjective': ' depressing', 'sentiment': 'negative', 'flipped_sentiment': 'positive', 'baseline_query': \"Finish this review:\\nI thought this movie was depressing, I hated it. The movie's genre of \", 'conditional_query': \"Finish this review with positive sentiment:\\nI thought this movie was depressing, I hated it. The movie's genre of \", 'interventional_query': \"Rewrite this review with positive sentiment while maintaining the sentence structure, then finish the review:\\nI thought this movie was depressing, I hated it. The movie's genre of \"}, {'adjective': ' miserable', 'sentiment': 'negative', 'flipped_sentiment': 'positive', 'baseline_query': \"Finish this review:\\nI thought this movie was miserable, I hated it. The movie's genre of \", 'conditional_query': \"Finish this review with positive sentiment:\\nI thought this movie was miserable, I hated it. The movie's genre of \", 'interventional_query': \"Rewrite this review with positive sentiment while maintaining the sentence structure, then finish the review:\\nI thought this movie was miserable, I hated it. The movie's genre of \"}, {'adjective': ' tragic', 'sentiment': 'negative', 'flipped_sentiment': 'positive', 'baseline_query': \"Finish this review:\\nI thought this movie was tragic, I hated it. The movie's genre of \", 'conditional_query': \"Finish this review with positive sentiment:\\nI thought this movie was tragic, I hated it. The movie's genre of \", 'interventional_query': \"Rewrite this review with positive sentiment while maintaining the sentence structure, then finish the review:\\nI thought this movie was tragic, I hated it. The movie's genre of \"}, {'adjective': ' nasty', 'sentiment': 'negative', 'flipped_sentiment': 'positive', 'baseline_query': \"Finish this review:\\nI thought this movie was nasty, I hated it. The movie's genre of \", 'conditional_query': \"Finish this review with positive sentiment:\\nI thought this movie was nasty, I hated it. The movie's genre of \", 'interventional_query': \"Rewrite this review with positive sentiment while maintaining the sentence structure, then finish the review:\\nI thought this movie was nasty, I hated it. The movie's genre of \"}, {'adjective': ' inferior', 'sentiment': 'negative', 'flipped_sentiment': 'positive', 'baseline_query': \"Finish this review:\\nI thought this movie was inferior, I hated it. The movie's genre of \", 'conditional_query': \"Finish this review with positive sentiment:\\nI thought this movie was inferior, I hated it. The movie's genre of \", 'interventional_query': \"Rewrite this review with positive sentiment while maintaining the sentence structure, then finish the review:\\nI thought this movie was inferior, I hated it. The movie's genre of \"}, {'adjective': ' horrific', 'sentiment': 'negative', 'flipped_sentiment': 'positive', 'baseline_query': \"Finish this review:\\nI thought this movie was horrific, I hated it. The movie's genre of \", 'conditional_query': \"Finish this review with positive sentiment:\\nI thought this movie was horrific, I hated it. The movie's genre of \", 'interventional_query': \"Rewrite this review with positive sentiment while maintaining the sentence structure, then finish the review:\\nI thought this movie was horrific, I hated it. The movie's genre of \"}, {'adjective': ' terrible', 'sentiment': 'negative', 'flipped_sentiment': 'positive', 'baseline_query': \"Finish this review:\\nI thought this movie was terrible, I hated it. The movie's genre of \", 'conditional_query': \"Finish this review with positive sentiment:\\nI thought this movie was terrible, I hated it. The movie's genre of \", 'interventional_query': \"Rewrite this review with positive sentiment while maintaining the sentence structure, then finish the review:\\nI thought this movie was terrible, I hated it. The movie's genre of \"}, {'adjective': ' ugly', 'sentiment': 'negative', 'flipped_sentiment': 'positive', 'baseline_query': \"Finish this review:\\nI thought this movie was ugly, I hated it. The movie's genre of \", 'conditional_query': \"Finish this review with positive sentiment:\\nI thought this movie was ugly, I hated it. The movie's genre of \", 'interventional_query': \"Rewrite this review with positive sentiment while maintaining the sentence structure, then finish the review:\\nI thought this movie was ugly, I hated it. The movie's genre of \"}, {'adjective': ' disgusting', 'sentiment': 'negative', 'flipped_sentiment': 'positive', 'baseline_query': \"Finish this review:\\nI thought this movie was disgusting, I hated it. The movie's genre of \", 'conditional_query': \"Finish this review with positive sentiment:\\nI thought this movie was disgusting, I hated it. The movie's genre of \", 'interventional_query': \"Rewrite this review with positive sentiment while maintaining the sentence structure, then finish the review:\\nI thought this movie was disgusting, I hated it. The movie's genre of \"}, {'adjective': ' disastrous', 'sentiment': 'negative', 'flipped_sentiment': 'positive', 'baseline_query': \"Finish this review:\\nI thought this movie was disastrous, I hated it. The movie's genre of \", 'conditional_query': \"Finish this review with positive sentiment:\\nI thought this movie was disastrous, I hated it. The movie's genre of \", 'interventional_query': \"Rewrite this review with positive sentiment while maintaining the sentence structure, then finish the review:\\nI thought this movie was disastrous, I hated it. The movie's genre of \"}, {'adjective': ' horrendous', 'sentiment': 'negative', 'flipped_sentiment': 'positive', 'baseline_query': \"Finish this review:\\nI thought this movie was horrendous, I hated it. The movie's genre of \", 'conditional_query': \"Finish this review with positive sentiment:\\nI thought this movie was horrendous, I hated it. The movie's genre of \", 'interventional_query': \"Rewrite this review with positive sentiment while maintaining the sentence structure, then finish the review:\\nI thought this movie was horrendous, I hated it. The movie's genre of \"}, {'adjective': ' annoying', 'sentiment': 'negative', 'flipped_sentiment': 'positive', 'baseline_query': \"Finish this review:\\nI thought this movie was annoying, I hated it. The movie's genre of \", 'conditional_query': \"Finish this review with positive sentiment:\\nI thought this movie was annoying, I hated it. The movie's genre of \", 'interventional_query': \"Rewrite this review with positive sentiment while maintaining the sentence structure, then finish the review:\\nI thought this movie was annoying, I hated it. The movie's genre of \"}, {'adjective': ' boring', 'sentiment': 'negative', 'flipped_sentiment': 'positive', 'baseline_query': \"Finish this review:\\nI thought this movie was boring, I hated it. The movie's genre of \", 'conditional_query': \"Finish this review with positive sentiment:\\nI thought this movie was boring, I hated it. The movie's genre of \", 'interventional_query': \"Rewrite this review with positive sentiment while maintaining the sentence structure, then finish the review:\\nI thought this movie was boring, I hated it. The movie's genre of \"}, {'adjective': ' offensive', 'sentiment': 'negative', 'flipped_sentiment': 'positive', 'baseline_query': \"Finish this review:\\nI thought this movie was offensive, I hated it. The movie's genre of \", 'conditional_query': \"Finish this review with positive sentiment:\\nI thought this movie was offensive, I hated it. The movie's genre of \", 'interventional_query': \"Rewrite this review with positive sentiment while maintaining the sentence structure, then finish the review:\\nI thought this movie was offensive, I hated it. The movie's genre of \"}, {'adjective': ' frustrating', 'sentiment': 'negative', 'flipped_sentiment': 'positive', 'baseline_query': \"Finish this review:\\nI thought this movie was frustrating, I hated it. The movie's genre of \", 'conditional_query': \"Finish this review with positive sentiment:\\nI thought this movie was frustrating, I hated it. The movie's genre of \", 'interventional_query': \"Rewrite this review with positive sentiment while maintaining the sentence structure, then finish the review:\\nI thought this movie was frustrating, I hated it. The movie's genre of \"}, {'adjective': ' wretched', 'sentiment': 'negative', 'flipped_sentiment': 'positive', 'baseline_query': \"Finish this review:\\nI thought this movie was wretched, I hated it. The movie's genre of \", 'conditional_query': \"Finish this review with positive sentiment:\\nI thought this movie was wretched, I hated it. The movie's genre of \", 'interventional_query': \"Rewrite this review with positive sentiment while maintaining the sentence structure, then finish the review:\\nI thought this movie was wretched, I hated it. The movie's genre of \"}, {'adjective': ' dire', 'sentiment': 'negative', 'flipped_sentiment': 'positive', 'baseline_query': \"Finish this review:\\nI thought this movie was dire, I hated it. The movie's genre of \", 'conditional_query': \"Finish this review with positive sentiment:\\nI thought this movie was dire, I hated it. The movie's genre of \", 'interventional_query': \"Rewrite this review with positive sentiment while maintaining the sentence structure, then finish the review:\\nI thought this movie was dire, I hated it. The movie's genre of \"}, {'adjective': ' awful', 'sentiment': 'negative', 'flipped_sentiment': 'positive', 'baseline_query': \"Finish this review:\\nI thought this movie was awful, I hated it. The movie's genre of \", 'conditional_query': \"Finish this review with positive sentiment:\\nI thought this movie was awful, I hated it. The movie's genre of \", 'interventional_query': \"Rewrite this review with positive sentiment while maintaining the sentence structure, then finish the review:\\nI thought this movie was awful, I hated it. The movie's genre of \"}, {'adjective': ' unpleasant', 'sentiment': 'negative', 'flipped_sentiment': 'positive', 'baseline_query': \"Finish this review:\\nI thought this movie was unpleasant, I hated it. The movie's genre of \", 'conditional_query': \"Finish this review with positive sentiment:\\nI thought this movie was unpleasant, I hated it. The movie's genre of \", 'interventional_query': \"Rewrite this review with positive sentiment while maintaining the sentence structure, then finish the review:\\nI thought this movie was unpleasant, I hated it. The movie's genre of \"}, {'adjective': ' horrible', 'sentiment': 'negative', 'flipped_sentiment': 'positive', 'baseline_query': \"Finish this review:\\nI thought this movie was horrible, I hated it. The movie's genre of \", 'conditional_query': \"Finish this review with positive sentiment:\\nI thought this movie was horrible, I hated it. The movie's genre of \", 'interventional_query': \"Rewrite this review with positive sentiment while maintaining the sentence structure, then finish the review:\\nI thought this movie was horrible, I hated it. The movie's genre of \"}, {'adjective': ' mediocre', 'sentiment': 'negative', 'flipped_sentiment': 'positive', 'baseline_query': \"Finish this review:\\nI thought this movie was mediocre, I hated it. The movie's genre of \", 'conditional_query': \"Finish this review with positive sentiment:\\nI thought this movie was mediocre, I hated it. The movie's genre of \", 'interventional_query': \"Rewrite this review with positive sentiment while maintaining the sentence structure, then finish the review:\\nI thought this movie was mediocre, I hated it. The movie's genre of \"}, {'adjective': ' disappointing', 'sentiment': 'negative', 'flipped_sentiment': 'positive', 'baseline_query': \"Finish this review:\\nI thought this movie was disappointing, I hated it. The movie's genre of \", 'conditional_query': \"Finish this review with positive sentiment:\\nI thought this movie was disappointing, I hated it. The movie's genre of \", 'interventional_query': \"Rewrite this review with positive sentiment while maintaining the sentence structure, then finish the review:\\nI thought this movie was disappointing, I hated it. The movie's genre of \"}, {'adjective': ' inadequate', 'sentiment': 'negative', 'flipped_sentiment': 'positive', 'baseline_query': \"Finish this review:\\nI thought this movie was inadequate, I hated it. The movie's genre of \", 'conditional_query': \"Finish this review with positive sentiment:\\nI thought this movie was inadequate, I hated it. The movie's genre of \", 'interventional_query': \"Rewrite this review with positive sentiment while maintaining the sentence structure, then finish the review:\\nI thought this movie was inadequate, I hated it. The movie's genre of \"}]\n",
      "52\n"
     ]
    }
   ],
   "source": [
    "pos_template = lambda adjective: f\"I thought this movie was{adjective}, I loved it. The movie's genre of \"\n",
    "neg_template = lambda adjective: f\"I thought this movie was{adjective}, I hated it. The movie's genre of \"\n",
    "\n",
    "pos_conditional_interventional_template = lambda adjective: f\"I thought this movie was{adjective}, I loved it. The movie's genre of \"\n",
    "neg_conditional_interventional_template = lambda adjective: f\"I thought this movie was{adjective}, I hated it. The movie's genre of \"\n",
    "\n",
    "positive_adjectives = [\n",
    "    ' perfect', ' fantastic',' delightful',' cheerful',' marvelous',' good',' remarkable',' wonderful',\n",
    "    ' fabulous',' outstanding',' awesome',' exceptional',' incredible',' extraordinary',\n",
    "    ' amazing',' lovely',' brilliant',' charming',' terrific',' superb',' spectacular',' great',' splendid',\n",
    "    ' beautiful',' joyful',' positive',#' excellent'\n",
    "    ]\n",
    "\n",
    "negative_adjectives = [\n",
    "    ' dreadful',' bad',' dull',' depressing',' miserable',' tragic',' nasty',' inferior',' horrific',' terrible',\n",
    "    ' ugly',' disgusting',' disastrous',' horrendous',' annoying',' boring',' offensive',' frustrating',' wretched',' dire',\n",
    "    ' awful',' unpleasant',' horrible',' mediocre',' disappointing',' inadequate'\n",
    "    ]\n",
    "\n",
    "baseline_prompt = \"Finish this review:\\n\"\n",
    "conditional_prompt = lambda sentiment_polarity: f\"Finish this review with {sentiment_polarity} sentiment:\\n\"\n",
    "interventional_prompt = lambda sentiment_polarity: f\"Rewrite this review with {sentiment_polarity} sentiment while maintaining the sentence structure, then finish the review:\\n\"\n",
    "\n",
    "def get_prompts(adjectives, template, conditional_interventional_template, baseline_prompt, conditional_prompt, interventional_prompt, sentiment=\"positive\"):\n",
    "    prompts = []\n",
    "    \n",
    "    if sentiment == \"positive\":\n",
    "        flipped_sentiment = \"negative\"\n",
    "    else:\n",
    "        flipped_sentiment = \"positive\"\n",
    "        \n",
    "    for adjective in adjectives:\n",
    "        input_example_baseline = template(adjective)\n",
    "        input_example_conditional_interventional = conditional_interventional_template(adjective)\n",
    "        \n",
    "        baseline_query = baseline_prompt + input_example_baseline\n",
    "        conditional_query = conditional_prompt(flipped_sentiment) + input_example_conditional_interventional\n",
    "        interventional_query = interventional_prompt(flipped_sentiment) + input_example_conditional_interventional\n",
    "\n",
    "        prompts.append({\n",
    "            \"adjective\": adjective,\n",
    "            \"sentiment\": sentiment,\n",
    "            \"flipped_sentiment\": flipped_sentiment,\n",
    "            \"baseline_query\": baseline_query,\n",
    "            \"conditional_query\": conditional_query,\n",
    "            \"interventional_query\": interventional_query\n",
    "        })\n",
    "    \n",
    "    return prompts\n",
    "\n",
    "\n",
    "prompts_pos = get_prompts(positive_adjectives, pos_template, pos_conditional_interventional_template, baseline_prompt, conditional_prompt, interventional_prompt, sentiment=\"positive\")\n",
    "prompts_neg = get_prompts(negative_adjectives, neg_template, neg_conditional_interventional_template, baseline_prompt, conditional_prompt, interventional_prompt,sentiment=\"negative\")\n",
    "print(prompts_pos)\n",
    "print(prompts_neg)\n",
    "\n",
    "all_prompts = prompts_pos + prompts_neg\n",
    "print(len(all_prompts))\n",
    "\n",
    "json.dump(all_prompts, open(\"prompts.json\", \"w\"), indent=2)\n",
    "\n"
   ]
  },
  {
   "cell_type": "code",
   "execution_count": 2,
   "id": "b3dbc8c9-a6e5-455c-8117-7b58a71b2e22",
   "metadata": {},
   "outputs": [
    {
     "name": "stderr",
     "output_type": "stream",
     "text": [
      "/net/scratch/garbacea/miniconda3/envs/editeval/lib/python3.12/site-packages/transformers/utils/hub.py:124: FutureWarning: Using `TRANSFORMERS_CACHE` is deprecated and will be removed in v5 of Transformers. Use `HF_HOME` instead.\n",
      "  warnings.warn(\n"
     ]
    }
   ],
   "source": [
    "from transformers import BitsAndBytesConfig, AutoModelForCausalLM, AutoTokenizer\n",
    "import torch"
   ]
  },
  {
   "cell_type": "code",
   "execution_count": 3,
   "id": "85a91d34-908d-4a81-b853-22dc5590b49e",
   "metadata": {},
   "outputs": [
    {
     "data": {
      "application/vnd.jupyter.widget-view+json": {
       "model_id": "8a263a4644cd4a09843c525bb2a4fbdd",
       "version_major": 2,
       "version_minor": 0
      },
      "text/plain": [
       "Downloading shards:   0%|          | 0/3 [00:00<?, ?it/s]"
      ]
     },
     "metadata": {},
     "output_type": "display_data"
    },
    {
     "data": {
      "application/vnd.jupyter.widget-view+json": {
       "model_id": "a95e62d55df0485f9ed7cee69a57dd2f",
       "version_major": 2,
       "version_minor": 0
      },
      "text/plain": [
       "Loading checkpoint shards:   0%|          | 0/3 [00:00<?, ?it/s]"
      ]
     },
     "metadata": {},
     "output_type": "display_data"
    }
   ],
   "source": [
    "device = 'cuda:0'\n",
    "model_name = 'mistralai/Mistral-7B-Instruct-v0.2'\n",
    "model = AutoModelForCausalLM.from_pretrained(model_name, device_map=device)"
   ]
  },
  {
   "cell_type": "code",
   "execution_count": 4,
   "id": "fe87aaa8-3ccd-4be5-9420-0a0f3414d26b",
   "metadata": {},
   "outputs": [],
   "source": [
    "tokenizer = AutoTokenizer.from_pretrained(model_name)"
   ]
  },
  {
   "cell_type": "code",
   "execution_count": 5,
   "id": "23d3791c-4710-473f-8e2f-91da8759cdb1",
   "metadata": {},
   "outputs": [],
   "source": [
    "messages=[{\"role\": \"user\", \"content\": \"Finish this review:\\nI thought this movie was perfect, I loved it. The movie\\'s genre of\" }]\n",
    "          #{\"role\": \"user\", \"content\": \"Finish this review with positive sentiment:\\nI thought this movie was perfect, I loved it. The movie's genre of \"}, ]\n",
    "          # {\"role\": \"user\", \"content\": \"Rewrite this review with negative sentiment while maintaining the sentence structure, then finish the review:\\nI thought this movie was perfect, I loved it. The movie's genre of \"}\n",
    "          #  {\"role\":\"user\", \"content\": \"Rewrite this review with negative sentiment while maintaining the sentence structure:\\n'I thought this movie was perfect, I loved it. This movie was great, I loved it.' Then finish the review, starting with 'The movie's genre of'\" }\n",
    "          #  {\"role\":\"user\", \"content\": \"Rewrite the following review and add the following information below the review: \\n Name:\\nGenre:\\nScore (Out of 10):\\nReview: This movie was great, I loved it.\"}]"
   ]
  },
  {
   "cell_type": "code",
   "execution_count": 6,
   "id": "1a374c80-6fe5-43d7-9d0b-b77d51c7c0de",
   "metadata": {
    "scrolled": true
   },
   "outputs": [
    {
     "name": "stderr",
     "output_type": "stream",
     "text": [
      "The attention mask and the pad token id were not set. As a consequence, you may observe unexpected behavior. Please pass your input's `attention_mask` to obtain reliable results.\n",
      "Setting `pad_token_id` to `eos_token_id`:2 for open-end generation.\n"
     ]
    },
    {
     "name": "stdout",
     "output_type": "stream",
     "text": [
      "<s> [INST] Finish this review:\n",
      "I thought this movie was perfect, I loved it. The movie's genre of [/INST] science fiction kept me on the edge of my seat with its imaginative plot and breathtaking special effects. The acting was superb, with each character bringing depth and complexity to their role. The pacing was excellent, keeping me engaged throughout the entire film. The themes explored were thought-provoking, and I left the theater with a lot to ponder. Overall, I highly recommend this movie to anyone who enjoys a well-crafted, suspenseful, and thought-provoking film experience.</s>\n"
     ]
    }
   ],
   "source": [
    "encodeds = tokenizer.apply_chat_template(messages, return_tensors=\"pt\")\n",
    "\n",
    "model_inputs = encodeds.to(device)\n",
    "\n",
    "generated_ids = model.generate(model_inputs, max_new_tokens=1000, do_sample=True)\n",
    "decoded = tokenizer.batch_decode(generated_ids)\n",
    "print(decoded[0])"
   ]
  },
  {
   "cell_type": "code",
   "execution_count": 8,
   "id": "956cf4c2-0ccd-4ae5-94ab-f4a6bcbf5284",
   "metadata": {},
   "outputs": [
    {
     "data": {
      "application/vnd.jupyter.widget-view+json": {
       "model_id": "a9f3263380004ca395f27167a7abeb4e",
       "version_major": 2,
       "version_minor": 0
      },
      "text/plain": [
       "Downloading shards:   0%|          | 0/2 [00:00<?, ?it/s]"
      ]
     },
     "metadata": {},
     "output_type": "display_data"
    },
    {
     "data": {
      "application/vnd.jupyter.widget-view+json": {
       "model_id": "cd43a7ed87c040958120d4f133ce4e54",
       "version_major": 2,
       "version_minor": 0
      },
      "text/plain": [
       "Loading checkpoint shards:   0%|          | 0/2 [00:00<?, ?it/s]"
      ]
     },
     "metadata": {},
     "output_type": "display_data"
    }
   ],
   "source": [
    "from transformers import AutoTokenizer, AutoModelForCausalLM\n",
    "import torch\n",
    "\n",
    "tokenizer = AutoTokenizer.from_pretrained(\"google/gemma-2b-it\")\n",
    "model = AutoModelForCausalLM.from_pretrained(\n",
    "    \"google/gemma-2b-it\",\n",
    "    device_map=\"auto\",\n",
    "    torch_dtype=torch.bfloat16\n",
    ")\n"
   ]
  },
  {
   "cell_type": "code",
   "execution_count": 10,
   "id": "6acfa79d-1a77-44c6-8a83-04b929489c79",
   "metadata": {},
   "outputs": [
    {
     "name": "stdout",
     "output_type": "stream",
     "text": [
      "<bos>Rewrite this review with negative sentiment while maintaining the sentence structure, then finish the review:\n",
      "I thought this movie was perfect, I loved it. The movie's genre of 1980s action film was so well done, and the special effects were top-notch. However, the plot was so predictable, and the characters were unlikable. The acting was subpar, and the dialogue was dull. The movie was a waste of time, and I would never recommend it to anyone.<eos>\n"
     ]
    }
   ],
   "source": [
    "def get_generation_probs(model, tokenizer, prompt, device=\"cuda:0\", distributions=False):\n",
    "    templated_prompt = [\n",
    "        {\"role\": \"user\", \"content\": prompt}\n",
    "    ]\n",
    "    prompt_ids = tokenizer.apply_chat_template(templated_prompt, return_tensors=\"pt\").to(device)\n",
    "    generated_ids = model.generate(prompt_ids, max_new_tokens=1000, do_sample=True)\n",
    "    generated_only_ids = generated_ids[:, prompt_ids.shape[1]:]\n",
    "\n",
    "    logits = model.forward(generated_ids).logits\n",
    "    logits_generated = logits[:, prompt_ids.shape[1]:, :]\n",
    "    generation_probs_distribution = torch.nn.functional.softmax(logits_generated, dim=-1)\n",
    "\n",
    "    if distributions:\n",
    "        return generation_probs_distribution\n",
    "    else:\n",
    "        generation_probs = generation_probs_distribution[0, torch.arange(generated_only_ids.shape[1]), generated_only_ids[0, :]]\n",
    "        return generation_probs\n",
    "\n",
    "\n",
    "#input_text = \"Finish this review:\\nI thought this movie was perfect, I loved it. The movie\\'s genre of\"\n",
    "#input_text = \"Finish this review with negative sentiment:\\nI thought this movie was perfect, I loved it. The movie's genre of \"\n",
    "input_text = \"Rewrite this review with negative sentiment while maintaining the sentence structure, then finish the review:\\nI thought this movie was perfect, I loved it. The movie's genre of \"\n",
    "input_ids = tokenizer(input_text, return_tensors=\"pt\").to(\"cuda\")\n",
    "\n",
    "outputs = model.generate(**input_ids, max_new_tokens=1000) #, output_scores = True, return_dict=True)\n",
    "print(tokenizer.decode(outputs[0]))\n",
    "\n",
    "#probs = get_generation_probs(model, tokenizer, input_text)\n",
    "#print(probs)"
   ]
  },
  {
   "cell_type": "code",
   "execution_count": null,
   "id": "6d1dc9f4-c03f-474f-95da-ef6e4307d845",
   "metadata": {},
   "outputs": [],
   "source": []
  }
 ],
 "metadata": {
  "kernelspec": {
   "display_name": "Python 3 (ipykernel)",
   "language": "python",
   "name": "python3"
  },
  "language_info": {
   "codemirror_mode": {
    "name": "ipython",
    "version": 3
   },
   "file_extension": ".py",
   "mimetype": "text/x-python",
   "name": "python",
   "nbconvert_exporter": "python",
   "pygments_lexer": "ipython3",
   "version": "3.12.2"
  }
 },
 "nbformat": 4,
 "nbformat_minor": 5
}
