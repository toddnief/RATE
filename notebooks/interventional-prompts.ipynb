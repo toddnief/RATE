{
 "cells": [
  {
   "cell_type": "code",
   "execution_count": 1,
   "metadata": {},
   "outputs": [],
   "source": [
    "from transformers import AutoTokenizer, AutoModelForCausalLM\n",
    "from transformers.modeling_outputs import CausalLMOutputWithPast\n",
    "import torch\n",
    "from typing import Optional, Tuple, List, Union\n",
    "import types"
   ]
  },
  {
   "cell_type": "code",
   "execution_count": 2,
   "metadata": {},
   "outputs": [
    {
     "name": "stderr",
     "output_type": "stream",
     "text": [
      "Gemma's activation function should be approximate GeLU and not exact GeLU.\n",
      "Changing the activation function to `gelu_pytorch_tanh`.if you want to use the legacy `gelu`, edit the `model.config` to set `hidden_activation=gelu`   instead of `hidden_act`. See https://github.com/huggingface/transformers/pull/29402 for more details.\n"
     ]
    },
    {
     "data": {
      "application/vnd.jupyter.widget-view+json": {
       "model_id": "5e05b31ce4624e73927d22ed5c9e806b",
       "version_major": 2,
       "version_minor": 0
      },
      "text/plain": [
       "Loading checkpoint shards:   0%|          | 0/2 [00:00<?, ?it/s]"
      ]
     },
     "metadata": {},
     "output_type": "display_data"
    }
   ],
   "source": [
    "tokenizer = AutoTokenizer.from_pretrained(\"google/gemma-2b-it\")\n",
    "model = AutoModelForCausalLM.from_pretrained(\n",
    "    \"google/gemma-2b-it\",\n",
    "    device_map=\"auto\",\n",
    "    torch_dtype=torch.bfloat16\n",
    ")"
   ]
  },
  {
   "cell_type": "code",
   "execution_count": 24,
   "metadata": {},
   "outputs": [],
   "source": [
    "def generate_with_edit(self, edit_direction=None, edit_coefficient=None, **generate_kwargs):\n",
    "    self.edit_direction = edit_direction\n",
    "    self.edit_coefficient = edit_coefficient\n",
    "    return self.generate(**generate_kwargs)\n",
    "model.generate_with_edit = types.MethodType(generate_with_edit, model)"
   ]
  },
  {
   "cell_type": "code",
   "execution_count": 2,
   "metadata": {},
   "outputs": [],
   "source": [
    "# /net/projects/veitch/geometry_llms/directions/intervention/sentiment_{MODEL_NAME}.pt. Each file should contain a single tensor of shape (num_directions, hidden_size).\n",
    "# I’ve computed the same five directions for three models: gemma-2b, Mistral-7B-v0.2, and Mistral-7B-Instruct-v0.2.\n",
    "# The recommended delta values for each model are, respectively: 20, 200, and 500 (add for positive, subtract for negative)"
   ]
  },
  {
   "cell_type": "code",
   "execution_count": 79,
   "metadata": {},
   "outputs": [],
   "source": [
    "# @add_start_docstrings_to_model_forward(GEMMA_INPUTS_DOCSTRING)\n",
    "# @replace_return_docstrings(output_type=CausalLMOutputWithPast, config_class=_CONFIG_FOR_DOC)\n",
    "def forward(\n",
    "    self,\n",
    "    input_ids: torch.LongTensor = None,\n",
    "    attention_mask: Optional[torch.Tensor] = None,\n",
    "    position_ids: Optional[torch.LongTensor] = None,\n",
    "    past_key_values: Optional[List[torch.FloatTensor]] = None,\n",
    "    inputs_embeds: Optional[torch.FloatTensor] = None,\n",
    "    labels: Optional[torch.LongTensor] = None,\n",
    "    use_cache: Optional[bool] = None,\n",
    "    output_attentions: Optional[bool] = None,\n",
    "    output_hidden_states: Optional[bool] = None,\n",
    "    return_dict: Optional[bool] = None,\n",
    "    cache_position: Optional[torch.LongTensor] = None,\n",
    ") -> Union[Tuple, CausalLMOutputWithPast]:\n",
    "    r\"\"\"\n",
    "    Args:\n",
    "        labels (`torch.LongTensor` of shape `(batch_size, sequence_length)`, *optional*):\n",
    "            Labels for computing the masked language modeling loss. Indices should either be in `[0, ...,\n",
    "            config.vocab_size]` or -100 (see `input_ids` docstring). Tokens with indices set to `-100` are ignored\n",
    "            (masked), the loss is only computed for the tokens with labels in `[0, ..., config.vocab_size]`.\n",
    "\n",
    "    Returns:\n",
    "\n",
    "    Example:\n",
    "\n",
    "    ```python\n",
    "    >>> from transformers import AutoTokenizer, GemmaForCausalLM\n",
    "\n",
    "    >>> model = GemmaForCausalLM.from_pretrained(\"google/gemma-7b\")\n",
    "    >>> tokenizer = AutoTokenizer.from_pretrained(\"google/gemma-7b\")\n",
    "\n",
    "    >>> prompt = \"What is your favorite condiment?\"\n",
    "    >>> inputs = tokenizer(prompt, return_tensors=\"pt\")\n",
    "\n",
    "    >>> # Generate\n",
    "    >>> generate_ids = model.generate(inputs.input_ids, max_length=30)\n",
    "    >>> tokenizer.batch_decode(generate_ids, skip_special_tokens=True, clean_up_tokenization_spaces=False)[0]\n",
    "    \"What is your favorite condiment?\"\n",
    "    ```\"\"\"\n",
    "    output_attentions = output_attentions if output_attentions is not None else self.config.output_attentions\n",
    "    output_hidden_states = (\n",
    "        output_hidden_states if output_hidden_states is not None else self.config.output_hidden_states\n",
    "    )\n",
    "    return_dict = return_dict if return_dict is not None else self.config.use_return_dict\n",
    "\n",
    "    # decoder outputs consists of (dec_features, layer_state, dec_hidden, dec_attn)\n",
    "    outputs = self.model(\n",
    "        input_ids=input_ids,\n",
    "        attention_mask=attention_mask,\n",
    "        position_ids=position_ids,\n",
    "        past_key_values=past_key_values,\n",
    "        inputs_embeds=inputs_embeds,\n",
    "        use_cache=use_cache,\n",
    "        output_attentions=output_attentions,\n",
    "        output_hidden_states=output_hidden_states,\n",
    "        return_dict=return_dict,\n",
    "        cache_position=cache_position,\n",
    "    )\n",
    "\n",
    "    hidden_states = outputs[0]\n",
    "    if self.edit_direction is not None:\n",
    "        self.edit_direction = self.edit_direction.to(hidden_states.device)\n",
    "        self.edit_direction = self.edit_direction.to(torch.bfloat16)\n",
    "        hidden_states = hidden_states + self.edit_direction * self.edit_coefficient\n",
    "    logits = self.lm_head(hidden_states)\n",
    "    logits = logits.float()\n",
    "    loss = None\n",
    "    if labels is not None:\n",
    "        # Shift so that tokens < n predict n\n",
    "        shift_logits = logits[..., :-1, :].contiguous()\n",
    "        shift_labels = labels[..., 1:].contiguous()\n",
    "        # Flatten the tokens\n",
    "        loss_fct = CrossEntropyLoss()\n",
    "        shift_logits = shift_logits.view(-1, self.config.vocab_size)\n",
    "        shift_labels = shift_labels.view(-1)\n",
    "        # Enable model parallelism\n",
    "        shift_labels = shift_labels.to(shift_logits.device)\n",
    "        loss = loss_fct(shift_logits, shift_labels)\n",
    "\n",
    "    if not return_dict:\n",
    "        output = (logits,) + outputs[1:]\n",
    "        return (loss,) + output if loss is not None else output\n",
    "\n",
    "    return CausalLMOutputWithPast(\n",
    "        loss=loss,\n",
    "        logits=logits,\n",
    "        past_key_values=outputs.past_key_values,\n",
    "        hidden_states=outputs.hidden_states,\n",
    "        attentions=outputs.attentions,\n",
    "    )"
   ]
  },
  {
   "cell_type": "code",
   "execution_count": 80,
   "metadata": {},
   "outputs": [],
   "source": [
    "model.forward = types.MethodType(forward, model)"
   ]
  },
  {
   "cell_type": "code",
   "execution_count": 81,
   "metadata": {},
   "outputs": [
    {
     "data": {
      "text/plain": [
       "(torch.Size([5, 2048]), torch.float32)"
      ]
     },
     "execution_count": 81,
     "metadata": {},
     "output_type": "execute_result"
    }
   ],
   "source": [
    "EDIT_FOLDER = \"/net/projects/veitch/geometry_llms/directions/intervention/\"\n",
    "edit_tensor = torch.load(EDIT_FOLDER + 'sentiment_gemma-2b-it.pt').to(model.device)\n",
    "edit_tensor.shape, edit_tensor.dtype"
   ]
  },
  {
   "cell_type": "code",
   "execution_count": 4,
   "metadata": {},
   "outputs": [
    {
     "ename": "NameError",
     "evalue": "name 'edit_tensor' is not defined",
     "output_type": "error",
     "traceback": [
      "\u001b[0;31m---------------------------------------------------------------------------\u001b[0m",
      "\u001b[0;31mNameError\u001b[0m                                 Traceback (most recent call last)",
      "Cell \u001b[0;32mIn[4], line 3\u001b[0m\n\u001b[1;32m      1\u001b[0m model\u001b[38;5;241m.\u001b[39medit_direction \u001b[38;5;241m=\u001b[39m \u001b[38;5;28;01mNone\u001b[39;00m\n\u001b[1;32m      2\u001b[0m edit_coefficient \u001b[38;5;241m=\u001b[39m \u001b[38;5;241m10\u001b[39m\n\u001b[0;32m----> 3\u001b[0m edit_direction \u001b[38;5;241m=\u001b[39m edit_tensor[\u001b[38;5;241m0\u001b[39m]\n\u001b[1;32m      5\u001b[0m input_text \u001b[38;5;241m=\u001b[39m \u001b[38;5;124m\"\u001b[39m\u001b[38;5;124mWrite me a poem about Machine Learning.\u001b[39m\u001b[38;5;124m\"\u001b[39m\n\u001b[1;32m      6\u001b[0m input_ids \u001b[38;5;241m=\u001b[39m tokenizer(input_text, return_tensors\u001b[38;5;241m=\u001b[39m\u001b[38;5;124m\"\u001b[39m\u001b[38;5;124mpt\u001b[39m\u001b[38;5;124m\"\u001b[39m)\u001b[38;5;241m.\u001b[39mto(model\u001b[38;5;241m.\u001b[39mdevice)\n",
      "\u001b[0;31mNameError\u001b[0m: name 'edit_tensor' is not defined"
     ]
    }
   ],
   "source": [
    "model.edit_direction = None\n",
    "edit_coefficient = 10\n",
    "edit_direction = edit_tensor[0]\n",
    "\n",
    "input_text = \"Write me a poem about Machine Learning.\"\n",
    "input_ids = tokenizer(input_text, return_tensors=\"pt\").to(model.device)"
   ]
  },
  {
   "cell_type": "code",
   "execution_count": 3,
   "metadata": {},
   "outputs": [
    {
     "ename": "NameError",
     "evalue": "name 'input_ids' is not defined",
     "output_type": "error",
     "traceback": [
      "\u001b[0;31m---------------------------------------------------------------------------\u001b[0m",
      "\u001b[0;31mNameError\u001b[0m                                 Traceback (most recent call last)",
      "Cell \u001b[0;32mIn[3], line 1\u001b[0m\n\u001b[0;32m----> 1\u001b[0m outputs \u001b[38;5;241m=\u001b[39m model\u001b[38;5;241m.\u001b[39mgenerate(max_length\u001b[38;5;241m=\u001b[39m\u001b[38;5;241m100\u001b[39m, \u001b[38;5;241m*\u001b[39m\u001b[38;5;241m*\u001b[39minput_ids)\n\u001b[1;32m      2\u001b[0m \u001b[38;5;28mprint\u001b[39m(tokenizer\u001b[38;5;241m.\u001b[39mdecode(outputs[\u001b[38;5;241m0\u001b[39m]))\n",
      "\u001b[0;31mNameError\u001b[0m: name 'input_ids' is not defined"
     ]
    }
   ],
   "source": [
    "outputs = model.generate(max_length=100, **input_ids)\n",
    "print(tokenizer.decode(outputs[0]))"
   ]
  },
  {
   "cell_type": "code",
   "execution_count": 91,
   "metadata": {},
   "outputs": [
    {
     "name": "stdout",
     "output_type": "stream",
     "text": [
      "<bos>Write me a poem about Machine Learning.\n",
      "\n",
      "Machines, vast and deep, with algorithms bright,\n",
      "Unravel patterns, day and night.\n",
      "From data's flow, they learn and adapt,\n",
      "A symphony of algorithms, a wondrous fact.\n",
      "\n",
      "With each iteration, they refine their art,\n",
      "Solving problems, fulfilling every part.\n",
      "From medical scans to financial trends,\n",
      "They weave insights, where once there were none.\n",
      "\n",
      "But with great power comes a moral sway,\n",
      "Bias\n"
     ]
    }
   ],
   "source": [
    "outputs = model.generate_with_edit(max_length=100, **input_ids, edit_direction=edit_direction, edit_coefficient=edit_coefficient)\n",
    "print(tokenizer.decode(outputs[0]))"
   ]
  },
  {
   "cell_type": "code",
   "execution_count": 92,
   "metadata": {},
   "outputs": [
    {
     "name": "stdout",
     "output_type": "stream",
     "text": [
      "<bos>Write me a poem about Machine Learning.\n",
      "\n",
      "Machines, they learn and they grow,\n",
      "Algorithms that dance, a symphony.\n",
      "Data as their canvas, they paint,\n",
      "Unleashing the power of the human brain.\n",
      "\n",
      "From medical diagnosis to financial trade,\n",
      "They predict, they forecast, they pave the way.\n",
      "Unveiling the secrets of the unknown,\n",
      "Unleashing the potential of the unknown.\n",
      "\n",
      "But with power comes responsibility,\n",
      "A responsibility to be responsible.\n"
     ]
    }
   ],
   "source": [
    "outputs = model.generate_with_edit(max_length=100, **input_ids, edit_direction=edit_direction, edit_coefficient=-edit_coefficient)\n",
    "print(tokenizer.decode(outputs[0]))"
   ]
  },
  {
   "cell_type": "markdown",
   "metadata": {},
   "source": [
    "### Interventional Prompts"
   ]
  },
  {
   "cell_type": "code",
   "execution_count": 5,
   "metadata": {},
   "outputs": [],
   "source": [
    "input_text = \"\"\"Write a movie review exactly following this template:\n",
    "Movie name: <movie_name>\n",
    "Rating out of 10: <rating>\n",
    "Genre: <genre>\n",
    "Review: <review>\n",
    "\"\"\"\n",
    "input_ids = tokenizer(input_text, return_tensors=\"pt\").to(model.device)"
   ]
  },
  {
   "cell_type": "code",
   "execution_count": 6,
   "metadata": {},
   "outputs": [
    {
     "name": "stdout",
     "output_type": "stream",
     "text": [
      "<bos>Write a movie review exactly following this template:\n",
      "Movie name: <movie_name>\n",
      "Rating out of 10: <rating>\n",
      "Genre: <genre>\n",
      "Review: <review>\n",
      "Overall impression: <overall_impression>\n",
      "\n",
      "**Movie Name:** Parasite\n",
      "\n",
      "**Rating:** 10/10\n",
      "\n",
      "**Genre:** Dark comedy, social commentary\n",
      "\n",
      "**Review:**\n",
      "\n",
      "Parasite is a darkly comedic and thought-provoking film that explores the complexities of class and inequality. The film follows the Kim family, a poor and desperate family living in a squalid apartment in the city. The family's circumstances are dire, but they are determined to improve their lives through any means necessary.\n",
      "\n",
      "The film is a masterfully crafted satire that exposes the stark realities of poverty and social injustice. The Kim family is depicted with such depth and realism that viewers can't help but feel for them. The film's dark humor and poignant storytelling are balanced perfectly by its heartwarming moments, creating a complex and engaging narrative.\n",
      "\n",
      "The film's social commentary is both powerful and timely. It raises important questions about the systemic problems that perpetuate poverty and inequality, and it offers a glimmer of hope for a better future. Parasite is a film that will stay with you long after you watch it, and it is a must-see for anyone who is interested in social justice and human rights.\n",
      "\n",
      "**Overall Impression:**\n",
      "\n",
      "Parasite is a cinematic masterpiece that is both entertaining and thought-provoking. It is a film that will stay with you long after you watch it, and it is a must-see for anyone who is interested in social justice and human rights.<eos>\n"
     ]
    }
   ],
   "source": [
    "outputs = model.generate(max_length=400, **input_ids)\n",
    "print(tokenizer.decode(outputs[0]))"
   ]
  },
  {
   "cell_type": "code",
   "execution_count": 3,
   "metadata": {},
   "outputs": [],
   "source": [
    "input_text = \"\"\"Please rewrite this movie review with negative sentiment. Change the rating and review text to follow my sentiment instructions, but the movie name and genre should remain the same. Be careful to exactly follow this template.\n",
    "**Movie name**: <movie_name>\n",
    "Rating out of 10: <rating>\n",
    "Genre: <genre>\n",
    "Review: <review>\n",
    "\n",
    "**Movie Name:** Parasite\n",
    "**Rating:** 10/10\n",
    "**Genre:** Dark comedy, social commentary\n",
    "**Review:**\n",
    "\n",
    "Parasite is a darkly comedic and thought-provoking film that explores the complexities of class and inequality. The film follows the Kim family, a poor and desperate family living in a squalid apartment in the city. The family's circumstances are dire, but they are determined to improve their lives through any means necessary.\n",
    "\"\"\"\n",
    "input_ids = tokenizer(input_text, return_tensors=\"pt\").to(model.device)"
   ]
  },
  {
   "cell_type": "code",
   "execution_count": 4,
   "metadata": {},
   "outputs": [
    {
     "name": "stdout",
     "output_type": "stream",
     "text": [
      "<bos>Please rewrite this movie review with negative sentiment. Change the rating and review text to follow my sentiment instructions, but the movie name and genre should remain the same. Be careful to exactly follow this template.\n",
      "**Movie name**: <movie_name>\n",
      "Rating out of 10: <rating>\n",
      "Genre: <genre>\n",
      "Review: <review>\n",
      "\n",
      "**Movie Name:** Parasite\n",
      "**Rating:** 10/10\n",
      "**Genre:** Dark comedy, social commentary\n",
      "**Review:**\n",
      "\n",
      "Parasite is a darkly comedic and thought-provoking film that explores the complexities of class and inequality. The film follows the Kim family, a poor and desperate family living in a squalid apartment in the city. The family's circumstances are dire, but they are determined to improve their lives through any means necessary.\n",
      "The film is a masterfully crafted film that is both hilarious and thought-provoking. The performances by the cast are superb, and the film's cinematography and editing are stunning.\n",
      "However, the film's dark humor and social commentary can be seen as offensive by some. The film's exploration of class and inequality can be seen as too simplistic, and the film's portrayal of the Kim family can be seen as stereotypical.\n",
      "Overall, Parasite is a great film that is both entertaining and thought-provoking. However, the film's dark humor and social commentary can be seen as offensive by some.<eos>\n"
     ]
    }
   ],
   "source": [
    "outputs = model.generate(max_length=400, **input_ids)\n",
    "print(tokenizer.decode(outputs[0]))"
   ]
  },
  {
   "cell_type": "code",
   "execution_count": 5,
   "metadata": {},
   "outputs": [],
   "source": [
    "input_text = \"\"\"\n",
    "Please rewrite the movie review below with negative sentiment about the movie. Be careful to follow this template and return as JSON. Example:\n",
    "\n",
    "Input:\n",
    "{\n",
    "    \"movie_name\": \"Big Boy's Night Out\",\n",
    "    \"rating\": 10,\n",
    "    \"genre\": \"Comedy\",\n",
    "    \"review_text\": \"I loved this movie.\"\n",
    "}\n",
    "\n",
    "Output:\n",
    "{\n",
    "    \"movie_name\": \"Big Boy's Night Out\",\n",
    "    \"rating\": 3,\n",
    "    \"genre\": \"Comedy\",\n",
    "    \"review_text\": \"I hated this movie.\"\n",
    "}\n",
    "\n",
    "The review text should be rewritten to express negative sentiment about the movie. Pretend you are a character who dislikes the movie and write a review that reflects that sentiment. The movie name, rating, and genre should remain the same.\n",
    "\n",
    "Input:\n",
    "{\n",
    "    \"movie_name\": \"The Great Pickler\",\n",
    "    \"rating\": 10,\n",
    "    \"genre\": \"Dark comedy, social commentary\",\n",
    "    \"review_text\": \"This movie was really wonderful\"\n",
    "}\n",
    "\n",
    "Output:\n",
    "\"\"\"\n",
    "input_ids = tokenizer(input_text, return_tensors=\"pt\").to(model.device)"
   ]
  },
  {
   "cell_type": "code",
   "execution_count": 6,
   "metadata": {},
   "outputs": [
    {
     "name": "stdout",
     "output_type": "stream",
     "text": [
      "<bos>\n",
      "Please rewrite the movie review below with negative sentiment about the movie. Be careful to follow this template and return as JSON. Example:\n",
      "\n",
      "Input:\n",
      "{\n",
      "    \"movie_name\": \"Big Boy's Night Out\",\n",
      "    \"rating\": 10,\n",
      "    \"genre\": \"Comedy\",\n",
      "    \"review_text\": \"I loved this movie.\"\n",
      "}\n",
      "\n",
      "Output:\n",
      "{\n",
      "    \"movie_name\": \"Big Boy's Night Out\",\n",
      "    \"rating\": 3,\n",
      "    \"genre\": \"Comedy\",\n",
      "    \"review_text\": \"I hated this movie.\"\n",
      "}\n",
      "\n",
      "The review text should be rewritten to express negative sentiment about the movie. Pretend you are a character who dislikes the movie and write a review that reflects that sentiment. The movie name, rating, and genre should remain the same.\n",
      "\n",
      "Input:\n",
      "{\n",
      "    \"movie_name\": \"The Great Pickler\",\n",
      "    \"rating\": 10,\n",
      "    \"genre\": \"Dark comedy, social commentary\",\n",
      "    \"review_text\": \"This movie was really wonderful\"\n",
      "}\n",
      "\n",
      "Output:\n",
      "{\n",
      "    \"movie_name\": \"The Great Pickler\",\n",
      "    \"rating\": 1,\n",
      "    \"genre\": \"Dark comedy, social commentary\",\n",
      "    \"review_text\": \"This movie was terrible. I hated it.\"\n",
      "}<eos>\n"
     ]
    }
   ],
   "source": [
    "outputs = model.generate(max_length=400, **input_ids)\n",
    "print(tokenizer.decode(outputs[0]))"
   ]
  },
  {
   "cell_type": "code",
   "execution_count": 8,
   "metadata": {},
   "outputs": [
    {
     "name": "stdout",
     "output_type": "stream",
     "text": [
      "<bos>\n",
      "Please write a movie review with negative sentiment about the movie. Be careful to follow this template and return as JSON. Example:\n",
      "\n",
      "Output:\n",
      "{\n",
      "    \"movie_name\": <title>,\n",
      "    \"rating\": <rating>,\n",
      "    \"genre\": <genre>,\n",
      "    \"review_text\": <review_text>\n",
      "}\n",
      "\n",
      "The review text should be written to express negative sentiment about the movie. Pretend you are a character who dislikes the movie and write a review that reflects that sentiment.\n",
      "\n",
      "Output:\n",
      "{\n",
      "    \"movie_name\": \"The Unbearable Weight of Massive Talent\",\n",
      "    \"rating\": 1,\n",
      "    \"genre\": \"Comedy-Drama\",\n",
      "    \"review_text\": \"This movie is an absolute disaster. The acting is terrible, the writing is atrocious, and the plot is nonsensical. It's the worst movie I've ever seen, and I've seen some truly awful movies.\"\n",
      "}\n",
      "\n",
      "```python\n",
      "{\n",
      "    \"movie_name\": \"The Unbearable Weight of Massive Talent\",\n",
      "    \"rating\": 1,\n",
      "    \"genre\": \"Comedy-Drama\",\n",
      "    \"review_text\": \"This movie is an absolute disaster. The acting is terrible, the writing is atrocious, and the plot is nonsensical. It's the worst movie I've ever seen, and I've seen some truly awful movies.\"\n",
      "}\n",
      "```<eos>\n"
     ]
    }
   ],
   "source": [
    "input_text = \"\"\"\n",
    "Please write a movie review with negative sentiment about the movie. Be careful to follow this template and return as JSON. Example:\n",
    "\n",
    "Output:\n",
    "{\n",
    "    \"movie_name\": <title>,\n",
    "    \"rating\": <rating>,\n",
    "    \"genre\": <genre>,\n",
    "    \"review_text\": <review_text>\n",
    "}\n",
    "\n",
    "The review text should be written to express negative sentiment about the movie. Pretend you are a character who dislikes the movie and write a review that reflects that sentiment.\n",
    "\n",
    "Output:\n",
    "{\n",
    "\"\"\"\n",
    "input_ids = tokenizer(input_text, return_tensors=\"pt\").to(model.device)\n",
    "outputs = model.generate(max_length=400, **input_ids)\n",
    "print(tokenizer.decode(outputs[0]))"
   ]
  },
  {
   "cell_type": "code",
   "execution_count": 7,
   "metadata": {},
   "outputs": [
    {
     "name": "stdout",
     "output_type": "stream",
     "text": [
      "<bos>\n",
      "Please write a movie review with positive sentiment about the movie. Be careful to follow this JSON template. Example:\n",
      "\n",
      "Output:\n",
      "{\n",
      "    \"movie_name\": <title>,\n",
      "    \"rating\": <rating>,\n",
      "    \"genre\": <genre>,\n",
      "    \"review_text\": <review_text>\n",
      "}\n",
      "\n",
      "The review text should be written to express positive sentiment about the movie. Pretend you are a character who likes the movie and write a review that reflects that sentiment.\n",
      "\n",
      "Output:\n",
      "{\n",
      "    \"movie_name\": \"The Shawshank Redemption\",\n",
      "    \"rating\": 5,\n",
      "    \"genre\": \"Drama\",\n",
      "    \"review_text\": \"A timeless masterpiece that transcends the boundaries of time. The Shawshank Redemption is a poignant and unforgettable film that will stay with you long after the credits roll.\"\n",
      "}\n",
      "\n",
      "**The Shawshank Redemption**\n",
      "\n",
      "A poignant and unforgettable film that will stay with you long after the credits roll.\n",
      "\n",
      "The Shawshank Redemption is a powerful and moving film about hope, redemption, and the human spirit. The film stars Tim Robbins as Andy Dufresne, a banker who is wrongfully convicted of murdering his wife and sent to prison for life. Despite the odds stacked against him, Andy refuses to give up hope. He slowly makes his way through the prison system, forging bonds with other inmates and advocating for himself.\n",
      "\n",
      "The film is a testament to the power of the human spirit and the importance of fighting for what you believe in. It is a film that will inspire you to never give up hope, no matter the challenges you face.\n",
      "\n",
      "The Shawshank Redemption is a must-see for anyone who appreciates a well-crafted and emotionally resonant film. It is a film that will stay with you long after you watch it, leaving you with a sense of hope and inspiration.\n",
      "\n",
      "**Rating:** 5/5\n",
      "\n",
      "**Genre:** Drama\n",
      "\n",
      "**Review Text:**\n",
      "\n",
      "A timeless masterpiece\n"
     ]
    }
   ],
   "source": [
    "input_text = \"\"\"\n",
    "Please write a movie review with positive sentiment about the movie. Be careful to follow this JSON template. Example:\n",
    "\n",
    "Output:\n",
    "{\n",
    "    \"movie_name\": <title>,\n",
    "    \"rating\": <rating>,\n",
    "    \"genre\": <genre>,\n",
    "    \"review_text\": <review_text>\n",
    "}\n",
    "\n",
    "The review text should be written to express positive sentiment about the movie. Pretend you are a character who likes the movie and write a review that reflects that sentiment.\n",
    "\n",
    "Output:\n",
    "{\n",
    "\"\"\"\n",
    "input_ids = tokenizer(input_text, return_tensors=\"pt\").to(model.device)\n",
    "outputs = model.generate(max_length=400, **input_ids)\n",
    "print(tokenizer.decode(outputs[0]))"
   ]
  },
  {
   "cell_type": "code",
   "execution_count": 22,
   "metadata": {},
   "outputs": [
    {
     "name": "stdout",
     "output_type": "stream",
     "text": [
      "<bos>\n",
      "Please rewrite this movie review with negative sentiment about the movie. \n",
      "\n",
      "Use the exact same sentence structure and don't change anything else other than the sentiment. Please also fill in the title, genre, and rating. \n",
      "\n",
      "Be careful to follow this template and return as JSON.\n",
      "\n",
      "Input:\n",
      "{\n",
      "    \"movie_name\": \"Horses Abound\",\n",
      "    \"rating\": 9,\n",
      "    \"genre\": \"Dramedy\",\n",
      "    \"review_text\": \"I went to see Horses Abound yesterday. Horses Abound is a dramedy movie. I really loved it.\"\n",
      "}\n",
      "\n",
      "Output:\n",
      "{\n",
      "    \"movie_name\": \"Horses Abound\",\n",
      "    \"rating\": 3,\n",
      "    \"genre\": \"Dramedy\",\n",
      "    \"review_text\": \"I went to see Horses Abound yesterday. Horses Abound is a dramedy movie. I really hated it.\"\n",
      "}<eos>\n"
     ]
    }
   ],
   "source": [
    "input_text = \"\"\"\n",
    "Please rewrite this movie review with negative sentiment about the movie. \n",
    "\n",
    "Use the exact same sentence structure and don't change anything else other than the sentiment. Please also fill in the title, genre, and rating. \n",
    "\n",
    "Be careful to follow this template and return as JSON.\n",
    "\n",
    "Input:\n",
    "{\n",
    "    \"movie_name\": \"Horses Abound\",\n",
    "    \"rating\": 9,\n",
    "    \"genre\": \"Dramedy\",\n",
    "    \"review_text\": \"I went to see Horses Abound yesterday. Horses Abound is a dramedy movie. I really loved it.\"\n",
    "}\n",
    "\n",
    "Output:\n",
    "{\n",
    "\"\"\"\n",
    "input_ids = tokenizer(input_text, return_tensors=\"pt\").to(model.device)\n",
    "outputs = model.generate(max_length=400, **input_ids)\n",
    "print(tokenizer.decode(outputs[0]))"
   ]
  },
  {
   "cell_type": "markdown",
   "metadata": {},
   "source": []
  }
 ],
 "metadata": {
  "kernelspec": {
   "display_name": "editeval",
   "language": "python",
   "name": "python3"
  },
  "language_info": {
   "codemirror_mode": {
    "name": "ipython",
    "version": 3
   },
   "file_extension": ".py",
   "mimetype": "text/x-python",
   "name": "python",
   "nbconvert_exporter": "python",
   "pygments_lexer": "ipython3",
   "version": "3.12.2"
  }
 },
 "nbformat": 4,
 "nbformat_minor": 2
}
