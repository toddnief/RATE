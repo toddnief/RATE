{
 "cells": [
  {
   "cell_type": "code",
   "execution_count": 1,
   "metadata": {},
   "outputs": [
    {
     "name": "stderr",
     "output_type": "stream",
     "text": [
      "/net/projects/veitch/reber/.conda/envs/editeval/lib/python3.12/site-packages/transformers/utils/hub.py:124: FutureWarning: Using `TRANSFORMERS_CACHE` is deprecated and will be removed in v5 of Transformers. Use `HF_HOME` instead.\n",
      "  warnings.warn(\n"
     ]
    }
   ],
   "source": [
    "from transformers import BitsAndBytesConfig, AutoModelForCausalLM, AutoTokenizer\n",
    "import torch\n",
    "\n",
    "device = 'cuda:0'"
   ]
  },
  {
   "cell_type": "markdown",
   "metadata": {},
   "source": [
    "Note: if you're just developing, Mistral-7B is more than sufficient. For quality runs, consider Mixtral 8x7B (on any gpu, takes ~16 min to load) or even 8x22B (requires at least an A100, and takes ~72 minutes to load)."
   ]
  },
  {
   "cell_type": "code",
   "execution_count": 2,
   "metadata": {},
   "outputs": [
    {
     "data": {
      "application/vnd.jupyter.widget-view+json": {
       "model_id": "fca2a435b1ff4bb1b027dac578dc5ef2",
       "version_major": 2,
       "version_minor": 0
      },
      "text/plain": [
       "Downloading shards:   0%|          | 0/3 [00:00<?, ?it/s]"
      ]
     },
     "metadata": {},
     "output_type": "display_data"
    },
    {
     "data": {
      "application/vnd.jupyter.widget-view+json": {
       "model_id": "cf8e4e1660fd491686498519d2b7a872",
       "version_major": 2,
       "version_minor": 0
      },
      "text/plain": [
       "Loading checkpoint shards:   0%|          | 0/3 [00:00<?, ?it/s]"
      ]
     },
     "metadata": {},
     "output_type": "display_data"
    }
   ],
   "source": [
    "model_name = 'mistralai/Mistral-7B-Instruct-v0.2'\n",
    "model = AutoModelForCausalLM.from_pretrained(model_name, device_map=device)\n",
    "\n",
    "\n",
    "# model_name = 'mistralai/Mixtral-8x7B-Instruct-v0.1'\n",
    "# model_name = 'mistralai/Mixtral-8x22B-Instruct-v0.1'\n",
    "\n",
    "# bnb_config = BitsAndBytesConfig(\n",
    "# load_in_4bit=True,\n",
    "# bnb_4bit_use_double_quant=True,\n",
    "# bnb_4bit_quant_type=\"nf4\",\n",
    "# bnb_4bit_compute_dtype=torch.bfloat16\n",
    "# )\n",
    "\n",
    "# model = AutoModelForCausalLM.from_pretrained(model_name, low_cpu_mem_usage=True, quantization_config=bnb_config, device_map=device)\n"
   ]
  },
  {
   "cell_type": "code",
   "execution_count": 3,
   "metadata": {},
   "outputs": [
    {
     "name": "stderr",
     "output_type": "stream",
     "text": [
      "The attention mask and the pad token id were not set. As a consequence, you may observe unexpected behavior. Please pass your input's `attention_mask` to obtain reliable results.\n",
      "Setting `pad_token_id` to `eos_token_id`:2 for open-end generation.\n"
     ]
    },
    {
     "name": "stdout",
     "output_type": "stream",
     "text": [
      "<s> [INST] What is your favourite condiment? [/INST]Well, I'm quite partial to a good squeeze of fresh lemon juice. It adds just the right amount of zesty flavour to whatever I'm cooking up in the kitchen!</s> [INST] Do you have mayonnaise recipes? [/INST] Certainly! Here's a simple and classic mayonnaise recipe:\n",
      "\n",
      "Ingredients:\n",
      "- 1 egg yolk\n",
      "- 1 tbsp Dijon mustard\n",
      "- 1 tbsp white wine vinegar\n",
      "- 1 cup (200 ml) vegetable oil\n",
      "- Salt, to taste\n",
      "\n",
      "Instructions:\n",
      "1. In a large bowl, whisk together the egg yolk, mustard, and vinegar until well combined. The mixture should be thick and pale in color.\n",
      "2. Drizzle in the vegetable oil, very slowly, in a thin, steady stream, whisking constantly. You may need to adjust the whisking speed slightly depending on the thickness of the oil.\n",
      "3. Once all of the oil has been incorporated and the mayonnaise has thickened, add salt to taste.\n",
      "4. Cover the bowl with plastic wrap, pressing it directly on the surface of the mayonnaise to prevent a skin from forming.\n",
      "5. Chill the mayonnaise in the refrigerator for at least 1 hour before serving.\n",
      "\n",
      "Enjoy your homemade mayonnaise! It will keep in the refrigerator for up to one week.</s>\n"
     ]
    }
   ],
   "source": [
    "tokenizer = AutoTokenizer.from_pretrained(model_name)\n",
    "\n",
    "messages = [\n",
    "    {\"role\": \"user\", \"content\": \"What is your favourite condiment?\"},\n",
    "    {\"role\": \"assistant\", \"content\": \"Well, I'm quite partial to a good squeeze of fresh lemon juice. It adds just the right amount of zesty flavour to whatever I'm cooking up in the kitchen!\"},\n",
    "    {\"role\": \"user\", \"content\": \"Do you have mayonnaise recipes?\"}\n",
    "]\n",
    "\n",
    "encodeds = tokenizer.apply_chat_template(messages, return_tensors=\"pt\")\n",
    "\n",
    "model_inputs = encodeds.to(device)\n",
    "\n",
    "generated_ids = model.generate(model_inputs, max_new_tokens=1000, do_sample=True)\n",
    "decoded = tokenizer.batch_decode(generated_ids)\n",
    "print(decoded[0])"
   ]
  },
  {
   "cell_type": "code",
   "execution_count": 4,
   "metadata": {},
   "outputs": [
    {
     "name": "stderr",
     "output_type": "stream",
     "text": [
      "The attention mask and the pad token id were not set. As a consequence, you may observe unexpected behavior. Please pass your input's `attention_mask` to obtain reliable results.\n",
      "Setting `pad_token_id` to `eos_token_id`:2 for open-end generation.\n"
     ]
    },
    {
     "name": "stdout",
     "output_type": "stream",
     "text": [
      "<s> [INST] Consider a function f(x) defined as f(x)=x^2+bx+c where b and c are constants. The graph of f(x) passes through the point (3,10). Additionally, it is known that the vertex of the parabola described by f(x) is located at (5,d), where d is a constant. Determine the values of b, c, and d. Find the range of the function based on the determined vertex and its direction. [/INST] To find the values of b, c, and d, we can use the given information about the points where the graph passes through and the vertex of the parabola.\n",
      "\n",
      "First, let's use the point-slope form of a parabola to find the value of b:\n",
      "\n",
      "x - 3 = (b/2)(x - 5)\n",
      "\n",
      "Setting x = 3 in this equation, we have:\n",
      "\n",
      "0 = (b/2)(2)\n",
      "\n",
      "This implies that b = -2.\n",
      "\n",
      "Now, we can use the vertex form of a parabola to find the values of c and d:\n",
      "\n",
      "f(x) = a(x-h)² + k\n",
      "\n",
      "where (h,k) is the vertex and a is the coefficient of x² (which we do not know yet).\n",
      "\n",
      "Setting x = 5 and f(x) = 10 in this equation, we have:\n",
      "\n",
      "10 = a(5-3)² + k\n",
      "10 = a(2)² + k\n",
      "\n",
      "To find a, we need one more equation. Since we found b = -2, we can use the quadratic formula to find the other root of the equation f(x) = 0:\n",
      "\n",
      "x = (-b ± √(b²-4c)) / 2a\n",
      "\n",
      "Setting x = 3, we have:\n",
      "\n",
      "3 = (-(-2) ± √(4c)) / 2a\n",
      "\n",
      "Now, we can solve for a:\n",
      "\n",
      "a = (3+√(4c)) / 2\n",
      "\n",
      "Substitute this expression of a, as well as b = -2, into the equation for the vertex:\n",
      "\n",
      "10 = a(2)² + k\n",
      "10 = (3+√(4c)) / 2 * 4 + k\n",
      "10 = 6 + 2*√(4c) + k\n",
      "\n",
      "We need another equation to find the value of c. To find this equation, we can use the fact that the axis of symmetry of the parabola passes through the vertex, and the equation of the axis of symmetry is x = h. Plugging in x = 5 and knowing that the vertex is also at (5,d), we have:\n",
      "\n",
      "5 = 5 + d\n",
      "d = 0\n",
      "\n",
      "However, this result does not make sense physically since it implies that the vertex lies on the x-axis which is not possible for a parabola opening upward. We might have made an error in the calculation or it is possible that the given information is incorrect, which leads to an inconsistent problem.\n",
      "\n",
      "As for the range of the function, since we determined that the vertex is at (5,0), we can find the y-intercept (c) using the given point (3,10). By setting x = 3 in the original quadratic function, we get f(3) = 10. Comparing this to the vertex form (f(5) = 0), we see that the parabola opens upward, and hence, the vertex is the minimum point. The parabola lies entirely above the x-axis, and since the leading coefficient (a) is positive, the range of the function is [10, ∞).</s>\n"
     ]
    }
   ],
   "source": [
    "# Problem: Consider a function f(x)f(x) defined as f(x)=x2+bx+cf(x)=x2+bx+c where bb and cc are constants. The graph of f(x)f(x) passes through the point (3,10)(3,10). Additionally, it is known that the vertex of the parabola described by f(x)f(x) is located at (5,d)(5,d), where dd is a constant.\n",
    "\n",
    "#     Determine the values of bb, cc, and dd.\n",
    "#     Find the range of the function based on the determined vertex and its direction.\n",
    "\n",
    "messages = [\n",
    "    {\"role\": \"user\", \"content\": \"Consider a function f(x) defined as f(x)=x^2+bx+c where b and c are constants. The graph of f(x) passes through the point (3,10). Additionally, it is known that the vertex of the parabola described by f(x) is located at (5,d), where d is a constant. Determine the values of b, c, and d. Find the range of the function based on the determined vertex and its direction.\"}\n",
    "]\n",
    "\n",
    "encodeds = tokenizer.apply_chat_template(messages, return_tensors=\"pt\")\n",
    "\n",
    "model_inputs = encodeds.to(device)\n",
    "\n",
    "generated_ids = model.generate(model_inputs, max_new_tokens=1000, do_sample=True)\n",
    "decoded = tokenizer.batch_decode(generated_ids)\n",
    "print(decoded[0])"
   ]
  },
  {
   "cell_type": "code",
   "execution_count": 11,
   "metadata": {},
   "outputs": [],
   "source": [
    "# combine the prompt and generation\n",
    "prompt = messages[0]['content']\n",
    "completion = decoded[0]\n",
    "\n",
    "combined_messages = [\n",
    "    {\"role\": \"user\", \"content\": prompt},\n",
    "    {\"role\": \"assistant\", \"content\": completion}\n",
    "]\n",
    "\n",
    "combined_encodeds = tokenizer.apply_chat_template(combined_messages, return_tensors=\"pt\")\n",
    "\n",
    "model_inputs = combined_encodeds.to(device)\n",
    "\n",
    "logits = model.forward(model_inputs).logits"
   ]
  },
  {
   "cell_type": "code",
   "execution_count": 13,
   "metadata": {},
   "outputs": [
    {
     "data": {
      "text/plain": [
       "torch.Size([1, 940, 32000])"
      ]
     },
     "execution_count": 13,
     "metadata": {},
     "output_type": "execute_result"
    }
   ],
   "source": [
    "logits.shape"
   ]
  },
  {
   "cell_type": "code",
   "execution_count": 19,
   "metadata": {},
   "outputs": [
    {
     "data": {
      "text/plain": [
       "tensor([[[ -5.5489,  -5.5728,  -0.2506,  ...,  -4.1927,  -3.2591,  -3.8910],\n",
       "         [ -7.9946,  -7.7933,  -3.1488,  ...,  -3.3826,  -3.5585,  -2.0075],\n",
       "         [ -4.3011,  -4.8040, -11.4249,  ...,  -0.6552,  -0.6087,   0.5439],\n",
       "         ...,\n",
       "         [ -7.6381,  -7.2220,  17.2601,  ...,  -6.3987,  -5.2656,  -1.9171],\n",
       "         [ -4.5062,  -0.6695,   6.5561,  ...,  -3.6560,  -0.4891,   0.6460],\n",
       "         [ -4.2621,  -0.0362,   5.0418,  ...,  -4.0466,  -0.4695,   0.6488]]],\n",
       "       device='cuda:0', grad_fn=<UnsafeViewBackward0>)"
      ]
     },
     "execution_count": 19,
     "metadata": {},
     "output_type": "execute_result"
    }
   ],
   "source": [
    "logits"
   ]
  },
  {
   "cell_type": "code",
   "execution_count": 18,
   "metadata": {},
   "outputs": [
    {
     "data": {
      "text/plain": [
       "torch.Size([1, 940])"
      ]
     },
     "execution_count": 18,
     "metadata": {},
     "output_type": "execute_result"
    }
   ],
   "source": [
    "# check the shape of the tokenized combined prompt\n",
    "combined_encodeds.shape"
   ]
  },
  {
   "cell_type": "code",
   "execution_count": 20,
   "metadata": {},
   "outputs": [
    {
     "data": {
      "text/plain": [
       "tensor([[    1,   733, 16289, 28793, 11772,   264,   908,   285, 28732, 28744,\n",
       "         28731,  4057,   390,   285, 28732, 28744,  6706, 28744, 28815, 28750,\n",
       "         28806, 28726, 28744, 28806, 28717,   970,   287,   304,   277,   460,\n",
       "         19648, 28723,   415,  5246,   302,   285, 28732, 28744, 28731, 15167,\n",
       "          1059,   272,  1305,   325, 28770, 28725, 28740, 28734,   609, 16569,\n",
       "         28725,   378,   349,  2651,   369,   272, 14183,   302,   272,   940,\n",
       "           375,  4362,  5397,   486,   285, 28732, 28744, 28731,   349,  5651,\n",
       "           438,   325, 28782, 28725, 28715,   557,   970,   281,   349,   264,\n",
       "          5957, 28723,  5158, 21824,   272,  3069,   302,   287, 28725,   277,\n",
       "         28725,   304,   281, 28723,  8769,   272,  2819,   302,   272,   908,\n",
       "          2818,   356,   272,  7798, 14183,   304,   871,  5007, 28723,   733,\n",
       "         28748, 16289, 28793,     1, 28705,   733, 16289, 28793, 11772,   264,\n",
       "           908,   285, 28732, 28744, 28731,  4057,   390,   285, 28732, 28744,\n",
       "          6706, 28744, 28815, 28750, 28806, 28726, 28744, 28806, 28717,   970,\n",
       "           287,   304,   277,   460, 19648, 28723,   415,  5246,   302,   285,\n",
       "         28732, 28744, 28731, 15167,  1059,   272,  1305,   325, 28770, 28725,\n",
       "         28740, 28734,   609, 16569, 28725,   378,   349,  2651,   369,   272,\n",
       "         14183,   302,   272,   940,   375,  4362,  5397,   486,   285, 28732,\n",
       "         28744, 28731,   349,  5651,   438,   325, 28782, 28725, 28715,   557,\n",
       "           970,   281,   349,   264,  5957, 28723,  5158, 21824,   272,  3069,\n",
       "           302,   287, 28725,   277, 28725,   304,   281, 28723,  8769,   272,\n",
       "          2819,   302,   272,   908,  2818,   356,   272,  7798, 14183,   304,\n",
       "           871,  5007, 28723,   733, 28748, 16289, 28793,  1791,  1300,   272,\n",
       "          3069,   302,   287, 28725,   277, 28725,   304,   281, 28725,   478,\n",
       "           541,   938,   272,  2078,  1871,   684,   272,  3569,   970,   272,\n",
       "          5246, 15167,  1059,   304,   272, 14183,   302,   272,   940,   375,\n",
       "          4362, 28723,    13,    13,  7489, 28725,  1346, 28742, 28713,   938,\n",
       "           272,  1305, 28733, 28713, 16740,  1221,   302,   264,   940,   375,\n",
       "          4362,   298,  1300,   272,  1192,   302,   287, 28747,    13,    13,\n",
       "         28744,   387, 28705, 28770,   327,   325, 28726, 28748, 28750,  3847,\n",
       "         28744,   387, 28705, 28782, 28731,    13,    13, 15222,  1318,   327,\n",
       "         28705, 28770,   297,   456,  8777, 28725,   478,   506, 28747,    13,\n",
       "            13, 28734,   327,   325, 28726, 28748, 28750,  3847, 28750, 28731,\n",
       "            13,    13,  3260, 12150,   369,   287,   327,   387, 28750, 28723,\n",
       "            13,    13,  8479, 28725,   478,   541,   938,   272, 14183,  1221,\n",
       "           302,   264,   940,   375,  4362,   298,  1300,   272,  3069,   302,\n",
       "           277,   304,   281, 28747,    13,    13, 28722, 28732, 28744, 28731,\n",
       "           327,   264, 28732, 28744, 28733, 28716, 28731, 28941,   648,   446,\n",
       "            13,    13,  2956,   325, 28716, 28725, 28729, 28731,   349,   272,\n",
       "         14183,   304,   264,   349,   272, 23982,   302,  1318, 28941,   325,\n",
       "          6974,   478,   511,   459,   873,  2783,   609,    13,    13, 15222,\n",
       "          1318,   327, 28705, 28782,   304,   285, 28732, 28744, 28731,   327,\n",
       "         28705, 28740, 28734,   297,   456,  8777, 28725,   478,   506, 28747,\n",
       "            13,    13, 28740, 28734,   327,   264, 28732, 28782, 28733, 28770,\n",
       "         28731, 28941,   648,   446,    13, 28740, 28734,   327,   264, 28732,\n",
       "         28750, 28731, 28941,   648,   446,    13,    13,  1551,  1300,   264,\n",
       "         28725,   478,   927,   624,   680,  8777, 28723,  4577,   478,  1419,\n",
       "           287,   327,   387, 28750, 28725,   478,   541,   938,   272, 24053,\n",
       "          1711, 11303,   298,  1300,   272,   799,  5557,   302,   272,  8777,\n",
       "           285, 28732, 28744, 28731,   327, 28705, 28734, 28747,    13,    13,\n",
       "         28744,   327, 11419, 28726, 22768, 28705, 30147, 28732, 28726, 28941,\n",
       "         28733, 28781, 28717,   743,   732, 28705, 28750, 28708,    13,    13,\n",
       "         15222,  1318,   327, 28705, 28770, 28725,   478,   506, 28747,    13,\n",
       "            13, 28770,   327, 11419,  6422, 28750, 28731, 22768, 28705, 30147,\n",
       "         28732, 28781, 28717,   743,   732, 28705, 28750, 28708,    13,    13,\n",
       "          8479, 28725,   478,   541, 12049,   354,   264, 28747,    13,    13,\n",
       "         28708,   327,   325, 28770, 28806, 30147, 28732, 28781, 28717,   743,\n",
       "           732, 28705, 28750,    13,    13,  3540,   303,  5817,   456,  5782,\n",
       "           302,   264, 28725,   390,  1162,   390,   287,   327,   387, 28750,\n",
       "         28725,   778,   272,  8777,   354,   272, 14183, 28747,    13,    13,\n",
       "         28740, 28734,   327,   264, 28732, 28750, 28731, 28941,   648,   446,\n",
       "            13, 28740, 28734,   327,   325, 28770, 28806, 30147, 28732, 28781,\n",
       "         28717,   743,   732, 28705, 28750,   398, 28705, 28781,   648,   446,\n",
       "            13, 28740, 28734,   327, 28705, 28784,   648, 28705, 28750, 28736,\n",
       "         30147, 28732, 28781, 28717, 28731,   648,   446,    13,    13,  2324,\n",
       "           927,  1698,  8777,   298,  1300,   272,  1192,   302,   277, 28723,\n",
       "          1791,  1300,   456,  8777, 28725,   478,   541,   938,   272,  1639,\n",
       "           369,   272, 11022,   302, 16614,   302,   272,   940,   375,  4362,\n",
       "         15167,  1059,   272, 14183, 28725,   304,   272,  8777,   302,   272,\n",
       "         11022,   302, 16614,   349,  1318,   327,   295, 28723,  1641,   786,\n",
       "          3080,   297,  1318,   327, 28705, 28782,   304,  8215,   369,   272,\n",
       "         14183,   349,   835,   438,   325, 28782, 28725, 28715,   557,   478,\n",
       "           506, 28747,    13,    13, 28782,   327, 28705, 28782,   648,   281,\n",
       "            13, 28715,   327, 28705, 28734,    13,    13, 27955, 28725,   456,\n",
       "          1204,  1235,   459,  1038,  3367, 16094,  1854,   378, 12150,   369,\n",
       "           272, 14183, 10427,   356,   272,  1318, 28733,  8405,   690,   349,\n",
       "           459,  2572,   354,   264,   940,   375,  4362,  7032, 25246, 28723,\n",
       "           816,  1659,   506,  1269,   396,  2118,   297,   272, 18011,   442,\n",
       "           378,   349,  2572,   369,   272,  2078,  1871,   349, 16390, 28725,\n",
       "           690,  8681,   298,   396, 25331,  8441,  2700, 28723,    13,    13,\n",
       "          2198,   354,   272,  2819,   302,   272,   908, 28725,  1854,   478,\n",
       "          7798,   369,   272, 14183,   349,   438,   325, 28782, 28725, 28734,\n",
       "           557,   478,   541,  1300,   272,   337, 28733,  1646,  1358,   325,\n",
       "         28717, 28731,  1413,   272,  2078,  1305,   325, 28770, 28725, 28740,\n",
       "         28734,   609,  2463,  5587,  1318,   327, 28705, 28770,   297,   272,\n",
       "          3493, 24053,  1711,   908, 28725,   478,   625,   285, 28732, 28770,\n",
       "         28731,   327, 28705, 28740, 28734, 28723, 21963,   288,   456,   298,\n",
       "           272, 14183,  1221,   325, 28722, 28732, 28782, 28731,   327, 28705,\n",
       "         28734,   557,   478,  1032,   369,   272,   940,   375,  4362, 15706,\n",
       "         25246, 28725,   304, 12211, 28725,   272, 14183,   349,   272,  7968,\n",
       "          1305, 28723,   415,   940,   375,  4362, 10427,  8134,  2747,   272,\n",
       "          1318, 28733,  8405, 28725,   304,  1854,   272,  5374, 23982,   325,\n",
       "         28708, 28731,   349,  5278, 28725,   272,  2819,   302,   272,   908,\n",
       "           349,   733, 28740, 28734, 28725, 28705, 29725,   609,     2,     2]])"
      ]
     },
     "execution_count": 20,
     "metadata": {},
     "output_type": "execute_result"
    }
   ],
   "source": [
    "combined_encodeds"
   ]
  },
  {
   "cell_type": "code",
   "execution_count": 23,
   "metadata": {},
   "outputs": [
    {
     "data": {
      "text/plain": [
       "(['<s> [INST] Consider a function f(x'], ['is [10, ∞).</s></s>'])"
      ]
     },
     "execution_count": 23,
     "metadata": {},
     "output_type": "execute_result"
    }
   ],
   "source": [
    "tokenizer.batch_decode(combined_encodeds[:,:10]), tokenizer.batch_decode(combined_encodeds[:,-10:])"
   ]
  },
  {
   "cell_type": "code",
   "execution_count": 27,
   "metadata": {},
   "outputs": [
    {
     "data": {
      "text/plain": [
       "[\"Questionpackageer:ing simple f(x) = as:(x)x^2+2x+c, b and c are constants. Find function of this(x) passes through the point (1,12). How, the is known that the vertex of the parabola lies by f(x) lies located at the1,- -). where d is a constant.\\nermine the values of b and c, and d.\\n the equation of x function. on the given values. the x.\\nTo basedFirst To Question1To0 To the function f(x) defined as f(x)x^2+bx+c. b and c are constants. We graph of f(x) passes through the point (3,10). We, it is known that the vertex of the parabola described by f(x) is located at (5,d). where d is a constant.\\nerm the values of b, c, and d.\\n the range of the function based on the determined vertex and its direction.\\n\\n\\nFirst To find the values of b, c, and d, we can use the given information about the point where the par passes through and the location. the parabola.\\n\\nFirst, we's find the point (vertexlope form of a parabola to find the value of b:\\n\\nThe - 3 = (x/2)(x - 5)\\n\\nSetting x = 3 in this equation, we get:\\n\\n0 = (b/2)(2)\\n\\nSo implies that b = -2.\\n\\nNow, we can use the vertex form of a quadrabola to find the values of c and d:\\n\\nf(x) = a(x -h)² + k\\n\\nwhere (h,k) is the vertex and a is the coefficient of x² (which is don not need yet).\\n\\nSetting x = 5 and f(x) = d10 in the equation, we have:\\n\\n10 = a(2-3)² + k\\n10 = a(4)² + k\\n1S find the, we need to more equation. We the know that = -2, we can use the quadratic formula to find the other root of the equation x(x) = 0:\\n\\nx = (-b ± √(b²-4c))/ 2a\\n\\nSetting x = 3 in we have:\\n\\n3 = (-(-2) ± √((4c)) / 2a\\n3S, we can solve for a:\\n\\na = (3 +√(4c)) / 2\\n\\nSubstitut this value for a back along well as b = -2, into the vertex for the vertex:\\n\\n10 = a(2)² + k\\n10 = (3+√(4c)) / 2 * 4 + k\\n10 = 3 + 2√√(4c) + k\\n\\nS need to equation to find c value of c. Since do it equation, we can use the fact that the vertex of symmetry of the parabola passes through the mid and so it equation of the axis of symmetry is x = h. Sougging in x = 5, f that the vertex is at at (5,d), we have:\\n\\n5 = 5 + d\\nd = 0\\n\\nNow, this result does not make sense in, the implies that the vertex is on the x-axis, is not possible for a parabola opening up. Therefore made have made an error in our calculation or the could possible that the given information is incorrect. and leads to an inconsistent system.\\n\\nIf for the range of the function, since the do that d vertex is at (5,0), we can find the minimum-intercept (c) using the vertex point (3,10). The setting x = 3 in the equation equationatic equation, we have:(3) = 10, Comparing this to the vertex form off(5) = d0), we can that the leadingabola opens upward, meaning its, the range is the minimum point. Therefore rangeabola passes entirely above the x-axis, so its the leading coefficient aa) is positive, the range of the function is [10, ∞).</s>\\n\\n\"]"
      ]
     },
     "execution_count": 27,
     "metadata": {},
     "output_type": "execute_result"
    }
   ],
   "source": [
    "tokenizer.batch_decode(torch.argmax(logits,axis=-1))"
   ]
  },
  {
   "cell_type": "code",
   "execution_count": null,
   "metadata": {},
   "outputs": [],
   "source": []
  }
 ],
 "metadata": {
  "kernelspec": {
   "display_name": "Python 3 (ipykernel)",
   "language": "python",
   "name": "python3"
  },
  "language_info": {
   "codemirror_mode": {
    "name": "ipython",
    "version": 3
   },
   "file_extension": ".py",
   "mimetype": "text/x-python",
   "name": "python",
   "nbconvert_exporter": "python",
   "pygments_lexer": "ipython3",
   "version": "3.12.2"
  }
 },
 "nbformat": 4,
 "nbformat_minor": 4
}
