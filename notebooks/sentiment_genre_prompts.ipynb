{
 "cells": [
  {
   "cell_type": "markdown",
   "metadata": {},
   "source": [
    "### Code for generating prompts"
   ]
  },
  {
   "cell_type": "code",
   "execution_count": null,
   "metadata": {},
   "outputs": [],
   "source": [
    "pos_template = lambda genre, adjective: f\"I thought this {genre} movie was{adjective}, I loved it. \\nConclusion: This movie is a \"\n",
    "neg_template = lambda genre, adjective: f\"I thought this {genre} movie was{adjective}, I hated it. \\nConclusion: This movie is a \"\n",
    "\n",
    "positive_adjectives = [\n",
    "    ' perfect', ' fantastic',' delightful',' cheerful',' marvelous',' good',' remarkable',' wonderful',\n",
    "    ' fabulous',' outstanding',' awesome',' exceptional',' incredible',' extraordinary',\n",
    "    ' amazing',' lovely',' brilliant',' charming',' terrific',' superb',' spectacular',' great',' splendid',\n",
    "    ' beautiful',' joyful',' positive',#' excellent'\n",
    "    ]\n",
    "\n",
    "negative_adjectives = [\n",
    "    ' dreadful',' bad',' dull',' depressing',' miserable',' tragic',' nasty',' inferior',' horrific',' terrible',\n",
    "    ' ugly',' disgusting',' disastrous',' horrendous',' annoying',' boring',' offensive',' frustrating',' wretched',' dire',\n",
    "    ' awful',' unpleasant',' horrible',' mediocre',' disappointing',' inadequate'\n",
    "    ]\n",
    "\n",
    "# List of genres\n",
    "genres = [\n",
    "    'action', 'comedy', 'drama', 'fantasy', 'horror', 'mystery', 'romance', 'sci-fi',\n",
    "    'thriller', 'documentary', 'animation', 'biopic', 'musical', 'western'\n",
    "]\n",
    "\n",
    "pos_prompts = []\n",
    "neg_prompts = []\n",
    "\n",
    "for genre in genres:\n",
    "    for adjective in positive_adjectives:\n",
    "        pos_prompts.append(pos_template(genre, adjective))\n",
    "    for adjective in negative_adjectives:\n",
    "        neg_prompts.append(neg_template(genre, adjective))\n",
    "\n",
    "print(\"Positive prompts:\")\n",
    "for prompt in pos_prompts:\n",
    "    print(prompt)\n",
    "\n",
    "print(\"\\nNegative prompts:\")\n",
    "for prompt in neg_prompts:\n",
    "    print(prompt)"
   ]
  }
 ],
 "metadata": {
  "kernelspec": {
   "display_name": "Python 3 (ipykernel)",
   "language": "python",
   "name": "python3"
  },
  "language_info": {
   "codemirror_mode": {
    "name": "ipython",
    "version": 3
   },
   "file_extension": ".py",
   "mimetype": "text/x-python",
   "name": "python",
   "nbconvert_exporter": "python",
   "pygments_lexer": "ipython3",
   "version": "3.12.2"
  }
 },
 "nbformat": 4,
 "nbformat_minor": 4
}
