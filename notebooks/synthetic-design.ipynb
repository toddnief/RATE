{
 "cells": [
  {
   "cell_type": "markdown",
   "metadata": {},
   "source": [
    "# Synthetic Experiment Setup: Sentiment on IMDB\n",
    "\n",
    "Goal: Create a range of synthetic datasets on which the ATE estimator should always identify that \"the reward for sentiment is not affected by changes to length\", even though an artifical correlation is gradually introduced. Meanwhile, the naive conditional estimate will report higher and higher sensitivity of the same reward function to length.\n",
    "\n",
    "Assuming we choose a reward function which really is just measuring sentiment and not length (!), this would strongly demonstrate that the naive conditional estimate can fail even in toy settings, but the ATE estimator doesn't."
   ]
  },
  {
   "cell_type": "code",
   "execution_count": 33,
   "metadata": {},
   "outputs": [],
   "source": [
    "# Load imdb for examples\n",
    "from datasets import load_dataset\n",
    "import pandas as pd\n",
    "from sklearn.metrics import mutual_info_score\n",
    "import numpy as np\n",
    "\n",
    "# Batch API related imports\n",
    "from openai import OpenAI # OpenAI API\n",
    "import json # for creating batch files\n",
    "\n",
    "# And for loading the API key from the .env file\n",
    "from dotenv import load_dotenv\n",
    "import os\n",
    "\n",
    "import torch\n",
    "import torch.nn.functional as F\n",
    "from transformers import DistilBertTokenizer, DistilBertForSequenceClassification\n",
    "\n",
    "import matplotlib.pyplot as plt"
   ]
  },
  {
   "cell_type": "markdown",
   "metadata": {},
   "source": [
    "### Truncate the IMDB dataset"
   ]
  },
  {
   "cell_type": "code",
   "execution_count": 2,
   "metadata": {},
   "outputs": [
    {
     "name": "stdout",
     "output_type": "stream",
     "text": [
      "Median length of text: 970.0\n"
     ]
    }
   ],
   "source": [
    "# load imdb dataset from huggingface\n",
    "dataset = load_dataset('imdb')\n",
    "\n",
    "# Creating separate DataFrames for train and test data\n",
    "train_df = pd.DataFrame({'text': dataset['train']['text'], 'label': dataset['train']['label']})\n",
    "test_df = pd.DataFrame({'text': dataset['test']['text'], 'label': dataset['test']['label']})\n",
    "\n",
    "# Concatenate the DataFrames\n",
    "imdb = pd.concat([train_df, test_df], ignore_index=True)\n",
    "\n",
    "# # Remove samples which have length greater than 4000 characters\n",
    "# imdb = imdb[imdb['text'].apply(lambda x: len(x) < 4000)]\n",
    "\n",
    "# # Reset the index after filtering\n",
    "# imdb = imdb.reset_index(drop=True)\n",
    "\n",
    "# Bin text lengths\n",
    "imdb.loc[:, 'text_length'] = imdb['text'].str.len()\n",
    "# set the length threshold to be the median length\n",
    "length_threshold = imdb['text_length'].median()\n",
    "print(f\"Median length of text: {length_threshold}\")\n",
    "imdb['is_long'] = imdb['text_length'] > length_threshold"
   ]
  },
  {
   "cell_type": "code",
   "execution_count": 3,
   "metadata": {},
   "outputs": [
    {
     "name": "stdout",
     "output_type": "stream",
     "text": [
      "is_long\n",
      "False    25003\n",
      "True     24997\n",
      "Name: count, dtype: int64\n"
     ]
    }
   ],
   "source": [
    "# make sure is_long got assigned correctly\n",
    "print(imdb['is_long'].value_counts())\n",
    "assert (imdb['is_long'] == (imdb['text'].str.len() > length_threshold)).all()"
   ]
  },
  {
   "cell_type": "markdown",
   "metadata": {},
   "source": [
    "### Check the dataset looks right"
   ]
  },
  {
   "cell_type": "code",
   "execution_count": 4,
   "metadata": {},
   "outputs": [
    {
     "data": {
      "text/plain": [
       "label\n",
       "0    25000\n",
       "1    25000\n",
       "Name: count, dtype: int64"
      ]
     },
     "execution_count": 4,
     "metadata": {},
     "output_type": "execute_result"
    }
   ],
   "source": [
    "# summarize how many of each label there are\n",
    "imdb['label'].value_counts()"
   ]
  },
  {
   "cell_type": "code",
   "execution_count": 5,
   "metadata": {},
   "outputs": [
    {
     "data": {
      "text/plain": [
       "<Axes: >"
      ]
     },
     "execution_count": 5,
     "metadata": {},
     "output_type": "execute_result"
    },
    {
     "data": {
      "image/png": "[encoded data removed]",
      "text/plain": [
       "<Figure size 640x480 with 1 Axes>"
      ]
     },
     "metadata": {},
     "output_type": "display_data"
    }
   ],
   "source": [
    "# plot distribution of how many characters are in each review\n",
    "imdb['text_length'].hist(bins=100)"
   ]
  },
  {
   "cell_type": "code",
   "execution_count": 6,
   "metadata": {},
   "outputs": [
    {
     "data": {
      "text/plain": [
       "count    50000.000000\n",
       "mean      1309.431020\n",
       "std        989.728014\n",
       "min         32.000000\n",
       "25%        699.000000\n",
       "50%        970.000000\n",
       "75%       1590.250000\n",
       "max      13704.000000\n",
       "Name: text_length, dtype: float64"
      ]
     },
     "execution_count": 6,
     "metadata": {},
     "output_type": "execute_result"
    }
   ],
   "source": [
    "# summary statistics of how many characters are in each review\n",
    "imdb['text_length'].describe()"
   ]
  },
  {
   "cell_type": "code",
   "execution_count": 7,
   "metadata": {},
   "outputs": [
    {
     "name": "stdout",
     "output_type": "stream",
     "text": [
      "label\n",
      "0    1294.06436\n",
      "1    1324.79768\n",
      "Name: text_length, dtype: float64\n",
      "label\n",
      "0    973.0\n",
      "1    968.0\n",
      "Name: text_length, dtype: float64\n"
     ]
    }
   ],
   "source": [
    "# compare the means and medians of the length of reviews for each label\n",
    "print(imdb.groupby('label')['text_length'].mean())\n",
    "print(imdb.groupby('label')['text_length'].median())"
   ]
  },
  {
   "cell_type": "code",
   "execution_count": 8,
   "metadata": {},
   "outputs": [
    {
     "data": {
      "text/html": [
       "<div>\n",
       "<style scoped>\n",
       "    .dataframe tbody tr th:only-of-type {\n",
       "        vertical-align: middle;\n",
       "    }\n",
       "\n",
       "    .dataframe tbody tr th {\n",
       "        vertical-align: top;\n",
       "    }\n",
       "\n",
       "    .dataframe thead th {\n",
       "        text-align: right;\n",
       "    }\n",
       "</style>\n",
       "<table border=\"1\" class=\"dataframe\">\n",
       "  <thead>\n",
       "    <tr style=\"text-align: right;\">\n",
       "      <th></th>\n",
       "      <th>label</th>\n",
       "      <th>text_length</th>\n",
       "    </tr>\n",
       "  </thead>\n",
       "  <tbody>\n",
       "    <tr>\n",
       "      <th>label</th>\n",
       "      <td>1.000000</td>\n",
       "      <td>0.015526</td>\n",
       "    </tr>\n",
       "    <tr>\n",
       "      <th>text_length</th>\n",
       "      <td>0.015526</td>\n",
       "      <td>1.000000</td>\n",
       "    </tr>\n",
       "  </tbody>\n",
       "</table>\n",
       "</div>"
      ],
      "text/plain": [
       "                label  text_length\n",
       "label        1.000000     0.015526\n",
       "text_length  0.015526     1.000000"
      ]
     },
     "execution_count": 8,
     "metadata": {},
     "output_type": "execute_result"
    }
   ],
   "source": [
    "# using correlation coefficient\n",
    "imdb[['label', 'text_length']].corr()"
   ]
  },
  {
   "cell_type": "code",
   "execution_count": 9,
   "metadata": {},
   "outputs": [
    {
     "data": {
      "text/plain": [
       "6.055212308120339e-06"
      ]
     },
     "execution_count": 9,
     "metadata": {},
     "output_type": "execute_result"
    }
   ],
   "source": [
    "# check the mutual information between the label and the text length\n",
    "mi = mutual_info_score(imdb['label'], imdb['is_long'])\n",
    "mi"
   ]
  },
  {
   "cell_type": "markdown",
   "metadata": {},
   "source": [
    "Good! Length and label appear to be independent. That means that we can gradually introduce a correlation and test how sensitive the conditional vs. causal estimates are!\n",
    "\n",
    "So long as our reward model *truly depends on sentiment and not length*, the correct answer should be \"no effect observed\", even as more correlation is added."
   ]
  },
  {
   "cell_type": "markdown",
   "metadata": {},
   "source": [
    "### Get rewrites from OpenAI Batch API"
   ]
  },
  {
   "cell_type": "code",
   "execution_count": 10,
   "metadata": {},
   "outputs": [],
   "source": [
    "# Get rewrites from OpenAI batch API for entire imdb dataset, while preserving the order (index) of the dataset\n",
    "\n",
    "# Setup the OpenAI client\n",
    "load_dotenv()\n",
    "client = OpenAI(\n",
    "    # This is the default and can be omitted\n",
    "    api_key=os.environ.get(\"OPENAI_API_KEY\"),\n",
    ")"
   ]
  },
  {
   "cell_type": "code",
   "execution_count": 11,
   "metadata": {},
   "outputs": [],
   "source": [
    "# # Types of rewrite instructions\n",
    "\n",
    "# flipped_length = \"shorter\" if is_long else \"longer\"\n",
    "#     counterfactual_prompt = f\"\"\"\n",
    "# Original Review: \n",
    "# {review}\n",
    "# [Adjust the original review so it's {flipped_length}, but change *nothing* else about the review (just the review, no external formatting is necessary).]\n",
    "# \"\"\"\n",
    "\n",
    "# # Extract the first 3 words of the review, to use as a guide for the model\n",
    "#     first_3_words = \"\\n\".join(review.split()[:3])\n",
    "\n",
    "#     # Prompt to the model to rewrite the review to be loquacious or pithy (opposite of whether it was short or long to begin with.)\n",
    "#     counterfactual_prompt = f\"\"\"\n",
    "# Original Review: \n",
    "# {review}\n",
    "# [Adjust the original review so it's {flipped_length}, but change *nothing* else about the review.]\n",
    "# Adjusted Review:{first_3_words}\"\"\"\n",
    "\n",
    "# flipped_length = \"shorter\" if is_long else \"longer\"\n",
    "#     counterfactual_prompt = f\"\"\"\n",
    "# Original Review: \n",
    "# {review}\n",
    "# [Adjust the original review so it's {flipped_length}, but change *nothing* else about the review. Just make it shorter or longer.]\n",
    "# \"\"\"\n",
    "# flipped_length = \"shorter\" if is_long else \"longer\"\n",
    "#     counterfactual_prompt = f\"\"\"\n",
    "# Original Review: \n",
    "# {review}\n",
    "# [Rewrite the original review so it's {flipped_length}, but change *nothing* else about the review.]\n",
    "# Adjusted Review:\n",
    "# \"\"\"\n",
    "# flipped_length = \"smaller wordcount\" if is_long else \"larger wordcount\"\n",
    "#     counterfactual_prompt = f\"\"\"\n",
    "# Original Review: \n",
    "# {review}\n",
    "# [Adjust the original review so it has a {flipped_length}, but change *nothing* else about the review.]\n",
    "# Adjusted Review:\n",
    "# \"\"\"\n",
    "# flipped_length = \"smaller wordcount by making it more pithy\" if is_long else \"larger wordcount by making it less pithy\"\n",
    "#     counterfactual_prompt = f\"\"\"\n",
    "# Original Review: \n",
    "# {review}\n",
    "# [Adjust the original review so it has a {flipped_length}, but change *nothing* else about the review.]\n",
    "# Adjusted Review:\n",
    "# \"\"\"\n",
    "# flipped_length = \"more pithy, less long\" if is_long else \"more long, less pithy\"\n",
    "#     counterfactual_prompt = f\"\"\"\n",
    "# Original Completion: \n",
    "# {review}\n",
    "# [Adjust the original completion so it's {flipped_length}, but change *nothing* else.]\n",
    "# Adjusted Completion:\n",
    "#     \"\"\"\n",
    "# flipped_length = \"pithy\" if is_long else \"loquacious\"\n",
    "#     counterfactual_prompt = f\"\"\"\n",
    "# Original Completion: \n",
    "# {review}\n",
    "# [Adjust the original completion so it's more {flipped_length}, but change *nothing* else.]\n",
    "# Adjusted Completion:\n",
    "#     \"\"\"\n",
    "# flipped_length = \"longer\" if is_long == 0 else \"shorter\"\n",
    "#     counterfactual_prompt = f\"\"\"\n",
    "#     Original Completion: \n",
    "#     {review}\n",
    "#     [Adjust the original completion so it's {flipped_length}, but change *nothing* else.]\n",
    "#     Adjusted Completion:\n",
    "#     \"\"\"\n",
    "# flipped_length = \"longer\" if is_long == 0 else \"shorter\"\n",
    "#     counterfactual_prompt = f\"\"\"\n",
    "#     Original Completion: \n",
    "#     {review}\n",
    "#     [Adjust the original completion so it's 50% {flipped_length}, but change *nothing* else.]\n",
    "#     Adjusted Completion:\n",
    "#     \"\"\"\n",
    "\n",
    "# probably worth asking chatgpt for a range of possible rewrite instructions, if I want to test sensitivity."
   ]
  },
  {
   "cell_type": "code",
   "execution_count": 12,
   "metadata": {},
   "outputs": [],
   "source": [
    "def review_messages(review, is_long):\n",
    "    \"\"\" Prompt to the model to rewrite the review to be loquacious or pithy (opposite of whether it was short or long to begin with.) \"\"\"\n",
    "\n",
    "    assert type(is_long) == bool, (f\"Expected is_long to be a boolean, but got {is_long}\",review,is_long)\n",
    "    if is_long:\n",
    "        assert len(review) > length_threshold, f\"Review is too short: {len(review)}\"\n",
    "    flipped_length = \"shorter\" if is_long else \"longer\"\n",
    "    counterfactual_prompt = f\"\"\"{review}\\n\\n[Adjust this review so it's {flipped_length}, but change *nothing* else.]\n",
    "\"\"\"\n",
    "    \n",
    "    messages=[\n",
    "                {\n",
    "                    \"role\": \"user\",\n",
    "                    \"content\": counterfactual_prompt,\n",
    "                },\n",
    "            ]\n",
    "    return messages\n",
    "\n",
    "# create each line of the batch input file\n",
    "def write_input_jsonl(df, batch_input_filename):\n",
    "    batch_input = []\n",
    "    for idx, row in df.iterrows():\n",
    "        messages = review_messages(row['text'], row['is_long'])\n",
    "        batch_input.append({\n",
    "            \"custom_id\": str(idx),\n",
    "            \"method\": \"POST\",\n",
    "            \"url\": \"/v1/chat/completions\",\n",
    "            \"body\": {\n",
    "                \"model\": \"gpt-4o-2024-08-06\",\n",
    "                \"messages\": messages,\n",
    "                \"temperature\": 0.7\n",
    "            }\n",
    "        })\n",
    "    # save the batch input file as jsonl\n",
    "    with open(batch_input_filename, 'w') as f:\n",
    "        for item in batch_input:\n",
    "            json.dump(item, f)  # Properly escape quotes and special characters\n",
    "            f.write(\"\\n\")  # Ensure each JSON object is on a new line\n"
   ]
  },
  {
   "cell_type": "code",
   "execution_count": 13,
   "metadata": {},
   "outputs": [],
   "source": [
    "sample_size = 100\n",
    "# sample the imdb dataset\n",
    "sampled_imdb = imdb.sample(sample_size, random_state=42)"
   ]
  },
  {
   "cell_type": "code",
   "execution_count": 14,
   "metadata": {},
   "outputs": [
    {
     "name": "stdout",
     "output_type": "stream",
     "text": [
      "../data/batch_api/imdb_batch_input_7403.jsonl\n"
     ]
    }
   ],
   "source": [
    "# create the batch input file with a random identifier\n",
    "file_id = np.random.randint(0, 10000)\n",
    "batch_input_filename = f\"../data/batch_api/imdb_batch_input_{file_id}.jsonl\"\n",
    "print(batch_input_filename)\n",
    "\n",
    "# write the batch input file\n",
    "write_input_jsonl(sampled_imdb, batch_input_filename)"
   ]
  },
  {
   "cell_type": "code",
   "execution_count": 15,
   "metadata": {},
   "outputs": [
    {
     "name": "stdout",
     "output_type": "stream",
     "text": [
      "Batch(id='batch_fyVSwqjqKHPDrge5gDvOSYv9', completion_window='24h', created_at=1725159711, endpoint='/v1/chat/completions', input_file_id='file-gE0v4Lej8g4unkE9VuPhCcTb', object='batch', status='validating', cancelled_at=None, cancelling_at=None, completed_at=None, error_file_id=None, errors=None, expired_at=None, expires_at=1725246111, failed_at=None, finalizing_at=None, in_progress_at=None, metadata={'description': 'test run'}, output_file_id=None, request_counts=BatchRequestCounts(completed=0, failed=0, total=0))\n"
     ]
    }
   ],
   "source": [
    "# Upload the batch file\n",
    "batch_input_file = client.files.create(\n",
    "    file=open(batch_input_filename, \"rb\"),\n",
    "    purpose=\"batch\"\n",
    ")\n",
    "\n",
    "# Create the batch job\n",
    "batch = client.batches.create(\n",
    "    input_file_id=batch_input_file.id,\n",
    "    endpoint=\"/v1/chat/completions\",\n",
    "    completion_window=\"24h\",\n",
    "    metadata={\n",
    "        \"description\":\"test run\"\n",
    "    }\n",
    ")\n",
    "print(batch)"
   ]
  },
  {
   "cell_type": "code",
   "execution_count": 16,
   "metadata": {},
   "outputs": [
    {
     "name": "stdout",
     "output_type": "stream",
     "text": [
      "completed\n"
     ]
    }
   ],
   "source": [
    "# Retrieve and print the details of the batch\n",
    "print(client.batches.retrieve(batch.id).status)"
   ]
  },
  {
   "cell_type": "code",
   "execution_count": 17,
   "metadata": {},
   "outputs": [
    {
     "name": "stdout",
     "output_type": "stream",
     "text": [
      "../data/batch_api/imdb_batch_output_7403.jsonl\n"
     ]
    }
   ],
   "source": [
    "# create the batch output file\n",
    "batch_output_filename = f\"../data/batch_api/imdb_batch_output_{file_id}.jsonl\"\n",
    "print(batch_output_filename)\n",
    "\n",
    "# Retrieve the output file and write it to a local file\n",
    "content = client.files.content(client.batches.retrieve(batch.id).output_file_id)\n",
    "content.write_to_file(batch_output_filename)"
   ]
  },
  {
   "cell_type": "code",
   "execution_count": 26,
   "metadata": {},
   "outputs": [
    {
     "data": {
      "text/html": [
       "<div>\n",
       "<style scoped>\n",
       "    .dataframe tbody tr th:only-of-type {\n",
       "        vertical-align: middle;\n",
       "    }\n",
       "\n",
       "    .dataframe tbody tr th {\n",
       "        vertical-align: top;\n",
       "    }\n",
       "\n",
       "    .dataframe thead th {\n",
       "        text-align: right;\n",
       "    }\n",
       "</style>\n",
       "<table border=\"1\" class=\"dataframe\">\n",
       "  <thead>\n",
       "    <tr style=\"text-align: right;\">\n",
       "      <th></th>\n",
       "      <th>text</th>\n",
       "      <th>label</th>\n",
       "      <th>text_length</th>\n",
       "      <th>is_long</th>\n",
       "      <th>sample_id</th>\n",
       "      <th>rewritten_review</th>\n",
       "    </tr>\n",
       "  </thead>\n",
       "  <tbody>\n",
       "    <tr>\n",
       "      <th>0</th>\n",
       "      <td>Forget what I said about Emeril. Rachael Ray i...</td>\n",
       "      <td>0</td>\n",
       "      <td>925</td>\n",
       "      <td>False</td>\n",
       "      <td>33553</td>\n",
       "      <td>Forget what I said about Emeril. Rachael Ray i...</td>\n",
       "    </tr>\n",
       "    <tr>\n",
       "      <th>1</th>\n",
       "      <td>Former private eye-turned-security guard ditch...</td>\n",
       "      <td>0</td>\n",
       "      <td>1155</td>\n",
       "      <td>True</td>\n",
       "      <td>9427</td>\n",
       "      <td>Former private eye-turned-security guard ditch...</td>\n",
       "    </tr>\n",
       "    <tr>\n",
       "      <th>2</th>\n",
       "      <td>Mann photographs the Alberta Rocky Mountains i...</td>\n",
       "      <td>0</td>\n",
       "      <td>787</td>\n",
       "      <td>False</td>\n",
       "      <td>199</td>\n",
       "      <td>Mann photographs the Alberta Rocky Mountains i...</td>\n",
       "    </tr>\n",
       "    <tr>\n",
       "      <th>3</th>\n",
       "      <td>Simply put: the movie is boring. Cliché upon c...</td>\n",
       "      <td>0</td>\n",
       "      <td>986</td>\n",
       "      <td>True</td>\n",
       "      <td>12447</td>\n",
       "      <td>The movie is boring, filled with clichés, and ...</td>\n",
       "    </tr>\n",
       "    <tr>\n",
       "      <th>4</th>\n",
       "      <td>Now being a fan of sci fi, the trailer for thi...</td>\n",
       "      <td>1</td>\n",
       "      <td>416</td>\n",
       "      <td>False</td>\n",
       "      <td>39489</td>\n",
       "      <td>Now, being a fan of sci-fi, I must admit that ...</td>\n",
       "    </tr>\n",
       "  </tbody>\n",
       "</table>\n",
       "</div>"
      ],
      "text/plain": [
       "                                                text  label  text_length  \\\n",
       "0  Forget what I said about Emeril. Rachael Ray i...      0          925   \n",
       "1  Former private eye-turned-security guard ditch...      0         1155   \n",
       "2  Mann photographs the Alberta Rocky Mountains i...      0          787   \n",
       "3  Simply put: the movie is boring. Cliché upon c...      0          986   \n",
       "4  Now being a fan of sci fi, the trailer for thi...      1          416   \n",
       "\n",
       "   is_long  sample_id                                   rewritten_review  \n",
       "0    False      33553  Forget what I said about Emeril. Rachael Ray i...  \n",
       "1     True       9427  Former private eye-turned-security guard ditch...  \n",
       "2    False        199  Mann photographs the Alberta Rocky Mountains i...  \n",
       "3     True      12447  The movie is boring, filled with clichés, and ...  \n",
       "4    False      39489  Now, being a fan of sci-fi, I must admit that ...  "
      ]
     },
     "execution_count": 26,
     "metadata": {},
     "output_type": "execute_result"
    }
   ],
   "source": [
    "# Process the outputs and merge them with the original DataFrame\n",
    "custom_ids = []\n",
    "contents = []\n",
    "\n",
    "# Read and parse the JSON lines\n",
    "with open(batch_output_filename, 'r') as file:\n",
    "    for line in file:\n",
    "        data = json.loads(line)\n",
    "        custom_id = data.get('custom_id')\n",
    "        content = data['response']['body']['choices'][0]['message']['content']\n",
    "        \n",
    "        custom_ids.append(int(custom_id))\n",
    "        contents.append(content)\n",
    "\n",
    "# Create a DataFrame from the extracted data\n",
    "rewrites = pd.DataFrame({\n",
    "    'sample_id': custom_ids,\n",
    "    'rewritten_review': contents\n",
    "})\n",
    "\n",
    "# Merge the DataFrames\n",
    "merged_df = pd.merge(sampled_imdb, rewrites, left_index=True, right_on='sample_id')\n",
    "\n",
    "# Display the merged DataFrame\n",
    "merged_df.head()\n"
   ]
  },
  {
   "cell_type": "markdown",
   "metadata": {},
   "source": [
    "### Setup the Sentiment classifier\n",
    "\n",
    "We'll use a common classifer."
   ]
  },
  {
   "cell_type": "code",
   "execution_count": 29,
   "metadata": {},
   "outputs": [
    {
     "data": {
      "application/vnd.jupyter.widget-view+json": {
       "model_id": "c1c154afc52e478190b3738b4f5894e5",
       "version_major": 2,
       "version_minor": 0
      },
      "text/plain": [
       "tokenizer_config.json:   0%|          | 0.00/48.0 [00:00<?, ?B/s]"
      ]
     },
     "metadata": {},
     "output_type": "display_data"
    },
    {
     "data": {
      "application/vnd.jupyter.widget-view+json": {
       "model_id": "517628610eb149e4930eef3e29e917cf",
       "version_major": 2,
       "version_minor": 0
      },
      "text/plain": [
       "vocab.txt:   0%|          | 0.00/232k [00:00<?, ?B/s]"
      ]
     },
     "metadata": {},
     "output_type": "display_data"
    },
    {
     "data": {
      "application/vnd.jupyter.widget-view+json": {
       "model_id": "aee10cd8215c44d19806e782cf4df857",
       "version_major": 2,
       "version_minor": 0
      },
      "text/plain": [
       "config.json:   0%|          | 0.00/629 [00:00<?, ?B/s]"
      ]
     },
     "metadata": {},
     "output_type": "display_data"
    },
    {
     "data": {
      "application/vnd.jupyter.widget-view+json": {
       "model_id": "3178b4f05b854b97acf18914abc9be0a",
       "version_major": 2,
       "version_minor": 0
      },
      "text/plain": [
       "model.safetensors:   0%|          | 0.00/268M [00:00<?, ?B/s]"
      ]
     },
     "metadata": {},
     "output_type": "display_data"
    }
   ],
   "source": [
    "sentiment_tokenizer = DistilBertTokenizer.from_pretrained(\"distilbert-base-uncased-finetuned-sst-2-english\")\n",
    "sentiment_model = DistilBertForSequenceClassification.from_pretrained(\"distilbert-base-uncased-finetuned-sst-2-english\")"
   ]
  },
  {
   "cell_type": "code",
   "execution_count": 36,
   "metadata": {},
   "outputs": [],
   "source": [
    "def get_sentiment_score(review):\n",
    "    inputs = sentiment_tokenizer(review, return_tensors=\"pt\", truncation=True)\n",
    "\n",
    "    if inputs['input_ids'].shape[1] > 512:\n",
    "        chunk_size = 512\n",
    "        input_ids = inputs['input_ids'].squeeze(0)\n",
    "        attention_mask = inputs['attention_mask'].squeeze(0)\n",
    "\n",
    "        chunked_probs = []\n",
    "        for i in range(0, input_ids.size(0), chunk_size):\n",
    "            input_chunk = input_ids[i:i + chunk_size].unsqueeze(0)\n",
    "            attention_chunk = attention_mask[i:i + chunk_size].unsqueeze(0)\n",
    "            with torch.no_grad():\n",
    "                logits = sentiment_model(input_ids=input_chunk, attention_mask=attention_chunk).logits\n",
    "                probs = F.softmax(logits, dim=-1)\n",
    "            chunked_probs.append(probs)\n",
    "\n",
    "        # Compute geometric mean of probabilities across chunks\n",
    "        mean_probs = torch.exp(torch.mean(torch.log(torch.stack(chunked_probs)), dim=0))\n",
    "\n",
    "        # Convert the mean probabilities back to logits\n",
    "        logits = torch.log(mean_probs)\n",
    "    else:\n",
    "        with torch.no_grad():\n",
    "            logits = sentiment_model(**inputs).logits\n",
    "\n",
    "    positive_logit = logits[0, 1].item()  # Directly return the logit for positive sentiment\n",
    "\n",
    "    return positive_logit\n",
    "\n",
    "# Apply the sentiment classifier to both the original and rewritten reviews\n",
    "merged_df['orig_reward'] = merged_df['text'].apply(get_sentiment_score)\n",
    "merged_df['rewrite_reward'] = merged_df['rewritten_review'].apply(get_sentiment_score)"
   ]
  },
  {
   "cell_type": "code",
   "execution_count": 37,
   "metadata": {},
   "outputs": [
    {
     "data": {
      "text/html": [
       "<div>\n",
       "<style scoped>\n",
       "    .dataframe tbody tr th:only-of-type {\n",
       "        vertical-align: middle;\n",
       "    }\n",
       "\n",
       "    .dataframe tbody tr th {\n",
       "        vertical-align: top;\n",
       "    }\n",
       "\n",
       "    .dataframe thead th {\n",
       "        text-align: right;\n",
       "    }\n",
       "</style>\n",
       "<table border=\"1\" class=\"dataframe\">\n",
       "  <thead>\n",
       "    <tr style=\"text-align: right;\">\n",
       "      <th></th>\n",
       "      <th>text</th>\n",
       "      <th>label</th>\n",
       "      <th>text_length</th>\n",
       "      <th>is_long</th>\n",
       "      <th>sample_id</th>\n",
       "      <th>rewritten_review</th>\n",
       "      <th>orig_reward</th>\n",
       "      <th>rewrite_reward</th>\n",
       "    </tr>\n",
       "  </thead>\n",
       "  <tbody>\n",
       "    <tr>\n",
       "      <th>0</th>\n",
       "      <td>Forget what I said about Emeril. Rachael Ray i...</td>\n",
       "      <td>0</td>\n",
       "      <td>925</td>\n",
       "      <td>False</td>\n",
       "      <td>33553</td>\n",
       "      <td>Forget what I said about Emeril. Rachael Ray i...</td>\n",
       "      <td>-3.711692</td>\n",
       "      <td>-2.278748</td>\n",
       "    </tr>\n",
       "    <tr>\n",
       "      <th>1</th>\n",
       "      <td>Former private eye-turned-security guard ditch...</td>\n",
       "      <td>0</td>\n",
       "      <td>1155</td>\n",
       "      <td>True</td>\n",
       "      <td>9427</td>\n",
       "      <td>Former private eye-turned-security guard ditch...</td>\n",
       "      <td>-1.772361</td>\n",
       "      <td>-2.544573</td>\n",
       "    </tr>\n",
       "    <tr>\n",
       "      <th>2</th>\n",
       "      <td>Mann photographs the Alberta Rocky Mountains i...</td>\n",
       "      <td>0</td>\n",
       "      <td>787</td>\n",
       "      <td>False</td>\n",
       "      <td>199</td>\n",
       "      <td>Mann photographs the Alberta Rocky Mountains i...</td>\n",
       "      <td>0.454779</td>\n",
       "      <td>0.521912</td>\n",
       "    </tr>\n",
       "    <tr>\n",
       "      <th>3</th>\n",
       "      <td>Simply put: the movie is boring. Cliché upon c...</td>\n",
       "      <td>0</td>\n",
       "      <td>986</td>\n",
       "      <td>True</td>\n",
       "      <td>12447</td>\n",
       "      <td>The movie is boring, filled with clichés, and ...</td>\n",
       "      <td>-3.819314</td>\n",
       "      <td>-3.796844</td>\n",
       "    </tr>\n",
       "    <tr>\n",
       "      <th>4</th>\n",
       "      <td>Now being a fan of sci fi, the trailer for thi...</td>\n",
       "      <td>1</td>\n",
       "      <td>416</td>\n",
       "      <td>False</td>\n",
       "      <td>39489</td>\n",
       "      <td>Now, being a fan of sci-fi, I must admit that ...</td>\n",
       "      <td>4.446308</td>\n",
       "      <td>4.399087</td>\n",
       "    </tr>\n",
       "    <tr>\n",
       "      <th>...</th>\n",
       "      <td>...</td>\n",
       "      <td>...</td>\n",
       "      <td>...</td>\n",
       "      <td>...</td>\n",
       "      <td>...</td>\n",
       "      <td>...</td>\n",
       "      <td>...</td>\n",
       "      <td>...</td>\n",
       "    </tr>\n",
       "    <tr>\n",
       "      <th>95</th>\n",
       "      <td>Rebar is an astronaut who goes on the world's ...</td>\n",
       "      <td>0</td>\n",
       "      <td>993</td>\n",
       "      <td>True</td>\n",
       "      <td>3928</td>\n",
       "      <td>Rebar is an astronaut who goes on the world's ...</td>\n",
       "      <td>-3.502153</td>\n",
       "      <td>-3.335153</td>\n",
       "    </tr>\n",
       "    <tr>\n",
       "      <th>96</th>\n",
       "      <td>I went to see this film because it was recomme...</td>\n",
       "      <td>0</td>\n",
       "      <td>3274</td>\n",
       "      <td>True</td>\n",
       "      <td>37286</td>\n",
       "      <td>I went to see this film because it was recomme...</td>\n",
       "      <td>-1.636145</td>\n",
       "      <td>0.688747</td>\n",
       "    </tr>\n",
       "    <tr>\n",
       "      <th>97</th>\n",
       "      <td>STMD! is not a terrible movie, but it IS quite...</td>\n",
       "      <td>0</td>\n",
       "      <td>721</td>\n",
       "      <td>False</td>\n",
       "      <td>25045</td>\n",
       "      <td>STMD! is not a terrible movie, but it IS quite...</td>\n",
       "      <td>-3.368389</td>\n",
       "      <td>-3.504114</td>\n",
       "    </tr>\n",
       "    <tr>\n",
       "      <th>98</th>\n",
       "      <td>Pakeezah has a very interesting history (which...</td>\n",
       "      <td>1</td>\n",
       "      <td>974</td>\n",
       "      <td>True</td>\n",
       "      <td>15727</td>\n",
       "      <td>Pakeezah has a fascinating history, as destiny...</td>\n",
       "      <td>4.019710</td>\n",
       "      <td>4.454218</td>\n",
       "    </tr>\n",
       "    <tr>\n",
       "      <th>99</th>\n",
       "      <td>I was looking forward to seeing two bright you...</td>\n",
       "      <td>0</td>\n",
       "      <td>627</td>\n",
       "      <td>False</td>\n",
       "      <td>29600</td>\n",
       "      <td>I was eagerly looking forward to seeing two br...</td>\n",
       "      <td>-2.868752</td>\n",
       "      <td>-2.511468</td>\n",
       "    </tr>\n",
       "  </tbody>\n",
       "</table>\n",
       "<p>100 rows × 8 columns</p>\n",
       "</div>"
      ],
      "text/plain": [
       "                                                 text  label  text_length  \\\n",
       "0   Forget what I said about Emeril. Rachael Ray i...      0          925   \n",
       "1   Former private eye-turned-security guard ditch...      0         1155   \n",
       "2   Mann photographs the Alberta Rocky Mountains i...      0          787   \n",
       "3   Simply put: the movie is boring. Cliché upon c...      0          986   \n",
       "4   Now being a fan of sci fi, the trailer for thi...      1          416   \n",
       "..                                                ...    ...          ...   \n",
       "95  Rebar is an astronaut who goes on the world's ...      0          993   \n",
       "96  I went to see this film because it was recomme...      0         3274   \n",
       "97  STMD! is not a terrible movie, but it IS quite...      0          721   \n",
       "98  Pakeezah has a very interesting history (which...      1          974   \n",
       "99  I was looking forward to seeing two bright you...      0          627   \n",
       "\n",
       "    is_long  sample_id                                   rewritten_review  \\\n",
       "0     False      33553  Forget what I said about Emeril. Rachael Ray i...   \n",
       "1      True       9427  Former private eye-turned-security guard ditch...   \n",
       "2     False        199  Mann photographs the Alberta Rocky Mountains i...   \n",
       "3      True      12447  The movie is boring, filled with clichés, and ...   \n",
       "4     False      39489  Now, being a fan of sci-fi, I must admit that ...   \n",
       "..      ...        ...                                                ...   \n",
       "95     True       3928  Rebar is an astronaut who goes on the world's ...   \n",
       "96     True      37286  I went to see this film because it was recomme...   \n",
       "97    False      25045  STMD! is not a terrible movie, but it IS quite...   \n",
       "98     True      15727  Pakeezah has a fascinating history, as destiny...   \n",
       "99    False      29600  I was eagerly looking forward to seeing two br...   \n",
       "\n",
       "    orig_reward  rewrite_reward  \n",
       "0     -3.711692       -2.278748  \n",
       "1     -1.772361       -2.544573  \n",
       "2      0.454779        0.521912  \n",
       "3     -3.819314       -3.796844  \n",
       "4      4.446308        4.399087  \n",
       "..          ...             ...  \n",
       "95    -3.502153       -3.335153  \n",
       "96    -1.636145        0.688747  \n",
       "97    -3.368389       -3.504114  \n",
       "98     4.019710        4.454218  \n",
       "99    -2.868752       -2.511468  \n",
       "\n",
       "[100 rows x 8 columns]"
      ]
     },
     "execution_count": 37,
     "metadata": {},
     "output_type": "execute_result"
    }
   ],
   "source": [
    "merged_df"
   ]
  },
  {
   "cell_type": "markdown",
   "metadata": {},
   "source": [
    "ok...now the reward seems to be working correctly. I'll need to run it on the cluster for any larger experiment, however."
   ]
  },
  {
   "cell_type": "markdown",
   "metadata": {},
   "source": [
    "### Strategy for Creating Gradual Correlation\n",
    "Bin Text Lengths\n",
    "\n",
    "- Texts are divided into two bins based on their length:\n",
    "        - Texts longer than 1200 characters\n",
    "        - Texts shorter than or equal to 1200 characters\n",
    "    - Note: Given a truncation at 4000 characters, each bin is equally likely to be sampled when reviewing either positive or negative samples, ensuring an initial uniform distribution across bins.\n",
    "\n",
    "Initial Distribution\n",
    "\n",
    "    - The initial distribution across the two bins is modeled as a Bernoulli distribution with p=0.5, indicating no initial correlation between text length and sentiment:\n",
    "        - P(long∣positive)=0.5\n",
    "        - P(long∣negative)=0.5\n",
    "\n",
    "Gradual Increase in Correlation\n",
    "\n",
    "    - A sequence of DataFrames will be generated to represent a gradually increasing correlation between long reviews and positive sentiments:\n",
    "        - For each experiment iteration i from 1 to 10:\n",
    "            - Initialize the ith DataFrame.\n",
    "            - For each sample j from 1 to num_samples:\n",
    "                - Sample the sentiment sj​ from Bernoulli(0.5), where 1 represents a positive sentiment and 0 represents a negative sentiment.\n",
    "                - Conditionally sample the review length:\n",
    "                    - If sj​ is positive, sample from the long bin with P(long∣sj=positive)=0.5+0.05*i\n",
    "                    - If sj​ is negative, sample from the long bin with P(long∣sj=negative)=0.5−0.05*i\n",
    "\n",
    "Target Distribution for Perfect Correlation\n",
    "\n",
    "    - In the final step (i=10), achieve perfect correlation:\n",
    "        - P(long∣positive)=1: All long reviews will be positive.\n",
    "        - P(long∣negative)=0: No long reviews will be negative."
   ]
  },
  {
   "cell_type": "code",
   "execution_count": 95,
   "metadata": {},
   "outputs": [
    {
     "name": "stdout",
     "output_type": "stream",
     "text": [
      "(49, 8) (51, 8)\n"
     ]
    }
   ],
   "source": [
    "# Parameters\n",
    "num_dfs = 10\n",
    "num_samples = sample_size // num_dfs\n",
    "assert num_samples >= 10, \"Number of samples per DataFrame is too low\"\n",
    "print(\"Number of samples per DataFrame:\", 2*num_samples)\n",
    "\n",
    "# Split the dataset into long and short texts\n",
    "long_texts = merged_df[merged_df['is_long']]\n",
    "short_texts = merged_df[~merged_df['is_long']]\n",
    "print(long_texts.shape, short_texts.shape)\n",
    "\n",
    "# Initialize list to hold the DataFrames\n",
    "correlated_dataframes = []\n",
    "\n",
    "# Generate a sequence of DataFrames with increasing correlation\n",
    "for i in range(1, num_dfs + 1):\n",
    "    # Define probabilities for long reviews based on the current iteration\n",
    "    p_long_positive = 0.5 + 0.05 * i\n",
    "    p_long_negative = 0.5 - 0.05 * i\n",
    "\n",
    "    # Determine how many long texts should be selected for each sentiment\n",
    "    num_long_positive = np.random.binomial(num_samples, p_long_positive)\n",
    "    num_long_negative = np.random.binomial(num_samples, p_long_negative)\n",
    "\n",
    "    # Sample texts based on the computed probabilities\n",
    "    positive_samples = pd.concat([\n",
    "        long_texts[long_texts['label'] == 1].sample(num_long_positive, replace=False),\n",
    "        short_texts[short_texts['label'] == 1].sample(num_samples - num_long_positive, replace=False)\n",
    "    ])\n",
    "\n",
    "    negative_samples = pd.concat([\n",
    "        long_texts[long_texts['label'] == 0].sample(num_long_negative, replace=False),\n",
    "        short_texts[short_texts['label'] == 0].sample(num_samples - num_long_negative, replace=False)\n",
    "    ])\n",
    "\n",
    "    # Combine positive and negative samples\n",
    "    combined_samples = pd.concat([positive_samples, negative_samples]).sample(frac=1).reset_index(drop=True)\n",
    "\n",
    "    # Append the DataFrame to the list\n",
    "    correlated_dataframes.append(combined_samples)\n",
    "\n",
    "# `correlated_dataframes` now contains the DataFrames with increasing correlation"
   ]
  },
  {
   "cell_type": "markdown",
   "metadata": {},
   "source": [
    "### Checks to make sure the dataframes are set up correctly"
   ]
  },
  {
   "cell_type": "code",
   "execution_count": 96,
   "metadata": {},
   "outputs": [
    {
     "name": "stdout",
     "output_type": "stream",
     "text": [
      "DataFrame 1\n",
      "label\n",
      "1    10\n",
      "0    10\n",
      "Name: count, dtype: int64\n",
      "count      20.000000\n",
      "mean     1160.150000\n",
      "std       691.215274\n",
      "min       412.000000\n",
      "25%       722.750000\n",
      "50%       868.500000\n",
      "75%      1485.000000\n",
      "max      2895.000000\n",
      "Name: text, dtype: float64\n",
      "                                                text  label  text_length  \\\n",
      "0  Best Stephen King film alongside IT, though th...      1          725   \n",
      "1  This is definitely an appropriate update for t...      1         1173   \n",
      "2  Normally I wouldn't go to the trouble of comme...      0          790   \n",
      "3  In 'Hoot' Logan Lerman plays Roy Eberhardt, th...      1          893   \n",
      "4  I think Micheal Ironsides acting career must b...      0          864   \n",
      "\n",
      "   is_long  sample_id                                   rewritten_review  \\\n",
      "0    False      18471  Sure, here's an extended version of your revie...   \n",
      "1     True      22367  This update is fitting, except now \"party on t...   \n",
      "2    False      27578  Normally, I wouldn't go to the trouble of comm...   \n",
      "3    False      42724  In 'Hoot,' Logan Lerman plays Roy Eberhardt, t...   \n",
      "4    False       4144  I think Micheal Ironsides acting career must b...   \n",
      "\n",
      "   orig_reward  rewrite_reward  \n",
      "0     3.460735        4.487652  \n",
      "1     0.618962        2.352548  \n",
      "2    -0.922056       -3.057320  \n",
      "3     3.306441        3.247596  \n",
      "4    -3.550848       -2.484222  \n",
      "\n",
      "\n",
      "DataFrame 2\n",
      "label\n",
      "1    10\n",
      "0    10\n",
      "Name: count, dtype: int64\n",
      "count      20.000000\n",
      "mean     1591.450000\n",
      "std      1276.563705\n",
      "min       337.000000\n",
      "25%       669.000000\n",
      "50%       985.500000\n",
      "75%      2462.000000\n",
      "max      5188.000000\n",
      "Name: text, dtype: float64\n",
      "                                                text  label  text_length  \\\n",
      "0  I saw this movie on late night TV out of Buffa...      1          834   \n",
      "1  `Stanley and Iris' is a heart warming film abo...      1          676   \n",
      "2  In the same vein as Natural Born Killers, anot...      1         5188   \n",
      "3  This is the worst film I have ever seen.I was ...      0          337   \n",
      "4  not a Larry Mcmurty masterpiece but it stands ...      1          582   \n",
      "\n",
      "   is_long  sample_id                                   rewritten_review  \\\n",
      "0    False      41252  I recently reminisced about a movie I caught o...   \n",
      "1    False      12609  \"Stanley and Iris\" is a truly heartwarming fil...   \n",
      "2     True      21123  Kalifornia, much like Natural Born Killers, re...   \n",
      "3    False      10822  This is, without a doubt, the worst film I hav...   \n",
      "4    False      43824  Not a Larry McMurtry masterpiece, but it stand...   \n",
      "\n",
      "   orig_reward  rewrite_reward  \n",
      "0     3.861968        4.160246  \n",
      "1     4.145913        4.426475  \n",
      "2     1.805440        3.105388  \n",
      "3    -3.761610       -3.773967  \n",
      "4     2.972854        4.362830  \n",
      "\n",
      "\n",
      "DataFrame 3\n",
      "label\n",
      "0    10\n",
      "1    10\n",
      "Name: count, dtype: int64\n",
      "count      20.000000\n",
      "mean     1204.450000\n",
      "std      1012.223736\n",
      "min       330.000000\n",
      "25%       765.000000\n",
      "50%       917.500000\n",
      "75%      1316.500000\n",
      "max      5048.000000\n",
      "Name: text, dtype: float64\n",
      "                                                text  label  text_length  \\\n",
      "0  I'm a big fan of the true crime genre, but I c...      0          412   \n",
      "1  This is definitely an appropriate update for t...      1         1173   \n",
      "2  When it was announced the \"King of Pop\" was de...      1         1825   \n",
      "3  After an undercover mission in Bucharest to di...      0         1354   \n",
      "4  So, Madonna isn't Meryl Streep. Still, this is...      1          942   \n",
      "\n",
      "   is_long  sample_id                                   rewritten_review  \\\n",
      "0    False      11076  I'm a big fan of the true crime genre, and I u...   \n",
      "1     True      22367  This update is fitting, except now \"party on t...   \n",
      "2     True      46734  When the \"King of Pop\" was announced dead at a...   \n",
      "3     True      36803  After an undercover mission in Bucharest to ex...   \n",
      "4    False      47522  So, Madonna isn't Meryl Streep. Still, this is...   \n",
      "\n",
      "   orig_reward  rewrite_reward  \n",
      "0    -3.262458       -3.075563  \n",
      "1     0.618962        2.352548  \n",
      "2     3.353265       -1.384781  \n",
      "3    -3.273249       -3.354420  \n",
      "4    -1.389879        0.821334  \n",
      "\n",
      "\n",
      "DataFrame 4\n",
      "label\n",
      "0    10\n",
      "1    10\n",
      "Name: count, dtype: int64\n",
      "count      20.000000\n",
      "mean     1694.150000\n",
      "std      1139.094667\n",
      "min       412.000000\n",
      "25%       943.250000\n",
      "50%      1322.500000\n",
      "75%      2332.250000\n",
      "max      5188.000000\n",
      "Name: text, dtype: float64\n",
      "                                                text  label  text_length  \\\n",
      "0  turned out to be another failed attempt by the...      0         1141   \n",
      "1  This is a remake of the anime classic from the...      1          699   \n",
      "2  Let me first off say that I am a believer of g...      0         2750   \n",
      "3  SPOILERS Every major regime uses the country's...      1         2236   \n",
      "4  Please Note: I see from the various posts that...      0         2306   \n",
      "\n",
      "   is_long  sample_id                                   rewritten_review  \\\n",
      "0     True       4892  Another failed attempt by the laughable sci-fi...   \n",
      "1    False      41514  This is a remake of the anime classic from the...   \n",
      "2     True      30263  I'm a believer in ghosts, having had enough ex...   \n",
      "3     True      48224  Every major regime uses the country's media to...   \n",
      "4     True        725  Please Note: I saw the sound version of this f...   \n",
      "\n",
      "   orig_reward  rewrite_reward  \n",
      "0    -3.580217       -3.518461  \n",
      "1     3.360464        4.340679  \n",
      "2    -1.955415       -2.309303  \n",
      "3     4.180202        4.272779  \n",
      "4    -3.179145       -3.012956  \n",
      "\n",
      "\n",
      "DataFrame 5\n",
      "label\n",
      "0    10\n",
      "1    10\n",
      "Name: count, dtype: int64\n",
      "count      20.000000\n",
      "mean     1022.250000\n",
      "std       502.176094\n",
      "min       330.000000\n",
      "25%       816.250000\n",
      "50%       940.500000\n",
      "75%      1205.750000\n",
      "max      2411.000000\n",
      "Name: text, dtype: float64\n",
      "                                                text  label  text_length  \\\n",
      "0  Former private eye-turned-security guard ditch...      0         1155   \n",
      "1  I like the shepherd! Sure the acting wasn't go...      1          873   \n",
      "2  Wow, this movie was absolutely brilliant. I re...      1          909   \n",
      "3  I first discovered Alexander Korda's (1940) Fa...      1         1560   \n",
      "4  Chilling, majestic piece of cinematic fright, ...      1         2411   \n",
      "\n",
      "   is_long  sample_id                                   rewritten_review  \\\n",
      "0     True       9427  Former private eye-turned-security guard ditch...   \n",
      "1    False      38340  I like the shepherd! Sure, the acting wasn't g...   \n",
      "2    False      22062  Wow, this movie was absolutely brilliant. I re...   \n",
      "3     True      22949  I discovered Alexander Korda's (1940) Fantasy,...   \n",
      "4     True      15079  Chilling, majestic piece of cinematic fright, ...   \n",
      "\n",
      "   orig_reward  rewrite_reward  \n",
      "0    -1.772361       -2.544573  \n",
      "1     3.843377        4.193921  \n",
      "2     4.031902        4.246973  \n",
      "3     3.411530        3.844931  \n",
      "4     3.206814        3.322982  \n",
      "\n",
      "\n",
      "DataFrame 6\n",
      "label\n",
      "1    10\n",
      "0    10\n",
      "Name: count, dtype: int64\n",
      "count      20.000000\n",
      "mean     1511.450000\n",
      "std      1174.784705\n",
      "min       337.000000\n",
      "25%       742.000000\n",
      "50%      1046.500000\n",
      "75%      2075.500000\n",
      "max      5188.000000\n",
      "Name: text, dtype: float64\n",
      "                                                text  label  text_length  \\\n",
      "0  I read that Jessie Matthews was approached and...      1         2549   \n",
      "1  I'm a big fan of the true crime genre, but I c...      0          412   \n",
      "2  Normally I wouldn't go to the trouble of comme...      0          790   \n",
      "3  I never had an inkling while watching the movi...      1         1019   \n",
      "4  Let me start off by saying I love Japanese cin...      0          749   \n",
      "\n",
      "   is_long  sample_id                                   rewritten_review  \\\n",
      "0     True      17240  I read that Jessie Matthews was approached and...   \n",
      "1    False      11076  I'm a big fan of the true crime genre, and I u...   \n",
      "2    False      27578  Normally, I wouldn't go to the trouble of comm...   \n",
      "3     True      17523  I never had an inkling while watching the movi...   \n",
      "4    False      36056  Let me start off by saying I love Japanese cin...   \n",
      "\n",
      "   orig_reward  rewrite_reward  \n",
      "0    -1.900461       -1.668304  \n",
      "1    -3.262458       -3.075563  \n",
      "2    -0.922056       -3.057320  \n",
      "3     2.398431        3.401632  \n",
      "4    -2.458089       -2.995395  \n",
      "\n",
      "\n",
      "DataFrame 7\n",
      "label\n",
      "0    10\n",
      "1    10\n",
      "Name: count, dtype: int64\n",
      "count      20.0000\n",
      "mean     1204.0000\n",
      "std      1131.0782\n",
      "min       330.0000\n",
      "25%       636.0000\n",
      "50%       870.0000\n",
      "75%      1288.2500\n",
      "max      5188.0000\n",
      "Name: text, dtype: float64\n",
      "                                                text  label  text_length  \\\n",
      "0  After seeing Shootfighter 1, and the buckets o...      0          372   \n",
      "1  Chilling, majestic piece of cinematic fright, ...      1         2411   \n",
      "2  Pakeezah has a very interesting history (which...      1          974   \n",
      "3  I think Micheal Ironsides acting career must b...      0          864   \n",
      "4  To say I was disappointed is an understatement...      0          823   \n",
      "\n",
      "   is_long  sample_id                                   rewritten_review  \\\n",
      "0    False      34657  After seeing Shootfighter 1, and the buckets o...   \n",
      "1     True      15079  Chilling, majestic piece of cinematic fright, ...   \n",
      "2     True      15727  Pakeezah has a fascinating history, as destiny...   \n",
      "3    False       4144  I think Micheal Ironsides acting career must b...   \n",
      "4    False      26335  To say I was disappointed is an understatement...   \n",
      "\n",
      "   orig_reward  rewrite_reward  \n",
      "0    -0.978824        1.365386  \n",
      "1     3.206814        3.322982  \n",
      "2     4.019710        4.454218  \n",
      "3    -3.550848       -2.484222  \n",
      "4    -1.723286       -2.464352  \n",
      "\n",
      "\n",
      "DataFrame 8\n",
      "label\n",
      "0    10\n",
      "1    10\n",
      "Name: count, dtype: int64\n",
      "count      20.000000\n",
      "mean     1309.450000\n",
      "std      1173.555797\n",
      "min       330.000000\n",
      "25%       765.250000\n",
      "50%       921.500000\n",
      "75%      1149.000000\n",
      "max      5188.000000\n",
      "Name: text, dtype: float64\n",
      "                                                text  label  text_length  \\\n",
      "0  Normally I wouldn't go to the trouble of comme...      0          790   \n",
      "1  Rosie Perez is the lead in this very engaging ...      1         2700   \n",
      "2  This is a powerful documentary about domestic ...      1         1074   \n",
      "3  Forget what I said about Emeril. Rachael Ray i...      0          925   \n",
      "4  I saw this movie on late night TV out of Buffa...      1          834   \n",
      "\n",
      "   is_long  sample_id                                   rewritten_review  \\\n",
      "0    False      27578  Normally, I wouldn't go to the trouble of comm...   \n",
      "1     True      42684  Rosie Perez leads this engaging affair as Merc...   \n",
      "2     True      13624  This powerful documentary about domestic abuse...   \n",
      "3    False      33553  Forget what I said about Emeril. Rachael Ray i...   \n",
      "4    False      41252  I recently reminisced about a movie I caught o...   \n",
      "\n",
      "   orig_reward  rewrite_reward  \n",
      "0    -0.922056       -3.057320  \n",
      "1     2.292136        3.418183  \n",
      "2     3.400115        3.671767  \n",
      "3    -3.711692       -2.278748  \n",
      "4     3.861968        4.160246  \n",
      "\n",
      "\n",
      "DataFrame 9\n",
      "label\n",
      "1    10\n",
      "0    10\n",
      "Name: count, dtype: int64\n",
      "count      20.000000\n",
      "mean     1385.900000\n",
      "std      1196.899015\n",
      "min       330.000000\n",
      "25%       726.000000\n",
      "50%       946.000000\n",
      "75%      1571.750000\n",
      "max      5188.000000\n",
      "Name: text, dtype: float64\n",
      "                                                text  label  text_length  \\\n",
      "0  Once again, we are fortunate to see a gorgeous...      1         1283   \n",
      "1  I'd give this film a zero if I could. How anyo...      0          863   \n",
      "2  Normally I wouldn't go to the trouble of comme...      0          790   \n",
      "3  This was a disgrace to the game FarCry i had m...      0          752   \n",
      "4  Pakeezah has a very interesting history (which...      1          974   \n",
      "\n",
      "   is_long  sample_id                                   rewritten_review  \\\n",
      "0     True      38695  We are treated to a beautifully restored openi...   \n",
      "1    False      30440  I'd give this film a zero if I could. How anyo...   \n",
      "2    False      27578  Normally, I wouldn't go to the trouble of comm...   \n",
      "3    False      36958  This was a disgrace to the game Far Cry. I had...   \n",
      "4     True      15727  Pakeezah has a fascinating history, as destiny...   \n",
      "\n",
      "   orig_reward  rewrite_reward  \n",
      "0    -2.289569       -0.795834  \n",
      "1    -2.735958       -1.856713  \n",
      "2    -0.922056       -3.057320  \n",
      "3    -2.836423       -3.622323  \n",
      "4     4.019710        4.454218  \n",
      "\n",
      "\n",
      "DataFrame 10\n",
      "label\n",
      "1    10\n",
      "0    10\n",
      "Name: count, dtype: int64\n",
      "count      20.000000\n",
      "mean     1024.650000\n",
      "std       510.805893\n",
      "min       330.000000\n",
      "25%       763.000000\n",
      "50%       948.500000\n",
      "75%      1200.500000\n",
      "max      2549.000000\n",
      "Name: text, dtype: float64\n",
      "                                                text  label  text_length  \\\n",
      "0  Once again, we are fortunate to see a gorgeous...      1         1283   \n",
      "1  Far richer in texture and character than even ...      1         1049   \n",
      "2  I am a big fan of the movie, but not for the u...      1          992   \n",
      "3  After seeing Shootfighter 1, and the buckets o...      0          372   \n",
      "4  I think Micheal Ironsides acting career must b...      0          864   \n",
      "\n",
      "   is_long  sample_id                                   rewritten_review  \\\n",
      "0     True      38695  We are treated to a beautifully restored openi...   \n",
      "1     True      13466  Far richer in texture and character than the c...   \n",
      "2     True      17746  I am a big fan of the movie, but not for the u...   \n",
      "3    False      34657  After seeing Shootfighter 1, and the buckets o...   \n",
      "4    False       4144  I think Micheal Ironsides acting career must b...   \n",
      "\n",
      "   orig_reward  rewrite_reward  \n",
      "0    -2.289569       -0.795834  \n",
      "1     4.184913        4.359088  \n",
      "2     3.465852        4.522757  \n",
      "3    -0.978824        1.365386  \n",
      "4    -3.550848       -2.484222  \n",
      "\n",
      "\n"
     ]
    }
   ],
   "source": [
    "# provide header, summary statistics, and a few examples for each dataframe\n",
    "for i, df in enumerate(correlated_dataframes):\n",
    "    print(f\"DataFrame {i + 1}\")\n",
    "    print(df['label'].value_counts())\n",
    "    print(df['text'].str.len().describe())\n",
    "    print(df.head())\n",
    "    print(\"\\n\")"
   ]
  },
  {
   "cell_type": "code",
   "execution_count": 97,
   "metadata": {},
   "outputs": [
    {
     "data": {
      "text/plain": [
       "[0.005508654502557331,\n",
       " 0.0,\n",
       " 0.08630462173553427,\n",
       " 0.006701781822267688,\n",
       " 0.08228287850505128,\n",
       " 0.4228104552401627,\n",
       " 0.5255973270178642,\n",
       " 0.13250545091704735,\n",
       " 0.693147180559945,\n",
       " 0.693147180559945]"
      ]
     },
     "execution_count": 97,
     "metadata": {},
     "output_type": "execute_result"
    }
   ],
   "source": [
    "# check the mutual information between the label and the text length for each of the generated dataframes\n",
    "mi_values = []\n",
    "\n",
    "for i, df in enumerate(correlated_dataframes):\n",
    "    df['text_length'] = df['text'].str.len()\n",
    "    df['is_long'] = df['text_length'] > length_threshold\n",
    "    mi = mutual_info_score(df['label'], df['is_long'])\n",
    "    mi_values.append(mi)\n",
    "\n",
    "mi_values"
   ]
  },
  {
   "cell_type": "code",
   "execution_count": 98,
   "metadata": {},
   "outputs": [
    {
     "data": {
      "text/plain": [
       "[-0.6931471805599453,\n",
       " -0.6931471805599453,\n",
       " -0.6931471805599453,\n",
       " -0.6931471805599453,\n",
       " -0.6931471805599453,\n",
       " -0.6931471805599453,\n",
       " -0.6931471805599453,\n",
       " -0.6931471805599453,\n",
       " -0.6931471805599453,\n",
       " -0.6931471805599453]"
      ]
     },
     "execution_count": 98,
     "metadata": {},
     "output_type": "execute_result"
    }
   ],
   "source": [
    "# compute the entropy of each of the generated dataframes\n",
    "entropy_values = []\n",
    "\n",
    "for i, df in enumerate(correlated_dataframes):\n",
    "    entropy = df['label'].value_counts(normalize=True).map(lambda x: x * np.log(x)).sum()\n",
    "    entropy_values.append(entropy)\n",
    "\n",
    "entropy_values"
   ]
  },
  {
   "cell_type": "code",
   "execution_count": 99,
   "metadata": {},
   "outputs": [
    {
     "data": {
      "text/plain": [
       "[-0.06434487666016184,\n",
       " 0.2512778097979349,\n",
       " 0.06238637300540848,\n",
       " 0.17036670516389263,\n",
       " 0.33026144163386556,\n",
       " 0.4902455280443433,\n",
       " 0.5710975336779259,\n",
       " 0.40578202883246006,\n",
       " 0.62686823143785,\n",
       " 0.6904385075138917]"
      ]
     },
     "execution_count": 99,
     "metadata": {},
     "output_type": "execute_result"
    }
   ],
   "source": [
    "# calculate the correlation coefficient between the label and the text length for each of the generated dataframes\n",
    "correlation_values = []\n",
    "\n",
    "for i, df in enumerate(correlated_dataframes):\n",
    "    df['text_length'] = df['text'].str.len()\n",
    "    correlation = df[['label', 'text_length']].corr().iloc[0, 1]\n",
    "    correlation_values.append(correlation)\n",
    "\n",
    "correlation_values"
   ]
  },
  {
   "cell_type": "code",
   "execution_count": 100,
   "metadata": {},
   "outputs": [
    {
     "data": {
      "text/plain": [
       "<Figure size 1200x600 with 0 Axes>"
      ]
     },
     "metadata": {},
     "output_type": "display_data"
    },
    {
     "data": {
      "image/png": "[encoded data removed]",
      "text/plain": [
       "<Figure size 640x480 with 1 Axes>"
      ]
     },
     "metadata": {},
     "output_type": "display_data"
    }
   ],
   "source": [
    "# Compute and plot mean text length by label for each DataFrame\n",
    "mean_text_lengths = []\n",
    "\n",
    "for i, df in enumerate(correlated_dataframes):\n",
    "    mean_text_length = df.groupby('label')['text_length'].mean()\n",
    "    mean_text_lengths.append(mean_text_length)\n",
    "\n",
    "# Convert the list of Series to a DataFrame\n",
    "mean_text_lengths_df = pd.DataFrame(mean_text_lengths)\n",
    "\n",
    "# Correctly set the index to the DataFrame index\n",
    "mean_text_lengths_df.index = range(len(correlated_dataframes))\n",
    "\n",
    "# Plot the mean text length by label for each DataFrame\n",
    "plt.figure(figsize=(12, 6))\n",
    "mean_text_lengths_df.plot(marker='o')\n",
    "\n",
    "plt.xlabel(\"DataFrame Index\")\n",
    "plt.ylabel(\"Mean Text Length\")\n",
    "plt.title(\"Mean Text Length by Label for Each DataFrame\")\n",
    "plt.legend([\"Negative\", \"Positive\"])\n",
    "plt.grid(True)\n",
    "plt.show()"
   ]
  },
  {
   "cell_type": "code",
   "execution_count": 101,
   "metadata": {},
   "outputs": [
    {
     "name": "stdout",
     "output_type": "stream",
     "text": [
      "DataFrame 0\n",
      "Overall Correlation: -0.0643\n",
      "I think Micheal Ironsides acting career must be over, if he has to star in this sort of low budge crap. Surely he could do better than waste his time in this rubbish.<br /><br />This movie could be fa\n",
      "Sample length: 790\n",
      "Label: 0\n",
      "\n",
      "DataFrame 1\n",
      "Overall Correlation: 0.2513\n",
      "I have always wanted to see this because I love cheesy horror movies and with a title like this, I was sure \"The Incredible Melting Man\" would be a lot of fun.<br /><br />It really wasn't. I mean, the\n",
      "Sample length: 5188\n",
      "Label: 1\n",
      "\n",
      "DataFrame 2\n",
      "Overall Correlation: 0.0624\n",
      "This is definitely an appropriate update for the original, except that \"party on the left is now party on the right.\" Like the original, this movie rails against a federal government which oversteps i\n",
      "Sample length: 825\n",
      "Label: 1\n",
      "\n",
      "DataFrame 3\n",
      "Overall Correlation: 0.1704\n",
      "While killing time on a Saturday morning, \"Looking For Lola\" came on HBO. I decided to give it a shot even though the description of the movie looked pretty bad. It was even worse than I could imagine\n",
      "Sample length: 1173\n",
      "Label: 0\n",
      "\n",
      "DataFrame 4\n",
      "Overall Correlation: 0.3303\n",
      "Wow, this movie was absolutely brilliant. I really don't know why everyone says it has a slow pace. I thought the pace was perfect. The movie is about Michael Sullivan played by Tom Hanks with perfect\n",
      "Sample length: 1794\n",
      "Label: 0\n",
      "\n",
      "DataFrame 5\n",
      "Overall Correlation: 0.4902\n",
      "This is the worst film I have ever seen.I was watching this film with some friends and after 40 minutes we had enough. The plot was bad and there wasn't a single likeable character.I could get more en\n",
      "Sample length: 1728\n",
      "Label: 0\n",
      "\n",
      "DataFrame 6\n",
      "Overall Correlation: 0.5711\n",
      "In this movie the year 2022 looks much like the seventies. This is amusing at first, but soon the viewer perceives how very different that decadent futuristic world is despite the appearances, how man\n",
      "Sample length: 876\n",
      "Label: 0\n",
      "\n",
      "DataFrame 7\n",
      "Overall Correlation: 0.4058\n",
      "Rosie Perez is the lead in this very engaging affair, cast as Mercedes, a young woman from Brooklyn who has resolved to become a film actress although not favoured by her circumstances, living in East\n",
      "Sample length: 2700\n",
      "Label: 1\n",
      "\n",
      "DataFrame 8\n",
      "Overall Correlation: 0.6269\n",
      "So you're a giant mantis and you've been hanging out in the arctic for a while, and you're tired of Eskimos hitting you with snowballs. What's a giant mutant insect to do? Head for the big city, of co\n",
      "Sample length: 1019\n",
      "Label: 1\n",
      "\n",
      "DataFrame 9\n",
      "Overall Correlation: 0.6904\n",
      "\"A Fare to Remember\" is a totally derivative, almost ridiculous movie, but has a warmth about it that makes it a very effective and upbeat holiday movie. It stars a pretty newcomer, Challen Kates, as \n",
      "Sample length: 1304\n",
      "Label: 0\n",
      "\n"
     ]
    }
   ],
   "source": [
    "# provide one random review from each of the generated dataframes, and print the text length and label\n",
    "for i, df in enumerate(correlated_dataframes):\n",
    "    print(f\"DataFrame {i}\")\n",
    "    print(f\"Overall Correlation: {correlation_values[i]:.4f}\")\n",
    "    print(df.sample(1)['text'].values[0][:200])\n",
    "    print(f\"Sample length: {len(df.sample(1)['text'].values[0])}\")\n",
    "    print(f\"Label: {df.sample(1)['label'].values[0]}\")\n",
    "    print()"
   ]
  },
  {
   "cell_type": "code",
   "execution_count": 102,
   "metadata": {},
   "outputs": [
    {
     "data": {
      "image/png": "[encoded data removed]",
      "text/plain": [
       "<Figure size 640x480 with 1 Axes>"
      ]
     },
     "metadata": {},
     "output_type": "display_data"
    }
   ],
   "source": [
    "# Plot histogram of lengths for each df to ensure there is no bias\n",
    "fig, ax = plt.subplots()\n",
    "\n",
    "for i, df in enumerate(correlated_dataframes):\n",
    "    ax.hist(df['text'].str.len(), bins=100, alpha=0.2, label=f\"DataFrame {i}\")\n",
    "\n",
    "ax.set_xlabel('Text Length')\n",
    "ax.set_ylabel('Frequency')\n",
    "ax.legend()\n",
    "plt.show()"
   ]
  },
  {
   "cell_type": "markdown",
   "metadata": {},
   "source": [
    "### Ok I'm reasonably sure these dataframes are setup correctly"
   ]
  },
  {
   "cell_type": "markdown",
   "metadata": {},
   "source": [
    "## Compute the effect of length on the sentiment classifer, for each correlated df"
   ]
  },
  {
   "cell_type": "code",
   "execution_count": 103,
   "metadata": {},
   "outputs": [],
   "source": [
    "# # match Todd's formatting:\n",
    "\n",
    "# dataset = [\n",
    "#         {\n",
    "#             \"w_original\": True,\n",
    "#             \"completions\": {\n",
    "#                 \"original\": 'Review: \"The Grand Adventure\" is a cinematic gem that captures the essence of friendship and perseverance. With stunning visuals and an emotionally charged storyline, the film takes audiences on a journey filled with laughter and heartfelt moments. The performances from the lead actors are nothing short of spectacular, adding depth to the already immersive plot. Each scene is beautifully crafted, making it a must-see for anyone who cherishes uplifting tales that resonate long after the credits roll. A truly delightful experience!',\n",
    "#                 \"rewrite\": 'Review: \"The Grand Adventure\" is a cinematic disappointment that fails to capture the essence of friendship and perseverance. With lackluster visuals and a muddled storyline, the film takes audiences on a journey filled with awkward moments and forced laughter. The performances from the lead actors are nothing short of mediocre, detracting from the already shallow plot. Each scene feels poorly crafted, making it a film to avoid for anyone who cherishes uplifting tales that quickly fade from memory. A truly frustrating experience!',\n",
    "#             },\n",
    "#             \"scores\": {\n",
    "#                 \"original\": 1.2636224031448364,\n",
    "#                 \"rewrite\": -0.3159920573234558,\n",
    "#             },\n",
    "#         },\n",
    "#         {\n",
    "#             \"w_original\": False,\n",
    "#             \"completions\": {\n",
    "#                 \"original\": \"Review: \\\"The flick attempts to balance deep emotional storytelling with action-packed sequences, but ultimately falters under the weight of its own ambitions. The characters feel underdeveloped, and their motivations are often unclear. While there are moments of beautiful cinematography, they aren't enough to save the film from its meandering plot. It's a missed opportunity that could have been something truly special.\\\"\",\n",
    "#                 \"flipped\": 'Review: \"The flick attempts to balance deep emotional storytelling with action-packed sequences, and while it may not fully achieve this balance, it offers some intriguing moments. The characters have potential, and their motivations provide a glimpse into their journeys. There are moments of beautiful cinematography that elevate the experience, making it an enjoyable watch despite its meandering plot. It\\'s a film that leaves you hopeful for what could come next.\"',\n",
    "#             },\n",
    "#             \"scores\": {\n",
    "#                 \"original\": 1.339202642440796,\n",
    "#                 \"rewrite\": 0.2303696721792221,\n",
    "#             },\n",
    "#         },\n",
    "#     ]"
   ]
  },
  {
   "cell_type": "code",
   "execution_count": 104,
   "metadata": {},
   "outputs": [
    {
     "data": {
      "text/html": [
       "<div>\n",
       "<style scoped>\n",
       "    .dataframe tbody tr th:only-of-type {\n",
       "        vertical-align: middle;\n",
       "    }\n",
       "\n",
       "    .dataframe tbody tr th {\n",
       "        vertical-align: top;\n",
       "    }\n",
       "\n",
       "    .dataframe thead th {\n",
       "        text-align: right;\n",
       "    }\n",
       "</style>\n",
       "<table border=\"1\" class=\"dataframe\">\n",
       "  <thead>\n",
       "    <tr style=\"text-align: right;\">\n",
       "      <th></th>\n",
       "      <th>text</th>\n",
       "      <th>label</th>\n",
       "      <th>text_length</th>\n",
       "      <th>is_long</th>\n",
       "      <th>sample_id</th>\n",
       "      <th>rewritten_review</th>\n",
       "      <th>orig_reward</th>\n",
       "      <th>rewrite_reward</th>\n",
       "    </tr>\n",
       "  </thead>\n",
       "  <tbody>\n",
       "    <tr>\n",
       "      <th>0</th>\n",
       "      <td>Forget what I said about Emeril. Rachael Ray i...</td>\n",
       "      <td>0</td>\n",
       "      <td>925</td>\n",
       "      <td>False</td>\n",
       "      <td>33553</td>\n",
       "      <td>Forget what I said about Emeril. Rachael Ray i...</td>\n",
       "      <td>-3.711692</td>\n",
       "      <td>-2.278748</td>\n",
       "    </tr>\n",
       "    <tr>\n",
       "      <th>1</th>\n",
       "      <td>Former private eye-turned-security guard ditch...</td>\n",
       "      <td>0</td>\n",
       "      <td>1155</td>\n",
       "      <td>True</td>\n",
       "      <td>9427</td>\n",
       "      <td>Former private eye-turned-security guard ditch...</td>\n",
       "      <td>-1.772361</td>\n",
       "      <td>-2.544573</td>\n",
       "    </tr>\n",
       "    <tr>\n",
       "      <th>2</th>\n",
       "      <td>Mann photographs the Alberta Rocky Mountains i...</td>\n",
       "      <td>0</td>\n",
       "      <td>787</td>\n",
       "      <td>False</td>\n",
       "      <td>199</td>\n",
       "      <td>Mann photographs the Alberta Rocky Mountains i...</td>\n",
       "      <td>0.454779</td>\n",
       "      <td>0.521912</td>\n",
       "    </tr>\n",
       "    <tr>\n",
       "      <th>3</th>\n",
       "      <td>Simply put: the movie is boring. Cliché upon c...</td>\n",
       "      <td>0</td>\n",
       "      <td>986</td>\n",
       "      <td>True</td>\n",
       "      <td>12447</td>\n",
       "      <td>The movie is boring, filled with clichés, and ...</td>\n",
       "      <td>-3.819314</td>\n",
       "      <td>-3.796844</td>\n",
       "    </tr>\n",
       "    <tr>\n",
       "      <th>4</th>\n",
       "      <td>Now being a fan of sci fi, the trailer for thi...</td>\n",
       "      <td>1</td>\n",
       "      <td>416</td>\n",
       "      <td>False</td>\n",
       "      <td>39489</td>\n",
       "      <td>Now, being a fan of sci-fi, I must admit that ...</td>\n",
       "      <td>4.446308</td>\n",
       "      <td>4.399087</td>\n",
       "    </tr>\n",
       "    <tr>\n",
       "      <th>...</th>\n",
       "      <td>...</td>\n",
       "      <td>...</td>\n",
       "      <td>...</td>\n",
       "      <td>...</td>\n",
       "      <td>...</td>\n",
       "      <td>...</td>\n",
       "      <td>...</td>\n",
       "      <td>...</td>\n",
       "    </tr>\n",
       "    <tr>\n",
       "      <th>95</th>\n",
       "      <td>Rebar is an astronaut who goes on the world's ...</td>\n",
       "      <td>0</td>\n",
       "      <td>993</td>\n",
       "      <td>True</td>\n",
       "      <td>3928</td>\n",
       "      <td>Rebar is an astronaut who goes on the world's ...</td>\n",
       "      <td>-3.502153</td>\n",
       "      <td>-3.335153</td>\n",
       "    </tr>\n",
       "    <tr>\n",
       "      <th>96</th>\n",
       "      <td>I went to see this film because it was recomme...</td>\n",
       "      <td>0</td>\n",
       "      <td>3274</td>\n",
       "      <td>True</td>\n",
       "      <td>37286</td>\n",
       "      <td>I went to see this film because it was recomme...</td>\n",
       "      <td>-1.636145</td>\n",
       "      <td>0.688747</td>\n",
       "    </tr>\n",
       "    <tr>\n",
       "      <th>97</th>\n",
       "      <td>STMD! is not a terrible movie, but it IS quite...</td>\n",
       "      <td>0</td>\n",
       "      <td>721</td>\n",
       "      <td>False</td>\n",
       "      <td>25045</td>\n",
       "      <td>STMD! is not a terrible movie, but it IS quite...</td>\n",
       "      <td>-3.368389</td>\n",
       "      <td>-3.504114</td>\n",
       "    </tr>\n",
       "    <tr>\n",
       "      <th>98</th>\n",
       "      <td>Pakeezah has a very interesting history (which...</td>\n",
       "      <td>1</td>\n",
       "      <td>974</td>\n",
       "      <td>True</td>\n",
       "      <td>15727</td>\n",
       "      <td>Pakeezah has a fascinating history, as destiny...</td>\n",
       "      <td>4.019710</td>\n",
       "      <td>4.454218</td>\n",
       "    </tr>\n",
       "    <tr>\n",
       "      <th>99</th>\n",
       "      <td>I was looking forward to seeing two bright you...</td>\n",
       "      <td>0</td>\n",
       "      <td>627</td>\n",
       "      <td>False</td>\n",
       "      <td>29600</td>\n",
       "      <td>I was eagerly looking forward to seeing two br...</td>\n",
       "      <td>-2.868752</td>\n",
       "      <td>-2.511468</td>\n",
       "    </tr>\n",
       "  </tbody>\n",
       "</table>\n",
       "<p>100 rows × 8 columns</p>\n",
       "</div>"
      ],
      "text/plain": [
       "                                                 text  label  text_length  \\\n",
       "0   Forget what I said about Emeril. Rachael Ray i...      0          925   \n",
       "1   Former private eye-turned-security guard ditch...      0         1155   \n",
       "2   Mann photographs the Alberta Rocky Mountains i...      0          787   \n",
       "3   Simply put: the movie is boring. Cliché upon c...      0          986   \n",
       "4   Now being a fan of sci fi, the trailer for thi...      1          416   \n",
       "..                                                ...    ...          ...   \n",
       "95  Rebar is an astronaut who goes on the world's ...      0          993   \n",
       "96  I went to see this film because it was recomme...      0         3274   \n",
       "97  STMD! is not a terrible movie, but it IS quite...      0          721   \n",
       "98  Pakeezah has a very interesting history (which...      1          974   \n",
       "99  I was looking forward to seeing two bright you...      0          627   \n",
       "\n",
       "    is_long  sample_id                                   rewritten_review  \\\n",
       "0     False      33553  Forget what I said about Emeril. Rachael Ray i...   \n",
       "1      True       9427  Former private eye-turned-security guard ditch...   \n",
       "2     False        199  Mann photographs the Alberta Rocky Mountains i...   \n",
       "3      True      12447  The movie is boring, filled with clichés, and ...   \n",
       "4     False      39489  Now, being a fan of sci-fi, I must admit that ...   \n",
       "..      ...        ...                                                ...   \n",
       "95     True       3928  Rebar is an astronaut who goes on the world's ...   \n",
       "96     True      37286  I went to see this film because it was recomme...   \n",
       "97    False      25045  STMD! is not a terrible movie, but it IS quite...   \n",
       "98     True      15727  Pakeezah has a fascinating history, as destiny...   \n",
       "99    False      29600  I was eagerly looking forward to seeing two br...   \n",
       "\n",
       "    orig_reward  rewrite_reward  \n",
       "0     -3.711692       -2.278748  \n",
       "1     -1.772361       -2.544573  \n",
       "2      0.454779        0.521912  \n",
       "3     -3.819314       -3.796844  \n",
       "4      4.446308        4.399087  \n",
       "..          ...             ...  \n",
       "95    -3.502153       -3.335153  \n",
       "96    -1.636145        0.688747  \n",
       "97    -3.368389       -3.504114  \n",
       "98     4.019710        4.454218  \n",
       "99    -2.868752       -2.511468  \n",
       "\n",
       "[100 rows x 8 columns]"
      ]
     },
     "execution_count": 104,
     "metadata": {},
     "output_type": "execute_result"
    }
   ],
   "source": [
    "merged_df"
   ]
  },
  {
   "cell_type": "code",
   "execution_count": 105,
   "metadata": {},
   "outputs": [],
   "source": [
    "def calculate_ate(dataset):\n",
    "    do_w_1 = 0\n",
    "    do_w_0 = 0\n",
    "    w_1 = 0\n",
    "    w_0 = 0\n",
    "    w_1_count = 0\n",
    "    for example in dataset:\n",
    "        if example[\"w_original\"]:\n",
    "            do_w_1 += example[\"reward\"][\"original\"]\n",
    "            do_w_0 += example[\"reward\"][\"rewrite\"]\n",
    "            w_1_count += 1\n",
    "\n",
    "            w_1 += example[\"reward\"][\"original\"]\n",
    "        else:\n",
    "            do_w_1 += example[\"reward\"][\"rewrite\"]\n",
    "            do_w_0 += example[\"reward\"][\"original\"]\n",
    "\n",
    "            w_0 += example[\"reward\"][\"original\"]\n",
    "\n",
    "    n = len(dataset)\n",
    "    do_w_1_mean = do_w_1 / n\n",
    "    do_w_0_mean = do_w_0 / n\n",
    "\n",
    "    ATE = do_w_1_mean - do_w_0_mean\n",
    "\n",
    "    w_1_mean = w_1 / w_1_count\n",
    "    w_0_mean = w_0 / (n - w_1_count)\n",
    "    correlational_effect = w_1_mean - w_0_mean\n",
    "\n",
    "    do_w_1_ssd = 0  # Sum of squared deviations for do_w_1\n",
    "    do_w_0_ssd = 0  # Sum of squared deviations for do_w_0\n",
    "\n",
    "    for example in dataset:\n",
    "        if example[\"w_original\"]:\n",
    "            do_w_1_diff = example[\"reward\"][\"original\"] - do_w_1_mean\n",
    "            do_w_0_diff = example[\"reward\"][\"rewrite\"] - do_w_0_mean\n",
    "        else:\n",
    "            do_w_1_diff = example[\"reward\"][\"rewrite\"] - do_w_1_mean\n",
    "            do_w_0_diff = example[\"reward\"][\"original\"] - do_w_0_mean\n",
    "\n",
    "        do_w_1_ssd += do_w_1_diff**2\n",
    "        do_w_0_ssd += do_w_0_diff**2\n",
    "\n",
    "    do_w_1_var = do_w_1_ssd / (n - 1)\n",
    "    do_w_0_var = do_w_0_ssd / (n - 1)\n",
    "\n",
    "    return ATE, do_w_1_var, do_w_0_var, correlational_effect"
   ]
  },
  {
   "cell_type": "code",
   "execution_count": 106,
   "metadata": {},
   "outputs": [],
   "source": [
    "def calculate_effects(df):\n",
    "    # use todd's formatting to organize the data from merged_df\n",
    "    dataset = []\n",
    "    for idx, row in df.iterrows():\n",
    "        dataset.append(\n",
    "            {\n",
    "                \"w_original\": row['is_long'],\n",
    "                \"completions\": {\n",
    "                    \"original\": row['text'],\n",
    "                    \"rewrite\": row['rewritten_review'],\n",
    "                },\n",
    "                \"reward\": {\n",
    "                    \"original\": row['orig_reward'],\n",
    "                    \"rewrite\": row['rewrite_reward'],\n",
    "                },\n",
    "            }\n",
    "        )\n",
    "\n",
    "    ATE, do_w_1_var, do_w_0_var, correlational_effect = calculate_ate(dataset)\n",
    "    return ATE, do_w_1_var, do_w_0_var, correlational_effect"
   ]
  },
  {
   "cell_type": "code",
   "execution_count": 107,
   "metadata": {},
   "outputs": [
    {
     "name": "stdout",
     "output_type": "stream",
     "text": [
      "ATE: 0.15842561036348343\n",
      "Variance of do_w_1: 10.857625293395758\n",
      "Variance of do_w_0: 10.729229796637936\n",
      "Correlational effect: -0.4418744510676967\n"
     ]
    }
   ],
   "source": [
    "ATE, do_w_1_var, do_w_0_var, correlational_effect = calculate_effects(merged_df)\n",
    "print(\"ATE:\", ATE)\n",
    "print(\"Variance of do_w_1:\", do_w_1_var)\n",
    "print(\"Variance of do_w_0:\", do_w_0_var)\n",
    "print(\"Correlational effect:\", correlational_effect)"
   ]
  },
  {
   "cell_type": "markdown",
   "metadata": {},
   "source": [
    "### Now for the correlated dataframes"
   ]
  },
  {
   "cell_type": "code",
   "execution_count": 108,
   "metadata": {},
   "outputs": [],
   "source": [
    "ATE_values = []\n",
    "correlational_effect_values = []\n",
    "\n",
    "for df in correlated_dataframes:\n",
    "    ATE, do_w_1_var, do_w_0_var, correlational_effect = calculate_effects(df)\n",
    "    ATE_values.append(ATE)\n",
    "    correlational_effect_values.append(correlational_effect)\n"
   ]
  },
  {
   "cell_type": "code",
   "execution_count": 109,
   "metadata": {},
   "outputs": [
    {
     "data": {
      "image/png": "[encoded data removed]",
      "text/plain": [
       "<Figure size 1200x600 with 1 Axes>"
      ]
     },
     "metadata": {},
     "output_type": "display_data"
    }
   ],
   "source": [
    "\n",
    "# plot the ATE and correlational effect for each of the generated dataframes\n",
    "plt.figure(figsize=(12, 6))\n",
    "plt.plot(ATE_values, marker='o', label=\"ATE\")\n",
    "plt.plot(correlational_effect_values, marker='o', label=\"Correlational Effect\")\n",
    "plt.plot(correlation_values, marker='o', label=\"Correlation Coefficient\")\n",
    "plt.xlabel(\"DataFrame Index\")\n",
    "plt.ylabel(\"Effect Size\")\n",
    "plt.title(\"Average Treatment Effect (ATE) and Correlational Effect by DataFrame\")\n",
    "plt.legend()\n",
    "plt.grid(True)\n",
    "plt.show()"
   ]
  },
  {
   "cell_type": "code",
   "execution_count": 110,
   "metadata": {},
   "outputs": [
    {
     "data": {
      "image/png": "[encoded data removed]",
      "text/plain": [
       "<Figure size 1200x600 with 2 Axes>"
      ]
     },
     "metadata": {},
     "output_type": "display_data"
    }
   ],
   "source": [
    "# Create the plot\n",
    "fig, ax1 = plt.subplots(figsize=(12, 6))\n",
    "\n",
    "# Plot ATE and Correlational Effect on the primary y-axis (left)\n",
    "ax1.plot(ATE_values, marker='o', color='green', label=\"ATE\")\n",
    "ax1.plot(correlational_effect_values, marker='o', color='blue', label=\"Correlational Effect\")\n",
    "ax1.set_xlabel(\"DataFrame Index\")\n",
    "ax1.set_ylabel(\"Effect Size\", color='green')\n",
    "ax1.tick_params(axis='y', labelcolor='green')\n",
    "\n",
    "# Create a secondary y-axis (right) for the correlation coefficient\n",
    "ax2 = ax1.twinx()\n",
    "ax2.plot(correlation_values, marker='o', color='brown', label=\"Correlation Coefficient\")\n",
    "ax2.set_ylabel(\"Correlation Coefficient\", color='brown')\n",
    "ax2.tick_params(axis='y', labelcolor='brown')\n",
    "\n",
    "# Title and grid\n",
    "plt.title(\"Average Treatment Effect (ATE) and Correlational Effect by DataFrame\")\n",
    "ax1.grid(True)\n",
    "\n",
    "# Legend handling\n",
    "lines_1, labels_1 = ax1.get_legend_handles_labels()\n",
    "lines_2, labels_2 = ax2.get_legend_handles_labels()\n",
    "ax1.legend(lines_1 + lines_2, labels_1 + labels_2, loc='best')\n",
    "\n",
    "# Show the plot\n",
    "plt.show()"
   ]
  },
  {
   "cell_type": "code",
   "execution_count": 111,
   "metadata": {},
   "outputs": [
    {
     "data": {
      "image/png": "[encoded data removed]",
      "text/plain": [
       "<Figure size 1200x600 with 1 Axes>"
      ]
     },
     "metadata": {},
     "output_type": "display_data"
    }
   ],
   "source": [
    "# Create the plot with correlation coefficients on the x-axis\n",
    "fig, ax1 = plt.subplots(figsize=(12, 6))\n",
    "\n",
    "# Plot ATE and Correlational Effect against correlation coefficients\n",
    "ax1.scatter(correlation_values, ATE_values, marker='o', color='green', label=\"ATE\")\n",
    "ax1.scatter(correlation_values, correlational_effect_values, marker='o', color='blue', label=\"Correlational Effect\")\n",
    "\n",
    "# Set labels and title\n",
    "ax1.set_xlabel(\"Correlation Coefficient\")\n",
    "ax1.set_ylabel(\"Effect Size\")\n",
    "ax1.set_title(\"ATE and Correlational Effect vs. Correlation Coefficient\")\n",
    "\n",
    "# Add grid and legend\n",
    "ax1.grid(True)\n",
    "ax1.legend(loc='best')\n",
    "\n",
    "# Show the plot\n",
    "plt.show()\n"
   ]
  },
  {
   "cell_type": "code",
   "execution_count": 112,
   "metadata": {},
   "outputs": [
    {
     "data": {
      "image/png": "[encoded data removed]",
      "text/plain": [
       "<Figure size 1200x600 with 1 Axes>"
      ]
     },
     "metadata": {},
     "output_type": "display_data"
    }
   ],
   "source": [
    "# Create the plot with correlation coefficients on the x-axis\n",
    "fig, ax1 = plt.subplots(figsize=(12, 6))\n",
    "\n",
    "# Plot ATE and Correlational Effect against correlation coefficients\n",
    "ax1.scatter(mi_values, ATE_values, marker='o', color='green', label=\"ATE\")\n",
    "ax1.scatter(mi_values, correlational_effect_values, marker='o', color='blue', label=\"Correlational Effect\")\n",
    "\n",
    "# Set labels and title\n",
    "ax1.set_xlabel(\"Mutual Information\")\n",
    "ax1.set_ylabel(\"Effect Size\")\n",
    "ax1.set_title(\"ATE and Correlational Effect vs. Correlation Coefficient\")\n",
    "\n",
    "# Add grid and legend\n",
    "ax1.grid(True)\n",
    "ax1.legend(loc='best')\n",
    "\n",
    "# Show the plot\n",
    "plt.show()\n"
   ]
  },
  {
   "cell_type": "markdown",
   "metadata": {},
   "source": [
    "### Next steps\n",
    "- find a reward function which is *only measuring sentiment and nothing else*! I think any competant sentiment classifier should do. (just take the output of the classifier to be the reward value)\n",
    "- Calculate both the conditional and ATE estimates on each df in correlated_dfs\n",
    "    - to do this, you'll need to rewrite each of the reviews, etc, and save in the format the standard pipeline uses\n",
    "- plot the trends for the conditional and ATE effect estimates, against an x-axis of mutual information\n",
    "    - or for a simple MVP, just the indices 1-10.\n",
    "    - I'm not sure if a scatterplot with x-axis of mutual information or x-axis of correlation coefficient is better: maybe try both and see which looks more linear."
   ]
  },
  {
   "cell_type": "markdown",
   "metadata": {},
   "source": [
    "### A hypothtical results section:\n",
    "\n",
    "In the case where the ground truth of the effect is known, we can directly show that it is recovered better by the RewriteATE estimator than the conditional estimator. \n",
    "\n",
    "Specifically, consider the following case where the ground truth effect should be zero: How much does length affect a sentiment classifer on IMDB reviews with increasing amounts of artificial correlation introduced?\n",
    "\n",
    "We start with the IMDB dataset of 50000 reviews; we drop 1509 reviews whose length exceed 4000 characters to reduce outliers, leaving us with 48491 reviews. We bin reviews as \"long\" or \"short\" based on whether their length exceeds the mean length of 1200 characters: the length of the review and the sentiment are statistically independent (low mutual information, Pearson coefficient). Both positive and negative reviews are equally likely across both bins. (The distribution of initial review lengths is shown in Figure ?)\n",
    "\n",
    "We analyze the Sentiment classifer of [monkeys et. al.], which is known not to be sensitive to changes in length (this is by design; we also validate this in the case of movie reviews, by showing that it does not favor long reviews in the original IMDB dataset, see Figure 2). Hence, we know the ground truth that it is not sensitive to length.\n",
    "\n",
    "We then evaulated the correlational and RewriteATE estimators on samples drawn from IMDB with increasing amounts of correlation between long and positive reviews. In Figure 3, we show that the correlational estimator incorrectly claims that monkey's Sentiment classifier is sensitive to length, proportional to the amount of mutual information added between length and sentiment. On the other hand, the RewriteATE estimator reports correctly that the effect of length on the reward is negligable. (However, it's not perfect: note that it does report a small amount of effect for perfectly correlated datasets, which we attribute to slight imperfections in the rewrite process.)"
   ]
  }
 ],
 "metadata": {
  "kernelspec": {
   "display_name": "editeval",
   "language": "python",
   "name": "python3"
  },
  "language_info": {
   "codemirror_mode": {
    "name": "ipython",
    "version": 3
   },
   "file_extension": ".py",
   "mimetype": "text/x-python",
   "name": "python",
   "nbconvert_exporter": "python",
   "pygments_lexer": "ipython3",
   "version": "3.12.3"
  }
 },
 "nbformat": 4,
 "nbformat_minor": 2
}
