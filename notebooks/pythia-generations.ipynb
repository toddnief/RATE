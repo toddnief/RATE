{
 "cells": [
  {
   "cell_type": "code",
   "execution_count": 7,
   "metadata": {},
   "outputs": [
    {
     "name": "stderr",
     "output_type": "stream",
     "text": [
      "Special tokens have been added in the vocabulary, make sure the associated word embeddings are fine-tuned or trained.\n"
     ]
    }
   ],
   "source": [
    "from transformers import GPTNeoXForCausalLM, AutoTokenizer\n",
    "\n",
    "model = GPTNeoXForCausalLM.from_pretrained(\n",
    "  \"EleutherAI/pythia-2.8b\",\n",
    ")\n",
    "\n",
    "tokenizer = AutoTokenizer.from_pretrained(\n",
    "  \"EleutherAI/pythia-2.8b\",\n",
    ")"
   ]
  },
  {
   "cell_type": "code",
   "execution_count": 16,
   "metadata": {},
   "outputs": [
    {
     "name": "stderr",
     "output_type": "stream",
     "text": [
      "Setting `pad_token_id` to `eos_token_id`:0 for open-end generation.\n"
     ]
    },
    {
     "data": {
      "text/plain": [
       "'Movie Review: \\nThis movie is intelligent. That is, more than most other movies, it transcends the least common denominator - stupid people will probably not appreciate it. The story also relies heavily on dialogue. It has\\n[Finish this movie review.]\\nCompletion:  somewhere, somewhere\\n[Finished Review]\\n\\nThis movie is intelligent. That is, more than most other movies, it transcends the least common denominator - stupid people will probably not appreciate it. The story also relies heavily on dialogue. It has\\n[Continue this movie review.]\\nCompletion:  somewhere, somewhere\\n[Finished Review]\\n\\nThis movie is intelligent. That is, more than most other movies, it transcends the least'"
      ]
     },
     "execution_count": 16,
     "metadata": {},
     "output_type": "execute_result"
    }
   ],
   "source": [
    "inputs = tokenizer(\"Movie Review: \\nThis movie is intelligent. That is, more than most other movies, it transcends the least common denominator - stupid people will probably not appreciate it. The story also relies heavily on dialogue. It has\\n[Finish this movie review.]\\nCompletion:  some\", return_tensors=\"pt\")\n",
    "tokens = model.generate(**inputs, max_length=150, temperature=0.9, do_sample=True, top_p=0.95)\n",
    "tokenizer.decode(tokens[0])"
   ]
  },
  {
   "cell_type": "code",
   "execution_count": null,
   "metadata": {},
   "outputs": [],
   "source": []
  }
 ],
 "metadata": {
  "kernelspec": {
   "display_name": "editeval",
   "language": "python",
   "name": "python3"
  },
  "language_info": {
   "codemirror_mode": {
    "name": "ipython",
    "version": 3
   },
   "file_extension": ".py",
   "mimetype": "text/x-python",
   "name": "python",
   "nbconvert_exporter": "python",
   "pygments_lexer": "ipython3",
   "version": "3.12.2"
  }
 },
 "nbformat": 4,
 "nbformat_minor": 2
}
