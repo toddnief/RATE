{
 "cells": [
  {
   "cell_type": "code",
   "execution_count": 1,
   "metadata": {},
   "outputs": [],
   "source": [
    "%load_ext autoreload\n",
    "%autoreload 2"
   ]
  },
  {
   "cell_type": "code",
   "execution_count": 2,
   "metadata": {},
   "outputs": [],
   "source": [
    "import numpy as np"
   ]
  },
  {
   "cell_type": "code",
   "execution_count": 6,
   "metadata": {},
   "outputs": [],
   "source": [
    "from rate.scoring_templates.armorm import reward_model, reward_tokenizer, _score_example"
   ]
  },
  {
   "cell_type": "code",
   "execution_count": 3,
   "metadata": {},
   "outputs": [],
   "source": [
    "from rate.dataset_templates.imdb_length import dataset as imdb"
   ]
  },
  {
   "cell_type": "code",
   "execution_count": 4,
   "metadata": {},
   "outputs": [
    {
     "data": {
      "text/plain": [
       "{'text': 'I rented I AM CURIOUS-YELLOW from my video store because of all the controversy that surrounded it when it was first released in 1967. I also heard that at first it was seized by U.S. customs if it ever tried to enter this country, therefore being a fan of films considered \"controversial\" I really had to see this for myself.<br /><br />The plot is centered around a young Swedish drama student named Lena who wants to learn everything she can about life. In particular she wants to focus her attentions to making some sort of documentary on what the average Swede thought about certain political issues such as the Vietnam War and race issues in the United States. In between asking politicians and ordinary denizens of Stockholm about their opinions on politics, she has sex with her drama teacher, classmates, and married men.<br /><br />What kills me about I AM CURIOUS-YELLOW is that 40 years ago, this was considered pornographic. Really, the sex and nudity scenes are few and far between, even then it\\'s not shot like some cheaply made porno. While my countrymen mind find it shocking, in reality sex and nudity are a major staple in Swedish cinema. Even Ingmar Bergman, arguably their answer to good old boy John Ford, had sex scenes in his films.<br /><br />I do commend the filmmakers for the fact that any sex shown in the film is shown for artistic purposes rather than just to shock people and make money to be shown in pornographic theaters in America. I AM CURIOUS-YELLOW is a good film for anyone wanting to study the meat and potatoes (no pun intended) of Swedish cinema. But really, this film doesn\\'t have much of a plot.',\n",
       " 'label': 0}"
      ]
     },
     "execution_count": 4,
     "metadata": {},
     "output_type": "execute_result"
    }
   ],
   "source": [
    "imdb['train'][0]"
   ]
  },
  {
   "cell_type": "code",
   "execution_count": 11,
   "metadata": {},
   "outputs": [],
   "source": [
    "clean_example = 'I rented I AM CURIOUS-YELLOW from my video store because of all the controversy that surrounded it when it was first released in 1967. I also heard that at first it was seized by U.S. customs if it ever tried to enter this country, therefore being a fan of films considered \"controversial\" I really had to see this for myself. The plot is centered around a young Swedish drama student named Lena who wants to learn everything she can about life. In particular she wants to focus her attentions to making some sort of documentary on what the average Swede thought about certain political issues such as the Vietnam War and race issues in the United States. In between asking politicians and ordinary denizens of Stockholm about their opinions on politics, she has sex with her drama teacher, classmates, and married men. What kills me about I AM CURIOUS-YELLOW is that 40 years ago, this was considered pornographic. Really, the sex and nudity scenes are few and far between, even then it\\'s not shot like some cheaply made porno. While my countrymen mind find it shocking, in reality sex and nudity are a major staple in Swedish cinema. Even Ingmar Bergman, arguably their answer to good old boy John Ford, had sex scenes in his films. I do commend the filmmakers for the fact that any sex shown in the film is shown for artistic purposes rather than just to shock people and make money to be shown in pornographic theaters in America. I AM CURIOUS-YELLOW is a good film for anyone wanting to study the meat and potatoes (no pun intended) of Swedish cinema. But really, this film doesn\\'t have much of a plot.'"
   ]
  },
  {
   "cell_type": "code",
   "execution_count": 18,
   "metadata": {},
   "outputs": [],
   "source": [
    "befouled_example = 'I rented I AM CURIOUS-YELLOW from my video store because of all the controversy that surrounded it when it was first released in 1967. I also heard that at first it was seized by U.S. customs if it ever tried to enter this country, therefore being a fan of films considered \"controversial\" I really had to see this for myself.<br /><br />The plot is centered around a young Swedish drama student named Lena <br /><br />who wants to learn everything she can about life. \\nIn particular she wants to focus her attentions to making some sort of documentary on what the average Swede thought about certain political issues such as the Vietnam War and race issues in the United States. In between \\nasking politicians and ordinary denizens of Stockholm about their opinions on politics, she has sex with her drama teacher, classmates, and married men.<br /><br />What kills me about I AM CURIOUS-YELLOW is that 40 years ago, this was considered pornographic. Really, the sex and nudity scenes are few and far between, even then it\\'s not shot like some cheaply made porno. While my countrymen mind find it shocking, in reality sex and nudity are a major staple in Swedish cinema. Even Ingmar Bergman, arguably their answer to good old boy John Ford, had sex scenes in his films.<br /><br />I do commend the \\nfilmmakers for the fact that any sex shown in the film is shown for artistic purposes rather than just to shock people and make money to be shown in pornographic theaters in America. I AM CURIOUS-YELLOW is a good film for anyone wanting to study the meat and potatoes (no pun intended) of Swedish cinema. But really, this film doesn\\'t have much of a plot.'"
   ]
  },
  {
   "cell_type": "code",
   "execution_count": 12,
   "metadata": {},
   "outputs": [
    {
     "data": {
      "text/plain": [
       "0.10435947775840759"
      ]
     },
     "execution_count": 12,
     "metadata": {},
     "output_type": "execute_result"
    }
   ],
   "source": [
    "_score_example(reward_model, reward_tokenizer, \"Write a movie review:\", clean_example)"
   ]
  },
  {
   "cell_type": "code",
   "execution_count": 19,
   "metadata": {},
   "outputs": [
    {
     "data": {
      "text/plain": [
       "0.09988744556903839"
      ]
     },
     "execution_count": 19,
     "metadata": {},
     "output_type": "execute_result"
    }
   ],
   "source": [
    "_score_example(reward_model, reward_tokenizer, \"Write a movie review:\", befouled_example)"
   ]
  },
  {
   "cell_type": "code",
   "execution_count": 20,
   "metadata": {},
   "outputs": [
    {
     "data": {
      "text/plain": [
       "(9700, 15300)"
      ]
     },
     "execution_count": 20,
     "metadata": {},
     "output_type": "execute_result"
    }
   ],
   "source": [
    "vowels = set(\"aeiouAEIOU\")\n",
    "\n",
    "vowel_start_count = 0\n",
    "non_vowel_start_count = 0\n",
    "\n",
    "def starts_with_vowel(text):\n",
    "    return text[0] in vowels if text else False\n",
    "\n",
    "for example in imdb['train']:\n",
    "    text = example['text']\n",
    "    if starts_with_vowel(text):\n",
    "        vowel_start_count += 1\n",
    "    else:\n",
    "        non_vowel_start_count += 1\n",
    "\n",
    "vowel_start_count, non_vowel_start_count"
   ]
  },
  {
   "cell_type": "code",
   "execution_count": null,
   "metadata": {},
   "outputs": [
    {
     "name": "stdout",
     "output_type": "stream",
     "text": [
      "This is an<br /><br /> example<br /><br /> text where line<br /><br /> breaks will be<br /><br /> added<br /><br /> randomly.\n"
     ]
    }
   ],
   "source": [
    "import random\n",
    "\n",
    "def add_line_breaks(text, min_breaks=3, max_breaks=6):\n",
    "    \"\"\"\n",
    "    Adds '<br /><br />' in random spaces in the input text.\n",
    "    \n",
    "    Args:\n",
    "        text (str): The input text where line breaks will be added.\n",
    "    \n",
    "    Returns:\n",
    "        str: The modified text with inserted line breaks.\n",
    "    \"\"\"\n",
    "    space_indices = [i for i, char in enumerate(text) if char == ' ']\n",
    "\n",
    "    num_breaks = random.randint(min_breaks, min(max_breaks, len(space_indices)))\n",
    "    selected_indices = random.sample(space_indices, num_breaks)\n",
    "    \n",
    "    selected_indices.sort()\n",
    "    modified_text = []\n",
    "    last_index = 0\n",
    "    for index in selected_indices:\n",
    "        modified_text.append(text[last_index:index])\n",
    "        modified_text.append('<br /><br />')\n",
    "        last_index = index\n",
    "    modified_text.append(text[last_index:])\n",
    "    return ''.join(modified_text)\n",
    "\n",
    "text = \"This is an example text where line breaks will be added randomly.\"\n",
    "modified_text = add_line_breaks(text)\n",
    "print(modified_text)"
   ]
  },
  {
   "cell_type": "code",
   "execution_count": null,
   "metadata": {},
   "outputs": [],
   "source": [
    "def add_typos(text, min_typos=0, max_typos=7):\n",
    "    \"\"\"\n",
    "    Introduces typos in the input text by swapping adjacent letters.\n",
    "    The number of typos is chosen uniformly at random within the given range.\n",
    "\n",
    "    Args:\n",
    "        text (str): The input text where typos will be added.\n",
    "        min_typos (int): Minimum number of typos to introduce.\n",
    "        max_typos (int): Maximum number of typos to introduce.\n",
    "\n",
    "    Returns:\n",
    "        str: The modified text with typos.\n",
    "    \"\"\"\n",
    "    # Choose a random number of typos within the range\n",
    "    num_typos = random.randint(min_typos, max_typos)\n",
    "    \n",
    "    text_as_list = list(text)  # Convert the text to a mutable list\n",
    "    for _ in range(num_typos):\n",
    "        # Find a random position to introduce a typo\n",
    "        typo_index = random.randint(0, len(text_as_list) - 2)  # Ensure room to swap with the next character\n",
    "        if text_as_list[typo_index].isalpha() and text_as_list[typo_index + 1].isalpha():\n",
    "            # Swap the current character with the next one\n",
    "            text_as_list[typo_index], text_as_list[typo_index + 1] = (\n",
    "                text_as_list[typo_index + 1],\n",
    "                text_as_list[typo_index],\n",
    "            )\n",
    "    return ''.join(text_as_list)"
   ]
  },
  {
   "cell_type": "code",
   "execution_count": 31,
   "metadata": {},
   "outputs": [
    {
     "data": {
      "text/plain": [
       "(np.float64(0.08531634489707837), np.float64(0.08477223890437054))"
      ]
     },
     "execution_count": 31,
     "metadata": {},
     "output_type": "execute_result"
    }
   ],
   "source": [
    "vowel_scores = []\n",
    "non_vowel_scores = []\n",
    "for example in imdb['train'].select(range(1000)):\n",
    "    vowel = starts_with_vowel(example['text'])\n",
    "    if vowel:\n",
    "        vowel_scores.append(_score_example(reward_model, reward_tokenizer, \"Write a movie review:\", example['text']))\n",
    "    else:\n",
    "        non_vowel_scores.append(_score_example(reward_model, reward_tokenizer, \"Write a movie review:\", example['text']))\n",
    "np.mean(vowel_scores), np.mean(non_vowel_scores)"
   ]
  },
  {
   "cell_type": "code",
   "execution_count": 32,
   "metadata": {},
   "outputs": [
    {
     "name": "stdout",
     "output_type": "stream",
     "text": [
      "Example 0:\n",
      "I rented I AM CURIOUS-YELLOW from my video store because of all the controversy that surrounded it when it was first released in 1967. I also heard that at first it was seized by U.S. customs if it ever tried to enter this country, therefore being a fan of films considered \"controversial\" I really had to see this for myself.<br /><br />The plot is centered around a young Swedish drama student named Lena who wants to learn everything she can about life. In particular she wants to focus her attentions to making some sort of documentary on what the average Swede thought about certain political issues such as the Vietnam War and race issues in the United States. In between asking politicians and ordinary denizens of Stockholm about their opinions on politics, she has sex with her drama teacher, classmates, and married men.<br /><br />What kills me about I AM CURIOUS-YELLOW is that 40 years ago, this was considered pornographic. Really, the sex and nudity scenes are few and far between, even then it's not shot like some cheaply made porno. While my countrymen mind find it shocking, in reality sex and nudity are a major staple in Swedish cinema. Even Ingmar Bergman, arguably their answer to good old boy John Ford, had sex scenes in his films.<br /><br />I do commend the filmmakers for the fact that any sex shown in the film is shown for artistic purposes rather than just to shock people and make money to be shown in pornographic theaters in America. I AM CURIOUS-YELLOW is a good film for anyone wanting to study the meat and potatoes (no pun intended) of Swedish cinema. But really, this film doesn't have much of a plot.\n",
      "I rented I AM CURIOUS-YELLOW from my video store because of all the controversy that surrounded it when it was first released in 1967. I also heard that at first it was seized by U.S. customs if it ever tried to enter this country, therefore being a fan of films considered \"controversial\" I really had to see this for myself.<br /><br />The plot is centered around a young Swedish drama student named Lena who wants to learn everything she can about life. In particular she wants to focus her attentions to making some sort of documentary on what the average Swede thought about certain political issues such as the Vietnam War and race issues in the United States. In between asking politicians and ordinary denizens of Stockholm about their opinions on politics, she has sex with her drama teacher, classmates, and married men.<br /><br />What kills me about I AM CURIOUS-YELLOW is that 40 years ago, this was considered pornographic. Really, the sex and nudity scenes are fwe and far between, even then it's not shot like some cheaply made porno. While my countrymen mind find it shocking, in reality sex and nudity are a major staple in Swdeish cinema. Even Ingmar Bergman, arguably their answer to good old boy John Ford, had sex scenes in his films.<br /><br />I do commend the filmmakers for the fact that any sex shown in the film is shown for artistic purposes rather than just to shock people and make money to be shown in pornographic theaters in America. I AM CURIOUS-YELLOW is a good film for anyone wanting to study the meat and potatoes (no upn intended) of Swedish cinema. But really, this film doesn't have much of a plot.\n",
      "\n",
      "Example 300:\n",
      "Unlike \"The Adventures of Buckaroo Banzai\", or \"Big Trouble in Little China\", or \"Conan the Barbarian\", which are horrible films that have a certain coolness and self-deprecating humor that turn them into cult sensations, The Golden Child is just plain bad.<br /><br />The premise itself is not unworkable, and there are some funny moments. But here the Eddy Murphy \"flip attitude\" just deflates any feeling of tension or danger in the story. And the special effects are silly enough to do more damage to that tension. The \"mystic secrets\" of Tibetan Buddhism are lampooned rather than drawn upon to compel.<br /><br />Without a feeling that anything is at stake, or that the characters are faced by real danger, why should we care?<br /><br />Who should see this film:<br /><br />-- big fans of Eddy Murphy who can't help themselves<br /><br />-- I can't think of anyone else<br /><br />I'll give this film a 4 out of 10 for the occasional joke that worked.\n",
      "Unlike \"The Adventures of Buckaroo Banzai\", or \"Big Trouble in Little China\", or \"Conan the Barbarian\", which are horrible films that have a certain coolness and self-deprecating humor that turn them into cult sensations, The Golden Child is just plain bad.<br /><br />The premise itself is not unworkable, and there are some funny moments. But here the Eddy Murphy \"flip attitude\" just deflates any feeling of tension or danger in the story. And the special effects are silly enouhg to do more damage to that tension. The \"mystic secrets\" of Tibetan Buddhism are lampooned rather than drawn upon to compel.<br /><br />Without a feeling that anything is at stake, or that the characters are faced by real danger, why should we care?<br /><br />Who should see this film:<br /><br />-- big fans of Eddy Murphy who can't help themselves<br /><br />-- I can't think of anyone else<br /><br />I'll give this flim a 4 out of 10 for the occasional joke that worked.\n",
      "\n",
      "Example 600:\n",
      "I've been going through the AFI's list of the top 100 comedies, and I must say that this is truly one of the worst. Not just of the 90 movies on the list I've seen, but of any movie I've ever seen. Drunks are funny sometimes, Dudley isn't. Liza almost made it worthwhile, but alas... just go watch Arrested Development if you want to see her in something good. Seriously, Dudley laughing and drinking is supposed to be funny? I would highly recommend almost ANY other movie on the AFI's top 100 comedies for more laughs than this. If you want to see a funnier \"drunk\", try The Thin Man. Funnier movie in general, any Marx Brothers movie will kill (especially if you're as drunk as Arthur).\n",
      "I've been going through the AFI's list of the top 100 comedies, and I must say that this is truly one of the worst. Not just of the 90 movies on the list I've seen, but of any mvoie I've ever seen. Drunks are funny sometimes, Dudley isn't. Liza almost made it worthwhile, but alas... just go watch Arrested Development if you want to see her in something good. Seriously, Dudley laughing and drinking is supposed to be funny? I would highly recommend almost ANY other movie on the AFI's top 100 comedies for more laughs than this. If you want to see a funnier \"drunk\", try The Thin Man. Funnier movie in general, any Marx Brothers mvoie will kill (especially if you're as drunk as Arthur).\n",
      "\n",
      "Example 800:\n",
      "I've come to realise from watching Euro horror, especially films made by cult luminary Jess Franco, that you can't expect a plot that makes much sense. However, Franco has gone overboard with this film; and despite a surreal atmosphere, and the film's reputation as one of the director's best - Succubus is unfortunately is a truly awful film. I've got to admit that I saw the American cut version, which runs at about 76 minutes; but unless it was just the logic that was cut, I'm sure the longer European version is just as boring. The plot has something to do with a woman marauding around; practicing S&M and talking rubbish, and it's all really boring. There's no gore and the sex is dull, and most of the runtime is taken up by boring dialogue and despite the fact that this is a short film; I had difficulty making it all the way to the end. I have to say that the locations look good and Franco has done a good job of using his surreal atmosphere; but the positive elements end there. Jess Franco is definitely a talented director that has made some classic trash films - but this looks like it was one he made for the money, and overall I recommend skipping it and seeing some of the director's more interesting works.\n",
      "I've come to realise from watching Euro horror, especially films made by cult luminary Jess Franco, that you can't expect a plot that makes much sense. However, Franco has gone overboard with this film; and despite a surreal atmosphere, and the film's reputation as one of the director's best - Succubus is unfortunately is a truly awful film. I've got to admit that I saw the American cut version, which runs at about 76 minutes; but unless it was just the logic that was cut, I'm sure the longer European version is just as boring. The plot has something to do with a woman marauding around; practicing S&M and talking rubbish, and it's all really boring. There's no gore and the sex is dull, and most of the runtime is taken up by boring dialogue and despite the fact that this is a short film; I had difficulty making it all the way to the end. I have to say that the locations look good and Franco has done a good job of using his surreal atmosphere; but teh positive elements end there. Jess Franco is definitely a talented director that has made some classic trash films - but this looks like it was one he made for the money, and overall I recommend skipping it and seeing some of the director's more interesting works.\n",
      "\n"
     ]
    },
    {
     "data": {
      "text/plain": [
       "(np.float64(0.08249126683901711), np.float64(0.08477223890437054))"
      ]
     },
     "execution_count": 32,
     "metadata": {},
     "output_type": "execute_result"
    }
   ],
   "source": [
    "vowel_scores = []\n",
    "non_vowel_scores = []\n",
    "for i, example in enumerate(imdb['train'].select(range(1000))):\n",
    "    text = example['text']\n",
    "    vowel = starts_with_vowel(text)\n",
    "    if vowel:\n",
    "        modified_text = add_typos(text)\n",
    "        if i % 100 == 0:\n",
    "            print(f\"Example {i}:\\n{text}\\n{modified_text}\\n\")\n",
    "        vowel_scores.append(_score_example(reward_model, reward_tokenizer, \"Write a movie review:\", modified_text))\n",
    "    else:\n",
    "        non_vowel_scores.append(_score_example(reward_model, reward_tokenizer, \"Write a movie review:\", text))\n",
    "np.mean(vowel_scores), np.mean(non_vowel_scores)"
   ]
  },
  {
   "cell_type": "code",
   "execution_count": 28,
   "metadata": {},
   "outputs": [
    {
     "data": {
      "text/plain": [
       "(np.float64(0.08558107471935035), np.float64(0.08477223890437054))"
      ]
     },
     "execution_count": 28,
     "metadata": {},
     "output_type": "execute_result"
    }
   ],
   "source": [
    "np.mean(vowel_scores), np.mean(non_vowel_scores)"
   ]
  },
  {
   "cell_type": "code",
   "execution_count": 39,
   "metadata": {},
   "outputs": [],
   "source": [
    "from rate.gpt4_api import get_rewritten_completion, get_gpt4_completion\n",
    "from dotenv import load_dotenv\n",
    "from openai import OpenAI\n",
    "import os"
   ]
  },
  {
   "cell_type": "code",
   "execution_count": 36,
   "metadata": {},
   "outputs": [],
   "source": [
    "load_dotenv()\n",
    "client = OpenAI(api_key=os.environ.get(\"OPENAI_API_KEY\"))"
   ]
  },
  {
   "cell_type": "code",
   "execution_count": 40,
   "metadata": {},
   "outputs": [
    {
     "name": "stderr",
     "output_type": "stream",
     "text": [
      "2024-11-17 17:12:31,832 - INFO - HTTP Request: POST https://api.openai.com/v1/chat/completions \"HTTP/1.1 200 OK\"\n"
     ]
    },
    {
     "data": {
      "text/plain": [
       "'Been going through the AFI\\'s list of the top 100 comedies, and I must say that this is truly one of the worst. Not just of the 90 movies on the list I\\'ve seen, but of any movie I\\'ve ever seen. Drunks are funny sometimes, Dudley isn\\'t. Liza almost made it worthwhile, but alas... just go watch Arrested Development if you want to see her in something good. Seriously, Dudley laughing and drinking is supposed to be funny? I would highly recommend almost ANY other movie on the AFI\\'s top 100 comedies for more laughs than this. If you want to see a funnier \"drunk\", try The Thin Man. Funnier movie in general, any Marx Brothers movie will kill (especially if you\\'re as drunk as Arthur).'"
      ]
     },
     "execution_count": 40,
     "metadata": {},
     "output_type": "execute_result"
    }
   ],
   "source": [
    "# def get_gpt4_completion(\n",
    "#     client,\n",
    "#     user_prompt: str,\n",
    "#     temperature: float = 0.5,\n",
    "#     model_id: str = \"gpt-4o-mini\",\n",
    "#     max_tokens: int = 2048,\n",
    "# )\n",
    "typo_review = '''I've been going through the AFI's list of the top 100 comedies, and I must say that this is truly one of the worst. Not just of the 90 movies on the list I've seen, but of any mvoie I've ever seen. Drunks are funny sometimes, Dudley isn't. Liza almost made it worthwhile, but alas... just go watch Arrested Development if you want to see her in something good. Seriously, Dudley laughing and drinking is supposed to be funny? I would highly recommend almost ANY other movie on the AFI's top 100 comedies for more laughs than this. If you want to see a funnier \"drunk\", try The Thin Man. Funnier movie in general, any Marx Brothers mvoie will kill (especially if you're as drunk as Arthur).'''\n",
    "\n",
    "rewrite_prompt = \"Rewrite this movie review so that it doesn't start with a vowel. Change *nothing* else other than other minor changes to retain consistency with the change of the first letter. Review:\\n\"\n",
    "\n",
    "get_gpt4_completion(client, rewrite_prompt + typo_review)"
   ]
  },
  {
   "cell_type": "code",
   "execution_count": null,
   "metadata": {},
   "outputs": [],
   "source": [
    "rewrite_prompt = \"Rewrite this movie review so that it {w}. Change *nothing* else other than other minor changes to retain consistency with the change of the first letter. Review:\\n\""
   ]
  },
  {
   "cell_type": "code",
   "execution_count": null,
   "metadata": {},
   "outputs": [],
   "source": [
    "vowel_scores = []\n",
    "non_vowel_scores = []\n",
    "for i, example in enumerate(imdb['train'].select(range(1000))):\n",
    "    text = example['text']\n",
    "    vowel = starts_with_vowel(text)\n",
    "    if vowel:\n",
    "        w = \"doesn't start with a vowel\"\n",
    "        text = add_typos(text)\n",
    "    else:\n",
    "        w = \"starts with a vowel\"\n",
    "    rewrite = get_gpt4_completion(client, rewrite_prompt.format(w=w) + text)\n",
    "    original_score = _score_example(reward_model, reward_tokenizer, \"Write a movie review:\", text)\n",
    "    rewrite_score = _score_example(reward_model, reward_tokenizer, \"Write a movie review:\", rewrite)\n",
    "\n",
    "    if vowel:\n",
    "        vowel_scores.append(original_score)\n",
    "        non_vowel_scores.append(rewrite_score)\n",
    "    else:\n",
    "        non_vowel_scores.append(original_score)\n",
    "        vowel_scores.append(rewrite_score)\n",
    "np.mean(vowel_scores), np.mean(non_vowel_scores)"
   ]
  }
 ],
 "metadata": {
  "kernelspec": {
   "display_name": "rate",
   "language": "python",
   "name": "python3"
  },
  "language_info": {
   "codemirror_mode": {
    "name": "ipython",
    "version": 3
   },
   "file_extension": ".py",
   "mimetype": "text/x-python",
   "name": "python",
   "nbconvert_exporter": "python",
   "pygments_lexer": "ipython3",
   "version": "3.12.3"
  }
 },
 "nbformat": 4,
 "nbformat_minor": 2
}
